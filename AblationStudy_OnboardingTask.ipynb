{
  "nbformat": 4,
  "nbformat_minor": 0,
  "metadata": {
    "colab": {
      "provenance": [],
      "gpuType": "T4",
      "include_colab_link": true
    },
    "kernelspec": {
      "name": "python3",
      "display_name": "Python 3"
    },
    "language_info": {
      "name": "python"
    },
    "accelerator": "GPU"
  },
  "cells": [
    {
      "cell_type": "markdown",
      "metadata": {
        "id": "view-in-github",
        "colab_type": "text"
      },
      "source": [
        "<a href=\"https://colab.research.google.com/github/salinator-hub/Dspy-/blob/main/AblationStudy_OnboardingTask.ipynb\" target=\"_parent\"><img src=\"https://colab.research.google.com/assets/colab-badge.svg\" alt=\"Open In Colab\"/></a>"
      ]
    },
    {
      "cell_type": "markdown",
      "source": [
        "# Serve the model using vLLM"
      ],
      "metadata": {
        "id": "IoWlaISn36OH"
      }
    },
    {
      "cell_type": "code",
      "execution_count": 1,
      "metadata": {
        "id": "iRD5aN86v6ED",
        "outputId": "e06b5545-9ee5-4b24-a625-2355e3bfb702",
        "colab": {
          "base_uri": "https://localhost:8080/"
        }
      },
      "outputs": [
        {
          "output_type": "stream",
          "name": "stdout",
          "text": [
            "Collecting dspy-ai\n",
            "  Downloading dspy_ai-2.1.10-py3-none-any.whl (152 kB)\n",
            "\u001b[2K     \u001b[90m━━━━━━━━━━━━━━━━━━━━━━━━━━━━━━━━━━━━━━━━\u001b[0m \u001b[32m152.6/152.6 kB\u001b[0m \u001b[31m1.6 MB/s\u001b[0m eta \u001b[36m0:00:00\u001b[0m\n",
            "\u001b[?25hCollecting vllm\n",
            "  Downloading vllm-0.3.1-cp310-cp310-manylinux1_x86_64.whl (41.4 MB)\n",
            "\u001b[2K     \u001b[90m━━━━━━━━━━━━━━━━━━━━━━━━━━━━━━━━━━━━━━━━\u001b[0m \u001b[32m41.4/41.4 MB\u001b[0m \u001b[31m12.4 MB/s\u001b[0m eta \u001b[36m0:00:00\u001b[0m\n",
            "\u001b[?25hCollecting backoff~=2.2.1 (from dspy-ai)\n",
            "  Downloading backoff-2.2.1-py3-none-any.whl (15 kB)\n",
            "Requirement already satisfied: joblib~=1.3.2 in /usr/local/lib/python3.10/dist-packages (from dspy-ai) (1.3.2)\n",
            "Collecting openai<2.0.0,>=0.28.1 (from dspy-ai)\n",
            "  Downloading openai-1.12.0-py3-none-any.whl (226 kB)\n",
            "\u001b[2K     \u001b[90m━━━━━━━━━━━━━━━━━━━━━━━━━━━━━━━━━━━━━━━━\u001b[0m \u001b[32m226.7/226.7 kB\u001b[0m \u001b[31m24.9 MB/s\u001b[0m eta \u001b[36m0:00:00\u001b[0m\n",
            "\u001b[?25hCollecting pandas~=2.1.1 (from dspy-ai)\n",
            "  Downloading pandas-2.1.4-cp310-cp310-manylinux_2_17_x86_64.manylinux2014_x86_64.whl (12.3 MB)\n",
            "\u001b[2K     \u001b[90m━━━━━━━━━━━━━━━━━━━━━━━━━━━━━━━━━━━━━━━━\u001b[0m \u001b[32m12.3/12.3 MB\u001b[0m \u001b[31m29.6 MB/s\u001b[0m eta \u001b[36m0:00:00\u001b[0m\n",
            "\u001b[?25hCollecting regex~=2023.10.3 (from dspy-ai)\n",
            "  Downloading regex-2023.10.3-cp310-cp310-manylinux_2_17_x86_64.manylinux2014_x86_64.whl (773 kB)\n",
            "\u001b[2K     \u001b[90m━━━━━━━━━━━━━━━━━━━━━━━━━━━━━━━━━━━━━━━━\u001b[0m \u001b[32m773.9/773.9 kB\u001b[0m \u001b[31m28.8 MB/s\u001b[0m eta \u001b[36m0:00:00\u001b[0m\n",
            "\u001b[?25hCollecting ujson~=5.8.0 (from dspy-ai)\n",
            "  Downloading ujson-5.8.0-cp310-cp310-manylinux_2_17_x86_64.manylinux2014_x86_64.whl (53 kB)\n",
            "\u001b[2K     \u001b[90m━━━━━━━━━━━━━━━━━━━━━━━━━━━━━━━━━━━━━━━━\u001b[0m \u001b[32m53.9/53.9 kB\u001b[0m \u001b[31m6.1 MB/s\u001b[0m eta \u001b[36m0:00:00\u001b[0m\n",
            "\u001b[?25hRequirement already satisfied: tqdm~=4.66.1 in /usr/local/lib/python3.10/dist-packages (from dspy-ai) (4.66.2)\n",
            "Collecting datasets~=2.14.6 (from dspy-ai)\n",
            "  Downloading datasets-2.14.7-py3-none-any.whl (520 kB)\n",
            "\u001b[2K     \u001b[90m━━━━━━━━━━━━━━━━━━━━━━━━━━━━━━━━━━━━━━━━\u001b[0m \u001b[32m520.4/520.4 kB\u001b[0m \u001b[31m55.5 MB/s\u001b[0m eta \u001b[36m0:00:00\u001b[0m\n",
            "\u001b[?25hRequirement already satisfied: requests~=2.31.0 in /usr/local/lib/python3.10/dist-packages (from dspy-ai) (2.31.0)\n",
            "Collecting optuna~=3.4.0 (from dspy-ai)\n",
            "  Downloading optuna-3.4.0-py3-none-any.whl (409 kB)\n",
            "\u001b[2K     \u001b[90m━━━━━━━━━━━━━━━━━━━━━━━━━━━━━━━━━━━━━━━━\u001b[0m \u001b[32m409.6/409.6 kB\u001b[0m \u001b[31m43.1 MB/s\u001b[0m eta \u001b[36m0:00:00\u001b[0m\n",
            "\u001b[?25hCollecting ninja (from vllm)\n",
            "  Downloading ninja-1.11.1.1-py2.py3-none-manylinux1_x86_64.manylinux_2_5_x86_64.whl (307 kB)\n",
            "\u001b[2K     \u001b[90m━━━━━━━━━━━━━━━━━━━━━━━━━━━━━━━━━━━━━━━━\u001b[0m \u001b[32m307.2/307.2 kB\u001b[0m \u001b[31m40.5 MB/s\u001b[0m eta \u001b[36m0:00:00\u001b[0m\n",
            "\u001b[?25hRequirement already satisfied: psutil in /usr/local/lib/python3.10/dist-packages (from vllm) (5.9.5)\n",
            "Collecting ray>=2.9 (from vllm)\n",
            "  Downloading ray-2.9.2-cp310-cp310-manylinux2014_x86_64.whl (64.9 MB)\n",
            "\u001b[2K     \u001b[90m━━━━━━━━━━━━━━━━━━━━━━━━━━━━━━━━━━━━━━━━\u001b[0m \u001b[32m64.9/64.9 MB\u001b[0m \u001b[31m10.3 MB/s\u001b[0m eta \u001b[36m0:00:00\u001b[0m\n",
            "\u001b[?25hRequirement already satisfied: sentencepiece in /usr/local/lib/python3.10/dist-packages (from vllm) (0.1.99)\n",
            "Requirement already satisfied: numpy in /usr/local/lib/python3.10/dist-packages (from vllm) (1.25.2)\n",
            "Collecting torch==2.1.2 (from vllm)\n",
            "  Downloading torch-2.1.2-cp310-cp310-manylinux1_x86_64.whl (670.2 MB)\n",
            "\u001b[2K     \u001b[90m━━━━━━━━━━━━━━━━━━━━━━━━━━━━━━━━━━━━━━━━\u001b[0m \u001b[32m670.2/670.2 MB\u001b[0m \u001b[31m2.3 MB/s\u001b[0m eta \u001b[36m0:00:00\u001b[0m\n",
            "\u001b[?25hCollecting transformers>=4.37.0 (from vllm)\n",
            "  Downloading transformers-4.37.2-py3-none-any.whl (8.4 MB)\n",
            "\u001b[2K     \u001b[90m━━━━━━━━━━━━━━━━━━━━━━━━━━━━━━━━━━━━━━━━\u001b[0m \u001b[32m8.4/8.4 MB\u001b[0m \u001b[31m23.5 MB/s\u001b[0m eta \u001b[36m0:00:00\u001b[0m\n",
            "\u001b[?25hCollecting xformers==0.0.23.post1 (from vllm)\n",
            "  Downloading xformers-0.0.23.post1-cp310-cp310-manylinux2014_x86_64.whl (213.0 MB)\n",
            "\u001b[2K     \u001b[90m━━━━━━━━━━━━━━━━━━━━━━━━━━━━━━━━━━━━━━━━\u001b[0m \u001b[32m213.0/213.0 MB\u001b[0m \u001b[31m5.1 MB/s\u001b[0m eta \u001b[36m0:00:00\u001b[0m\n",
            "\u001b[?25hCollecting fastapi (from vllm)\n",
            "  Downloading fastapi-0.109.2-py3-none-any.whl (92 kB)\n",
            "\u001b[2K     \u001b[90m━━━━━━━━━━━━━━━━━━━━━━━━━━━━━━━━━━━━━━━━\u001b[0m \u001b[32m92.1/92.1 kB\u001b[0m \u001b[31m15.6 MB/s\u001b[0m eta \u001b[36m0:00:00\u001b[0m\n",
            "\u001b[?25hCollecting uvicorn[standard] (from vllm)\n",
            "  Downloading uvicorn-0.27.1-py3-none-any.whl (60 kB)\n",
            "\u001b[2K     \u001b[90m━━━━━━━━━━━━━━━━━━━━━━━━━━━━━━━━━━━━━━━━\u001b[0m \u001b[32m60.8/60.8 kB\u001b[0m \u001b[31m9.0 MB/s\u001b[0m eta \u001b[36m0:00:00\u001b[0m\n",
            "\u001b[?25hRequirement already satisfied: pydantic>=2.0 in /usr/local/lib/python3.10/dist-packages (from vllm) (2.6.1)\n",
            "Collecting aioprometheus[starlette] (from vllm)\n",
            "  Downloading aioprometheus-23.12.0-py3-none-any.whl (31 kB)\n",
            "Collecting pynvml==11.5.0 (from vllm)\n",
            "  Downloading pynvml-11.5.0-py3-none-any.whl (53 kB)\n",
            "\u001b[2K     \u001b[90m━━━━━━━━━━━━━━━━━━━━━━━━━━━━━━━━━━━━━━━━\u001b[0m \u001b[32m53.1/53.1 kB\u001b[0m \u001b[31m9.2 MB/s\u001b[0m eta \u001b[36m0:00:00\u001b[0m\n",
            "\u001b[?25hRequirement already satisfied: triton>=2.1.0 in /usr/local/lib/python3.10/dist-packages (from vllm) (2.1.0)\n",
            "Collecting cupy-cuda12x==12.1.0 (from vllm)\n",
            "  Downloading cupy_cuda12x-12.1.0-cp310-cp310-manylinux2014_x86_64.whl (83.0 MB)\n",
            "\u001b[2K     \u001b[90m━━━━━━━━━━━━━━━━━━━━━━━━━━━━━━━━━━━━━━━━\u001b[0m \u001b[32m83.0/83.0 MB\u001b[0m \u001b[31m7.3 MB/s\u001b[0m eta \u001b[36m0:00:00\u001b[0m\n",
            "\u001b[?25hRequirement already satisfied: fastrlock>=0.5 in /usr/local/lib/python3.10/dist-packages (from cupy-cuda12x==12.1.0->vllm) (0.8.2)\n",
            "Requirement already satisfied: filelock in /usr/local/lib/python3.10/dist-packages (from torch==2.1.2->vllm) (3.13.1)\n",
            "Requirement already satisfied: typing-extensions in /usr/local/lib/python3.10/dist-packages (from torch==2.1.2->vllm) (4.9.0)\n",
            "Requirement already satisfied: sympy in /usr/local/lib/python3.10/dist-packages (from torch==2.1.2->vllm) (1.12)\n",
            "Requirement already satisfied: networkx in /usr/local/lib/python3.10/dist-packages (from torch==2.1.2->vllm) (3.2.1)\n",
            "Requirement already satisfied: jinja2 in /usr/local/lib/python3.10/dist-packages (from torch==2.1.2->vllm) (3.1.3)\n",
            "Requirement already satisfied: fsspec in /usr/local/lib/python3.10/dist-packages (from torch==2.1.2->vllm) (2023.6.0)\n",
            "Collecting nvidia-cuda-nvrtc-cu12==12.1.105 (from torch==2.1.2->vllm)\n",
            "  Downloading nvidia_cuda_nvrtc_cu12-12.1.105-py3-none-manylinux1_x86_64.whl (23.7 MB)\n",
            "\u001b[2K     \u001b[90m━━━━━━━━━━━━━━━━━━━━━━━━━━━━━━━━━━━━━━━━\u001b[0m \u001b[32m23.7/23.7 MB\u001b[0m \u001b[31m7.0 MB/s\u001b[0m eta \u001b[36m0:00:00\u001b[0m\n",
            "\u001b[?25hCollecting nvidia-cuda-runtime-cu12==12.1.105 (from torch==2.1.2->vllm)\n",
            "  Downloading nvidia_cuda_runtime_cu12-12.1.105-py3-none-manylinux1_x86_64.whl (823 kB)\n",
            "\u001b[2K     \u001b[90m━━━━━━━━━━━━━━━━━━━━━━━━━━━━━━━━━━━━━━━━\u001b[0m \u001b[32m823.6/823.6 kB\u001b[0m \u001b[31m5.8 MB/s\u001b[0m eta \u001b[36m0:00:00\u001b[0m\n",
            "\u001b[?25hCollecting nvidia-cuda-cupti-cu12==12.1.105 (from torch==2.1.2->vllm)\n",
            "  Downloading nvidia_cuda_cupti_cu12-12.1.105-py3-none-manylinux1_x86_64.whl (14.1 MB)\n",
            "\u001b[2K     \u001b[90m━━━━━━━━━━━━━━━━━━━━━━━━━━━━━━━━━━━━━━━━\u001b[0m \u001b[32m14.1/14.1 MB\u001b[0m \u001b[31m5.1 MB/s\u001b[0m eta \u001b[36m0:00:00\u001b[0m\n",
            "\u001b[?25hCollecting nvidia-cudnn-cu12==8.9.2.26 (from torch==2.1.2->vllm)\n",
            "  Downloading nvidia_cudnn_cu12-8.9.2.26-py3-none-manylinux1_x86_64.whl (731.7 MB)\n",
            "\u001b[2K     \u001b[90m━━━━━━━━━━━━━━━━━━━━━━━━━━━━━━━━━━━━━━━━\u001b[0m \u001b[32m731.7/731.7 MB\u001b[0m \u001b[31m1.9 MB/s\u001b[0m eta \u001b[36m0:00:00\u001b[0m\n",
            "\u001b[?25hCollecting nvidia-cublas-cu12==12.1.3.1 (from torch==2.1.2->vllm)\n",
            "  Downloading nvidia_cublas_cu12-12.1.3.1-py3-none-manylinux1_x86_64.whl (410.6 MB)\n",
            "\u001b[2K     \u001b[90m━━━━━━━━━━━━━━━━━━━━━━━━━━━━━━━━━━━━━━━━\u001b[0m \u001b[32m410.6/410.6 MB\u001b[0m \u001b[31m2.5 MB/s\u001b[0m eta \u001b[36m0:00:00\u001b[0m\n",
            "\u001b[?25hCollecting nvidia-cufft-cu12==11.0.2.54 (from torch==2.1.2->vllm)\n",
            "  Downloading nvidia_cufft_cu12-11.0.2.54-py3-none-manylinux1_x86_64.whl (121.6 MB)\n",
            "\u001b[2K     \u001b[90m━━━━━━━━━━━━━━━━━━━━━━━━━━━━━━━━━━━━━━━━\u001b[0m \u001b[32m121.6/121.6 MB\u001b[0m \u001b[31m4.6 MB/s\u001b[0m eta \u001b[36m0:00:00\u001b[0m\n",
            "\u001b[?25hCollecting nvidia-curand-cu12==10.3.2.106 (from torch==2.1.2->vllm)\n",
            "  Downloading nvidia_curand_cu12-10.3.2.106-py3-none-manylinux1_x86_64.whl (56.5 MB)\n",
            "\u001b[2K     \u001b[90m━━━━━━━━━━━━━━━━━━━━━━━━━━━━━━━━━━━━━━━━\u001b[0m \u001b[32m56.5/56.5 MB\u001b[0m \u001b[31m7.5 MB/s\u001b[0m eta \u001b[36m0:00:00\u001b[0m\n",
            "\u001b[?25hCollecting nvidia-cusolver-cu12==11.4.5.107 (from torch==2.1.2->vllm)\n",
            "  Downloading nvidia_cusolver_cu12-11.4.5.107-py3-none-manylinux1_x86_64.whl (124.2 MB)\n",
            "\u001b[2K     \u001b[90m━━━━━━━━━━━━━━━━━━━━━━━━━━━━━━━━━━━━━━━━\u001b[0m \u001b[32m124.2/124.2 MB\u001b[0m \u001b[31m7.6 MB/s\u001b[0m eta \u001b[36m0:00:00\u001b[0m\n",
            "\u001b[?25hCollecting nvidia-cusparse-cu12==12.1.0.106 (from torch==2.1.2->vllm)\n",
            "  Downloading nvidia_cusparse_cu12-12.1.0.106-py3-none-manylinux1_x86_64.whl (196.0 MB)\n",
            "\u001b[2K     \u001b[90m━━━━━━━━━━━━━━━━━━━━━━━━━━━━━━━━━━━━━━━━\u001b[0m \u001b[32m196.0/196.0 MB\u001b[0m \u001b[31m6.3 MB/s\u001b[0m eta \u001b[36m0:00:00\u001b[0m\n",
            "\u001b[?25hCollecting nvidia-nccl-cu12==2.18.1 (from torch==2.1.2->vllm)\n",
            "  Downloading nvidia_nccl_cu12-2.18.1-py3-none-manylinux1_x86_64.whl (209.8 MB)\n",
            "\u001b[2K     \u001b[90m━━━━━━━━━━━━━━━━━━━━━━━━━━━━━━━━━━━━━━━━\u001b[0m \u001b[32m209.8/209.8 MB\u001b[0m \u001b[31m5.2 MB/s\u001b[0m eta \u001b[36m0:00:00\u001b[0m\n",
            "\u001b[?25hCollecting nvidia-nvtx-cu12==12.1.105 (from torch==2.1.2->vllm)\n",
            "  Downloading nvidia_nvtx_cu12-12.1.105-py3-none-manylinux1_x86_64.whl (99 kB)\n",
            "\u001b[2K     \u001b[90m━━━━━━━━━━━━━━━━━━━━━━━━━━━━━━━━━━━━━━━━\u001b[0m \u001b[32m99.1/99.1 kB\u001b[0m \u001b[31m15.5 MB/s\u001b[0m eta \u001b[36m0:00:00\u001b[0m\n",
            "\u001b[?25hCollecting nvidia-nvjitlink-cu12 (from nvidia-cusolver-cu12==11.4.5.107->torch==2.1.2->vllm)\n",
            "  Downloading nvidia_nvjitlink_cu12-12.3.101-py3-none-manylinux1_x86_64.whl (20.5 MB)\n",
            "\u001b[2K     \u001b[90m━━━━━━━━━━━━━━━━━━━━━━━━━━━━━━━━━━━━━━━━\u001b[0m \u001b[32m20.5/20.5 MB\u001b[0m \u001b[31m47.8 MB/s\u001b[0m eta \u001b[36m0:00:00\u001b[0m\n",
            "\u001b[?25hRequirement already satisfied: pyarrow>=8.0.0 in /usr/local/lib/python3.10/dist-packages (from datasets~=2.14.6->dspy-ai) (10.0.1)\n",
            "Requirement already satisfied: pyarrow-hotfix in /usr/local/lib/python3.10/dist-packages (from datasets~=2.14.6->dspy-ai) (0.6)\n",
            "Collecting dill<0.3.8,>=0.3.0 (from datasets~=2.14.6->dspy-ai)\n",
            "  Downloading dill-0.3.7-py3-none-any.whl (115 kB)\n",
            "\u001b[2K     \u001b[90m━━━━━━━━━━━━━━━━━━━━━━━━━━━━━━━━━━━━━━━━\u001b[0m \u001b[32m115.3/115.3 kB\u001b[0m \u001b[31m19.3 MB/s\u001b[0m eta \u001b[36m0:00:00\u001b[0m\n",
            "\u001b[?25hRequirement already satisfied: xxhash in /usr/local/lib/python3.10/dist-packages (from datasets~=2.14.6->dspy-ai) (3.4.1)\n",
            "Collecting multiprocess (from datasets~=2.14.6->dspy-ai)\n",
            "  Downloading multiprocess-0.70.16-py310-none-any.whl (134 kB)\n",
            "\u001b[2K     \u001b[90m━━━━━━━━━━━━━━━━━━━━━━━━━━━━━━━━━━━━━━━━\u001b[0m \u001b[32m134.8/134.8 kB\u001b[0m \u001b[31m21.5 MB/s\u001b[0m eta \u001b[36m0:00:00\u001b[0m\n",
            "\u001b[?25hRequirement already satisfied: aiohttp in /usr/local/lib/python3.10/dist-packages (from datasets~=2.14.6->dspy-ai) (3.9.3)\n",
            "Requirement already satisfied: huggingface-hub<1.0.0,>=0.14.0 in /usr/local/lib/python3.10/dist-packages (from datasets~=2.14.6->dspy-ai) (0.20.3)\n",
            "Requirement already satisfied: packaging in /usr/local/lib/python3.10/dist-packages (from datasets~=2.14.6->dspy-ai) (23.2)\n",
            "Requirement already satisfied: pyyaml>=5.1 in /usr/local/lib/python3.10/dist-packages (from datasets~=2.14.6->dspy-ai) (6.0.1)\n",
            "Requirement already satisfied: anyio<5,>=3.5.0 in /usr/local/lib/python3.10/dist-packages (from openai<2.0.0,>=0.28.1->dspy-ai) (3.7.1)\n",
            "Requirement already satisfied: distro<2,>=1.7.0 in /usr/lib/python3/dist-packages (from openai<2.0.0,>=0.28.1->dspy-ai) (1.7.0)\n",
            "Collecting httpx<1,>=0.23.0 (from openai<2.0.0,>=0.28.1->dspy-ai)\n",
            "  Downloading httpx-0.26.0-py3-none-any.whl (75 kB)\n",
            "\u001b[2K     \u001b[90m━━━━━━━━━━━━━━━━━━━━━━━━━━━━━━━━━━━━━━━━\u001b[0m \u001b[32m75.9/75.9 kB\u001b[0m \u001b[31m12.0 MB/s\u001b[0m eta \u001b[36m0:00:00\u001b[0m\n",
            "\u001b[?25hRequirement already satisfied: sniffio in /usr/local/lib/python3.10/dist-packages (from openai<2.0.0,>=0.28.1->dspy-ai) (1.3.0)\n",
            "Collecting alembic>=1.5.0 (from optuna~=3.4.0->dspy-ai)\n",
            "  Downloading alembic-1.13.1-py3-none-any.whl (233 kB)\n",
            "\u001b[2K     \u001b[90m━━━━━━━━━━━━━━━━━━━━━━━━━━━━━━━━━━━━━━━━\u001b[0m \u001b[32m233.4/233.4 kB\u001b[0m \u001b[31m33.9 MB/s\u001b[0m eta \u001b[36m0:00:00\u001b[0m\n",
            "\u001b[?25hCollecting colorlog (from optuna~=3.4.0->dspy-ai)\n",
            "  Downloading colorlog-6.8.2-py3-none-any.whl (11 kB)\n",
            "Requirement already satisfied: sqlalchemy>=1.3.0 in /usr/local/lib/python3.10/dist-packages (from optuna~=3.4.0->dspy-ai) (2.0.27)\n",
            "Requirement already satisfied: python-dateutil>=2.8.2 in /usr/local/lib/python3.10/dist-packages (from pandas~=2.1.1->dspy-ai) (2.8.2)\n",
            "Requirement already satisfied: pytz>=2020.1 in /usr/local/lib/python3.10/dist-packages (from pandas~=2.1.1->dspy-ai) (2023.4)\n",
            "Collecting tzdata>=2022.1 (from pandas~=2.1.1->dspy-ai)\n",
            "  Downloading tzdata-2024.1-py2.py3-none-any.whl (345 kB)\n",
            "\u001b[2K     \u001b[90m━━━━━━━━━━━━━━━━━━━━━━━━━━━━━━━━━━━━━━━━\u001b[0m \u001b[32m345.4/345.4 kB\u001b[0m \u001b[31m45.4 MB/s\u001b[0m eta \u001b[36m0:00:00\u001b[0m\n",
            "\u001b[?25hRequirement already satisfied: annotated-types>=0.4.0 in /usr/local/lib/python3.10/dist-packages (from pydantic>=2.0->vllm) (0.6.0)\n",
            "Requirement already satisfied: pydantic-core==2.16.2 in /usr/local/lib/python3.10/dist-packages (from pydantic>=2.0->vllm) (2.16.2)\n",
            "Requirement already satisfied: click>=7.0 in /usr/local/lib/python3.10/dist-packages (from ray>=2.9->vllm) (8.1.7)\n",
            "Requirement already satisfied: jsonschema in /usr/local/lib/python3.10/dist-packages (from ray>=2.9->vllm) (4.19.2)\n",
            "Requirement already satisfied: msgpack<2.0.0,>=1.0.0 in /usr/local/lib/python3.10/dist-packages (from ray>=2.9->vllm) (1.0.7)\n",
            "Requirement already satisfied: protobuf!=3.19.5,>=3.15.3 in /usr/local/lib/python3.10/dist-packages (from ray>=2.9->vllm) (3.20.3)\n",
            "Requirement already satisfied: aiosignal in /usr/local/lib/python3.10/dist-packages (from ray>=2.9->vllm) (1.3.1)\n",
            "Requirement already satisfied: frozenlist in /usr/local/lib/python3.10/dist-packages (from ray>=2.9->vllm) (1.4.1)\n",
            "Requirement already satisfied: charset-normalizer<4,>=2 in /usr/local/lib/python3.10/dist-packages (from requests~=2.31.0->dspy-ai) (3.3.2)\n",
            "Requirement already satisfied: idna<4,>=2.5 in /usr/local/lib/python3.10/dist-packages (from requests~=2.31.0->dspy-ai) (3.6)\n",
            "Requirement already satisfied: urllib3<3,>=1.21.1 in /usr/local/lib/python3.10/dist-packages (from requests~=2.31.0->dspy-ai) (2.0.7)\n",
            "Requirement already satisfied: certifi>=2017.4.17 in /usr/local/lib/python3.10/dist-packages (from requests~=2.31.0->dspy-ai) (2024.2.2)\n",
            "Requirement already satisfied: tokenizers<0.19,>=0.14 in /usr/local/lib/python3.10/dist-packages (from transformers>=4.37.0->vllm) (0.15.2)\n",
            "Requirement already satisfied: safetensors>=0.4.1 in /usr/local/lib/python3.10/dist-packages (from transformers>=4.37.0->vllm) (0.4.2)\n",
            "Collecting orjson (from aioprometheus[starlette]->vllm)\n",
            "  Downloading orjson-3.9.14-cp310-cp310-manylinux_2_17_x86_64.manylinux2014_x86_64.whl (138 kB)\n",
            "\u001b[2K     \u001b[90m━━━━━━━━━━━━━━━━━━━━━━━━━━━━━━━━━━━━━━━━\u001b[0m \u001b[32m139.0/139.0 kB\u001b[0m \u001b[31m22.9 MB/s\u001b[0m eta \u001b[36m0:00:00\u001b[0m\n",
            "\u001b[?25hCollecting quantile-python>=1.1 (from aioprometheus[starlette]->vllm)\n",
            "  Downloading quantile-python-1.1.tar.gz (2.9 kB)\n",
            "  Preparing metadata (setup.py) ... \u001b[?25l\u001b[?25hdone\n",
            "Collecting starlette>=0.14.2 (from aioprometheus[starlette]->vllm)\n",
            "  Downloading starlette-0.37.1-py3-none-any.whl (71 kB)\n",
            "\u001b[2K     \u001b[90m━━━━━━━━━━━━━━━━━━━━━━━━━━━━━━━━━━━━━━━━\u001b[0m \u001b[32m72.0/72.0 kB\u001b[0m \u001b[31m11.7 MB/s\u001b[0m eta \u001b[36m0:00:00\u001b[0m\n",
            "\u001b[?25h  Downloading starlette-0.36.3-py3-none-any.whl (71 kB)\n",
            "\u001b[2K     \u001b[90m━━━━━━━━━━━━━━━━━━━━━━━━━━━━━━━━━━━━━━━━\u001b[0m \u001b[32m71.5/71.5 kB\u001b[0m \u001b[31m11.1 MB/s\u001b[0m eta \u001b[36m0:00:00\u001b[0m\n",
            "\u001b[?25hCollecting h11>=0.8 (from uvicorn[standard]->vllm)\n",
            "  Downloading h11-0.14.0-py3-none-any.whl (58 kB)\n",
            "\u001b[2K     \u001b[90m━━━━━━━━━━━━━━━━━━━━━━━━━━━━━━━━━━━━━━━━\u001b[0m \u001b[32m58.3/58.3 kB\u001b[0m \u001b[31m9.1 MB/s\u001b[0m eta \u001b[36m0:00:00\u001b[0m\n",
            "\u001b[?25hCollecting httptools>=0.5.0 (from uvicorn[standard]->vllm)\n",
            "  Downloading httptools-0.6.1-cp310-cp310-manylinux_2_5_x86_64.manylinux1_x86_64.manylinux_2_17_x86_64.manylinux2014_x86_64.whl (341 kB)\n",
            "\u001b[2K     \u001b[90m━━━━━━━━━━━━━━━━━━━━━━━━━━━━━━━━━━━━━━━━\u001b[0m \u001b[32m341.4/341.4 kB\u001b[0m \u001b[31m41.2 MB/s\u001b[0m eta \u001b[36m0:00:00\u001b[0m\n",
            "\u001b[?25hCollecting python-dotenv>=0.13 (from uvicorn[standard]->vllm)\n",
            "  Downloading python_dotenv-1.0.1-py3-none-any.whl (19 kB)\n",
            "Collecting uvloop!=0.15.0,!=0.15.1,>=0.14.0 (from uvicorn[standard]->vllm)\n",
            "  Downloading uvloop-0.19.0-cp310-cp310-manylinux_2_17_x86_64.manylinux2014_x86_64.whl (3.4 MB)\n",
            "\u001b[2K     \u001b[90m━━━━━━━━━━━━━━━━━━━━━━━━━━━━━━━━━━━━━━━━\u001b[0m \u001b[32m3.4/3.4 MB\u001b[0m \u001b[31m55.9 MB/s\u001b[0m eta \u001b[36m0:00:00\u001b[0m\n",
            "\u001b[?25hCollecting watchfiles>=0.13 (from uvicorn[standard]->vllm)\n",
            "  Downloading watchfiles-0.21.0-cp310-cp310-manylinux_2_17_x86_64.manylinux2014_x86_64.whl (1.3 MB)\n",
            "\u001b[2K     \u001b[90m━━━━━━━━━━━━━━━━━━━━━━━━━━━━━━━━━━━━━━━━\u001b[0m \u001b[32m1.3/1.3 MB\u001b[0m \u001b[31m63.6 MB/s\u001b[0m eta \u001b[36m0:00:00\u001b[0m\n",
            "\u001b[?25hCollecting websockets>=10.4 (from uvicorn[standard]->vllm)\n",
            "  Downloading websockets-12.0-cp310-cp310-manylinux_2_5_x86_64.manylinux1_x86_64.manylinux_2_17_x86_64.manylinux2014_x86_64.whl (130 kB)\n",
            "\u001b[2K     \u001b[90m━━━━━━━━━━━━━━━━━━━━━━━━━━━━━━━━━━━━━━━━\u001b[0m \u001b[32m130.2/130.2 kB\u001b[0m \u001b[31m20.7 MB/s\u001b[0m eta \u001b[36m0:00:00\u001b[0m\n",
            "\u001b[?25hCollecting Mako (from alembic>=1.5.0->optuna~=3.4.0->dspy-ai)\n",
            "  Downloading Mako-1.3.2-py3-none-any.whl (78 kB)\n",
            "\u001b[2K     \u001b[90m━━━━━━━━━━━━━━━━━━━━━━━━━━━━━━━━━━━━━━━━\u001b[0m \u001b[32m78.7/78.7 kB\u001b[0m \u001b[31m13.6 MB/s\u001b[0m eta \u001b[36m0:00:00\u001b[0m\n",
            "\u001b[?25hRequirement already satisfied: exceptiongroup in /usr/local/lib/python3.10/dist-packages (from anyio<5,>=3.5.0->openai<2.0.0,>=0.28.1->dspy-ai) (1.2.0)\n",
            "Requirement already satisfied: attrs>=17.3.0 in /usr/local/lib/python3.10/dist-packages (from aiohttp->datasets~=2.14.6->dspy-ai) (23.2.0)\n",
            "Requirement already satisfied: multidict<7.0,>=4.5 in /usr/local/lib/python3.10/dist-packages (from aiohttp->datasets~=2.14.6->dspy-ai) (6.0.5)\n",
            "Requirement already satisfied: yarl<2.0,>=1.0 in /usr/local/lib/python3.10/dist-packages (from aiohttp->datasets~=2.14.6->dspy-ai) (1.9.4)\n",
            "Requirement already satisfied: async-timeout<5.0,>=4.0 in /usr/local/lib/python3.10/dist-packages (from aiohttp->datasets~=2.14.6->dspy-ai) (4.0.3)\n",
            "Collecting httpcore==1.* (from httpx<1,>=0.23.0->openai<2.0.0,>=0.28.1->dspy-ai)\n",
            "  Downloading httpcore-1.0.3-py3-none-any.whl (77 kB)\n",
            "\u001b[2K     \u001b[90m━━━━━━━━━━━━━━━━━━━━━━━━━━━━━━━━━━━━━━━━\u001b[0m \u001b[32m77.0/77.0 kB\u001b[0m \u001b[31m12.3 MB/s\u001b[0m eta \u001b[36m0:00:00\u001b[0m\n",
            "\u001b[?25hRequirement already satisfied: six>=1.5 in /usr/local/lib/python3.10/dist-packages (from python-dateutil>=2.8.2->pandas~=2.1.1->dspy-ai) (1.16.0)\n",
            "Requirement already satisfied: greenlet!=0.4.17 in /usr/local/lib/python3.10/dist-packages (from sqlalchemy>=1.3.0->optuna~=3.4.0->dspy-ai) (3.0.3)\n",
            "Requirement already satisfied: MarkupSafe>=2.0 in /usr/local/lib/python3.10/dist-packages (from jinja2->torch==2.1.2->vllm) (2.1.5)\n",
            "Requirement already satisfied: jsonschema-specifications>=2023.03.6 in /usr/local/lib/python3.10/dist-packages (from jsonschema->ray>=2.9->vllm) (2023.12.1)\n",
            "Requirement already satisfied: referencing>=0.28.4 in /usr/local/lib/python3.10/dist-packages (from jsonschema->ray>=2.9->vllm) (0.33.0)\n",
            "Requirement already satisfied: rpds-py>=0.7.1 in /usr/local/lib/python3.10/dist-packages (from jsonschema->ray>=2.9->vllm) (0.17.1)\n",
            "INFO: pip is looking at multiple versions of multiprocess to determine which version is compatible with other requirements. This could take a while.\n",
            "Collecting multiprocess (from datasets~=2.14.6->dspy-ai)\n",
            "  Downloading multiprocess-0.70.15-py310-none-any.whl (134 kB)\n",
            "\u001b[2K     \u001b[90m━━━━━━━━━━━━━━━━━━━━━━━━━━━━━━━━━━━━━━━━\u001b[0m \u001b[32m134.8/134.8 kB\u001b[0m \u001b[31m18.1 MB/s\u001b[0m eta \u001b[36m0:00:00\u001b[0m\n",
            "\u001b[?25hRequirement already satisfied: mpmath>=0.19 in /usr/local/lib/python3.10/dist-packages (from sympy->torch==2.1.2->vllm) (1.3.0)\n",
            "Building wheels for collected packages: quantile-python\n",
            "  Building wheel for quantile-python (setup.py) ... \u001b[?25l\u001b[?25hdone\n",
            "  Created wheel for quantile-python: filename=quantile_python-1.1-py3-none-any.whl size=3444 sha256=cf8eca5d0e4e94a174e032fc3876cbe60878ed1e6bafb2d2b3aa7dfdb5de3428\n",
            "  Stored in directory: /root/.cache/pip/wheels/6d/f4/0a/0e7d01548a005f9f3fa23101f071d248da052f2a9bf2fe11c6\n",
            "Successfully built quantile-python\n",
            "Installing collected packages: quantile-python, ninja, websockets, uvloop, ujson, tzdata, regex, python-dotenv, pynvml, orjson, nvidia-nvtx-cu12, nvidia-nvjitlink-cu12, nvidia-nccl-cu12, nvidia-curand-cu12, nvidia-cufft-cu12, nvidia-cuda-runtime-cu12, nvidia-cuda-nvrtc-cu12, nvidia-cuda-cupti-cu12, nvidia-cublas-cu12, Mako, httptools, h11, dill, cupy-cuda12x, colorlog, backoff, watchfiles, uvicorn, starlette, pandas, nvidia-cusparse-cu12, nvidia-cudnn-cu12, multiprocess, httpcore, alembic, aioprometheus, optuna, nvidia-cusolver-cu12, httpx, fastapi, transformers, torch, ray, openai, datasets, xformers, dspy-ai, vllm\n",
            "  Attempting uninstall: regex\n",
            "    Found existing installation: regex 2023.12.25\n",
            "    Uninstalling regex-2023.12.25:\n",
            "      Successfully uninstalled regex-2023.12.25\n",
            "  Attempting uninstall: cupy-cuda12x\n",
            "    Found existing installation: cupy-cuda12x 12.2.0\n",
            "    Uninstalling cupy-cuda12x-12.2.0:\n",
            "      Successfully uninstalled cupy-cuda12x-12.2.0\n",
            "  Attempting uninstall: pandas\n",
            "    Found existing installation: pandas 1.5.3\n",
            "    Uninstalling pandas-1.5.3:\n",
            "      Successfully uninstalled pandas-1.5.3\n",
            "  Attempting uninstall: transformers\n",
            "    Found existing installation: transformers 4.35.2\n",
            "    Uninstalling transformers-4.35.2:\n",
            "      Successfully uninstalled transformers-4.35.2\n",
            "  Attempting uninstall: torch\n",
            "    Found existing installation: torch 2.1.0+cu121\n",
            "    Uninstalling torch-2.1.0+cu121:\n",
            "      Successfully uninstalled torch-2.1.0+cu121\n",
            "\u001b[31mERROR: pip's dependency resolver does not currently take into account all the packages that are installed. This behaviour is the source of the following dependency conflicts.\n",
            "lida 0.0.10 requires kaleido, which is not installed.\n",
            "lida 0.0.10 requires python-multipart, which is not installed.\n",
            "llmx 0.0.15a0 requires cohere, which is not installed.\n",
            "llmx 0.0.15a0 requires tiktoken, which is not installed.\n",
            "bigframes 0.20.1 requires pandas<2.1.4,>=1.5.0, but you have pandas 2.1.4 which is incompatible.\n",
            "google-colab 1.0.0 requires pandas==1.5.3, but you have pandas 2.1.4 which is incompatible.\n",
            "torchaudio 2.1.0+cu121 requires torch==2.1.0, but you have torch 2.1.2 which is incompatible.\n",
            "torchdata 0.7.0 requires torch==2.1.0, but you have torch 2.1.2 which is incompatible.\n",
            "torchtext 0.16.0 requires torch==2.1.0, but you have torch 2.1.2 which is incompatible.\n",
            "torchvision 0.16.0+cu121 requires torch==2.1.0, but you have torch 2.1.2 which is incompatible.\u001b[0m\u001b[31m\n",
            "\u001b[0mSuccessfully installed Mako-1.3.2 aioprometheus-23.12.0 alembic-1.13.1 backoff-2.2.1 colorlog-6.8.2 cupy-cuda12x-12.1.0 datasets-2.14.7 dill-0.3.7 dspy-ai-2.1.10 fastapi-0.109.2 h11-0.14.0 httpcore-1.0.3 httptools-0.6.1 httpx-0.26.0 multiprocess-0.70.15 ninja-1.11.1.1 nvidia-cublas-cu12-12.1.3.1 nvidia-cuda-cupti-cu12-12.1.105 nvidia-cuda-nvrtc-cu12-12.1.105 nvidia-cuda-runtime-cu12-12.1.105 nvidia-cudnn-cu12-8.9.2.26 nvidia-cufft-cu12-11.0.2.54 nvidia-curand-cu12-10.3.2.106 nvidia-cusolver-cu12-11.4.5.107 nvidia-cusparse-cu12-12.1.0.106 nvidia-nccl-cu12-2.18.1 nvidia-nvjitlink-cu12-12.3.101 nvidia-nvtx-cu12-12.1.105 openai-1.12.0 optuna-3.4.0 orjson-3.9.14 pandas-2.1.4 pynvml-11.5.0 python-dotenv-1.0.1 quantile-python-1.1 ray-2.9.2 regex-2023.10.3 starlette-0.36.3 torch-2.1.2 transformers-4.37.2 tzdata-2024.1 ujson-5.8.0 uvicorn-0.27.1 uvloop-0.19.0 vllm-0.3.1 watchfiles-0.21.0 websockets-12.0 xformers-0.0.23.post1\n"
          ]
        }
      ],
      "source": [
        "!pip install dspy-ai vllm"
      ]
    },
    {
      "cell_type": "code",
      "source": [
        "# Run server in foreground\n",
        "# !python -m vllm.entrypoints.openai.api_server --model TheBloke/dolphin-2.6-mistral-7B-dpo-laser-AWQ --quantization awq\n",
        "\n",
        "# Run server in the background\n",
        "!nohup python -m vllm.entrypoints.openai.api_server --model TheBloke/dolphin-2.6-mistral-7B-dpo-laser-AWQ --quantization awq > server.log 2>&1 &\n",
        "# stdout is redirected to a file `server.log` using `> server.log`.\n",
        "# We use a quantized model prepared using AWQ quantization"
      ],
      "metadata": {
        "id": "07Jt1JJ4yM1a"
      },
      "execution_count": 2,
      "outputs": []
    },
    {
      "cell_type": "code",
      "source": [
        "# Run this cell again and again to monitor the status of the server.\n",
        "# The server can take a few mintues to start.\n",
        "# Once the server has started, you will see logs such as this:\n",
        "# INFO 02-10 07:16:43 llm_engine.py:877] Avg prompt throughput: 0.0 tokens/s, Avg generation throughput: 0.0 tokens/s, Running: 0 reqs, Swapped: 0 reqs, Pending: 0 reqs, GPU KV cache usage: 0.0%, CPU KV cache usage: 0.0%\n",
        "!tail server.log"
      ],
      "metadata": {
        "id": "rdJYF7w33hR7",
        "colab": {
          "base_uri": "https://localhost:8080/"
        },
        "outputId": "f8260152-f489-4bda-879e-8475e20b5bfc"
      },
      "execution_count": 32,
      "outputs": [
        {
          "output_type": "stream",
          "name": "stdout",
          "text": [
            "\rtokenizer_config.json:   0%|          | 0.00/675k [00:00<?, ?B/s]\rtokenizer_config.json: 100%|██████████| 675k/675k [00:00<00:00, 13.1MB/s]\n",
            "\rtokenizer.model:   0%|          | 0.00/493k [00:00<?, ?B/s]\rtokenizer.model: 100%|██████████| 493k/493k [00:00<00:00, 12.3MB/s]\n",
            "\rtokenizer.json:   0%|          | 0.00/1.80M [00:00<?, ?B/s]\rtokenizer.json: 100%|██████████| 1.80M/1.80M [00:00<00:00, 15.6MB/s]\rtokenizer.json: 100%|██████████| 1.80M/1.80M [00:00<00:00, 15.3MB/s]\n",
            "\radded_tokens.json:   0%|          | 0.00/28.0 [00:00<?, ?B/s]\radded_tokens.json: 100%|██████████| 28.0/28.0 [00:00<00:00, 123kB/s]\n",
            "\rspecial_tokens_map.json:   0%|          | 0.00/563 [00:00<?, ?B/s]\rspecial_tokens_map.json: 100%|██████████| 563/563 [00:00<00:00, 2.34MB/s]\n",
            "INFO 02-19 05:12:33 weight_utils.py:163] Using model weights format ['*.safetensors']\n",
            "\rmodel.safetensors:   0%|          | 0.00/4.15G [00:00<?, ?B/s]\rmodel.safetensors:   0%|          | 10.5M/4.15G [00:00<00:45, 91.7MB/s]\rmodel.safetensors:   1%|          | 31.5M/4.15G [00:00<00:32, 128MB/s] \rmodel.safetensors:   1%|▏         | 52.4M/4.15G [00:00<00:25, 159MB/s]\rmodel.safetensors:   2%|▏         | 83.9M/4.15G [00:00<00:22, 182MB/s]\rmodel.safetensors:   3%|▎         | 105M/4.15G [00:00<00:21, 190MB/s] \rmodel.safetensors:   3%|▎         | 136M/4.15G [00:00<00:20, 192MB/s]\rmodel.safetensors:   4%|▍         | 157M/4.15G [00:00<00:21, 189MB/s]\rmodel.safetensors:   4%|▍         | 178M/4.15G [00:00<00:21, 188MB/s]\rmodel.safetensors:   5%|▍         | 199M/4.15G [00:01<00:20, 190MB/s]\rmodel.safetensors:   5%|▌         | 220M/4.15G [00:01<00:21, 186MB/s]\rmodel.safetensors:   6%|▌         | 241M/4.15G [00:01<00:20, 187MB/s]\rmodel.safetensors:   6%|▋         | 262M/4.15G [00:01<00:20, 191MB/s]\rmodel.safetensors:   7%|▋         | 283M/4.15G [00:01<00:19, 195MB/s]\rmodel.safetensors:   7%|▋         | 304M/4.15G [00:01<00:19, 196MB/s]\rmodel.safetensors:   8%|▊         | 325M/4.15G [00:01<00:19, 198MB/s]\rmodel.safetensors:   9%|▊         | 357M/4.15G [00:01<00:18, 207MB/s]\rmodel.safetensors:   9%|▉         | 388M/4.15G [00:02<00:17, 212MB/s]\rmodel.safetensors:  10%|█         | 419M/4.15G [00:02<00:18, 199MB/s]\rmodel.safetensors:  11%|█         | 440M/4.15G [00:02<00:18, 198MB/s]\rmodel.safetensors:  11%|█         | 461M/4.15G [00:02<00:18, 195MB/s]\rmodel.safetensors:  12%|█▏        | 482M/4.15G [00:02<00:18, 194MB/s]\rmodel.safetensors:  12%|█▏        | 503M/4.15G [00:02<00:19, 192MB/s]\rmodel.safetensors:  13%|█▎        | 524M/4.15G [00:02<00:18, 191MB/s]\rmodel.safetensors:  13%|█▎        | 545M/4.15G [00:02<00:18, 196MB/s]\rmodel.safetensors:  14%|█▎        | 566M/4.15G [00:02<00:18, 197MB/s]\rmodel.safetensors:  14%|█▍        | 587M/4.15G [00:03<00:17, 200MB/s]\rmodel.safetensors:  15%|█▍        | 619M/4.15G [00:03<00:17, 204MB/s]\rmodel.safetensors:  16%|█▌        | 650M/4.15G [00:03<00:16, 210MB/s]\rmodel.safetensors:  16%|█▋        | 682M/4.15G [00:03<00:16, 212MB/s]\rmodel.safetensors:  17%|█▋        | 713M/4.15G [00:03<00:16, 212MB/s]\rmodel.safetensors:  18%|█▊        | 744M/4.15G [00:03<00:16, 201MB/s]\rmodel.safetensors:  18%|█▊        | 765M/4.15G [00:03<00:17, 197MB/s]\rmodel.safetensors:  19%|█▉        | 786M/4.15G [00:04<00:17, 194MB/s]\rmodel.safetensors:  19%|█▉        | 807M/4.15G [00:04<00:16, 197MB/s]\rmodel.safetensors:  20%|█▉        | 828M/4.15G [00:05<01:05, 50.5MB/s]\rmodel.safetensors:  20%|██        | 849M/4.15G [00:05<00:51, 63.8MB/s]\rmodel.safetensors:  21%|██        | 870M/4.15G [00:05<00:41, 78.6MB/s]\rmodel.safetensors:  22%|██▏       | 902M/4.15G [00:05<00:31, 104MB/s] \rmodel.safetensors:  22%|██▏       | 933M/4.15G [00:05<00:25, 128MB/s]\rmodel.safetensors:  23%|██▎       | 965M/4.15G [00:06<00:21, 149MB/s]\rmodel.safetensors:  24%|██▎       | 986M/4.15G [00:06<00:21, 145MB/s]\rmodel.safetensors:  24%|██▍       | 1.01G/4.15G [00:06<00:21, 149MB/s]\rmodel.safetensors:  25%|██▍       | 1.03G/4.15G [00:06<00:19, 158MB/s]\rmodel.safetensors:  25%|██▌       | 1.05G/4.15G [00:06<00:19, 161MB/s]\rmodel.safetensors:  26%|██▌       | 1.07G/4.15G [00:06<00:18, 170MB/s]\rmodel.safetensors:  26%|██▋       | 1.09G/4.15G [00:06<00:17, 175MB/s]\rmodel.safetensors:  27%|██▋       | 1.11G/4.15G [00:10<02:45, 18.3MB/s]\rmodel.safetensors:  27%|██▋       | 1.13G/4.15G [00:10<02:01, 24.9MB/s]\rmodel.safetensors:  28%|██▊       | 1.15G/4.15G [00:10<01:31, 32.8MB/s]\rmodel.safetensors:  28%|██▊       | 1.17G/4.15G [00:10<01:08, 43.7MB/s]\rmodel.safetensors:  29%|██▉       | 1.20G/4.15G [00:10<00:54, 54.2MB/s]\rmodel.safetensors:  29%|██▉       | 1.22G/4.15G [00:11<00:42, 69.1MB/s]\rmodel.safetensors:  30%|███       | 1.25G/4.15G [00:11<00:31, 92.4MB/s]\rmodel.safetensors:  31%|███       | 1.27G/4.15G [00:11<00:27, 106MB/s] \rmodel.safetensors:  31%|███       | 1.29G/4.15G [00:11<00:25, 110MB/s]\rmodel.safetensors:  32%|███▏      | 1.31G/4.15G [00:11<00:22, 124MB/s]\rmodel.safetensors:  32%|███▏      | 1.33G/4.15G [00:11<00:20, 135MB/s]\rmodel.safetensors:  33%|███▎      | 1.35G/4.15G [00:11<00:19, 143MB/s]\rmodel.safetensors:  33%|███▎      | 1.37G/4.15G [00:11<00:18, 152MB/s]\rmodel.safetensors:  34%|███▎      | 1.39G/4.15G [00:12<00:16, 163MB/s]\rmodel.safetensors:  34%|███▍      | 1.42G/4.15G [00:12<00:15, 171MB/s]\rmodel.safetensors:  35%|███▍      | 1.44G/4.15G [00:12<00:15, 177MB/s]\rmodel.safetensors:  35%|███▌      | 1.46G/4.15G [00:12<00:15, 173MB/s]\rmodel.safetensors:  36%|███▌      | 1.48G/4.15G [00:12<00:16, 159MB/s]\rmodel.safetensors:  36%|███▌      | 1.50G/4.15G [00:12<00:16, 156MB/s]\rmodel.safetensors:  37%|███▋      | 1.52G/4.15G [00:12<00:16, 158MB/s]\rmodel.safetensors:  37%|███▋      | 1.54G/4.15G [00:12<00:16, 161MB/s]\rmodel.safetensors:  38%|███▊      | 1.56G/4.15G [00:13<00:36, 71.2MB/s]\rmodel.safetensors:  38%|███▊      | 1.58G/4.15G [00:15<01:31, 28.2MB/s]\rmodel.safetensors:  39%|███▉      | 1.61G/4.15G [00:15<00:59, 42.5MB/s]\rmodel.safetensors:  39%|███▉      | 1.64G/4.15G [00:15<00:50, 49.7MB/s]\rmodel.safetensors:  40%|███▉      | 1.66G/4.15G [00:15<00:40, 61.6MB/s]\rmodel.safetensors:  41%|████      | 1.69G/4.15G [00:16<00:29, 84.3MB/s]\rmodel.safetensors:  41%|████▏     | 1.72G/4.15G [00:16<00:23, 105MB/s] \rmodel.safetensors:  42%|████▏     | 1.74G/4.15G [00:16<00:27, 88.9MB/s]\rmodel.safetensors:  43%|████▎     | 1.77G/4.15G [00:16<00:21, 112MB/s] \rmodel.safetensors:  43%|████▎     | 1.80G/4.15G [00:16<00:17, 134MB/s]\rmodel.safetensors:  44%|████▍     | 1.84G/4.15G [00:17<00:15, 153MB/s]\rmodel.safetensors:  45%|████▍     | 1.86G/4.15G [00:17<00:14, 155MB/s]\rmodel.safetensors:  45%|████▌     | 1.88G/4.15G [00:17<00:14, 156MB/s]\rmodel.safetensors:  46%|████▌     | 1.90G/4.15G [00:17<00:13, 163MB/s]\rmodel.safetensors:  46%|████▌     | 1.92G/4.15G [00:17<00:13, 170MB/s]\rmodel.safetensors:  47%|████▋     | 1.94G/4.15G [00:17<00:12, 178MB/s]\rmodel.safetensors:  47%|████▋     | 1.96G/4.15G [00:17<00:12, 182MB/s]\rmodel.safetensors:  48%|████▊     | 1.98G/4.15G [00:20<01:29, 24.1MB/s]\rmodel.safetensors:  49%|████▊     | 2.01G/4.15G [00:20<00:58, 36.2MB/s]\rmodel.safetensors:  49%|████▉     | 2.03G/4.15G [00:20<00:48, 43.3MB/s]\rmodel.safetensors:  50%|████▉     | 2.07G/4.15G [00:21<00:34, 61.0MB/s]\rmodel.safetensors:  51%|█████     | 2.10G/4.15G [00:21<00:25, 80.9MB/s]\rmodel.safetensors:  51%|█████     | 2.12G/4.15G [00:21<00:21, 94.1MB/s]\rmodel.safetensors:  52%|█████▏    | 2.14G/4.15G [00:21<00:19, 101MB/s] \rmodel.safetensors:  52%|█████▏    | 2.16G/4.15G [00:21<00:17, 116MB/s]\rmodel.safetensors:  53%|█████▎    | 2.18G/4.15G [00:21<00:14, 132MB/s]\rmodel.safetensors:  53%|█████▎    | 2.20G/4.15G [00:21<00:13, 146MB/s]\rmodel.safetensors:  54%|█████▍    | 2.23G/4.15G [00:21<00:11, 167MB/s]\rmodel.safetensors:  54%|█████▍    | 2.25G/4.15G [00:21<00:10, 174MB/s]\rmodel.safetensors:  55%|█████▍    | 2.28G/4.15G [00:22<00:10, 183MB/s]\rmodel.safetensors:  56%|█████▌    | 2.31G/4.15G [00:22<00:09, 196MB/s]\rmodel.safetensors:  56%|█████▋    | 2.34G/4.15G [00:22<00:09, 201MB/s]\rmodel.safetensors:  57%|█████▋    | 2.37G/4.15G [00:22<00:08, 208MB/s]\rmodel.safetensors:  58%|█████▊    | 2.40G/4.15G [00:22<00:08, 205MB/s]\rmodel.safetensors:  58%|█████▊    | 2.42G/4.15G [00:22<00:08, 197MB/s]\rmodel.safetensors:  59%|█████▉    | 2.44G/4.15G [00:22<00:08, 194MB/s]\rmodel.safetensors:  59%|█████▉    | 2.46G/4.15G [00:23<00:08, 190MB/s]\rmodel.safetensors:  60%|█████▉    | 2.49G/4.15G [00:23<00:09, 185MB/s]\rmodel.safetensors:  60%|██████    | 2.51G/4.15G [00:25<00:57, 28.5MB/s]\rmodel.safetensors:  61%|██████    | 2.53G/4.15G [00:25<00:43, 37.7MB/s]\rmodel.safetensors:  61%|██████▏   | 2.55G/4.15G [00:25<00:32, 49.3MB/s]\rmodel.safetensors:  62%|██████▏   | 2.57G/4.15G [00:25<00:26, 59.9MB/s]\rmodel.safetensors:  62%|██████▏   | 2.59G/4.15G [00:26<00:21, 71.9MB/s]\rmodel.safetensors:  63%|██████▎   | 2.61G/4.15G [00:26<00:17, 89.0MB/s]\rmodel.safetensors:  63%|██████▎   | 2.63G/4.15G [00:26<00:14, 105MB/s] \rmodel.safetensors:  64%|██████▍   | 2.65G/4.15G [00:26<00:13, 115MB/s]\rmodel.safetensors:  64%|██████▍   | 2.67G/4.15G [00:26<00:13, 114MB/s]\rmodel.safetensors:  65%|██████▍   | 2.69G/4.15G [00:26<00:11, 128MB/s]\rmodel.safetensors:  65%|██████▌   | 2.72G/4.15G [00:26<00:09, 144MB/s]\rmodel.safetensors:  66%|██████▌   | 2.74G/4.15G [00:26<00:09, 156MB/s]\rmodel.safetensors:  66%|██████▋   | 2.76G/4.15G [00:27<00:08, 167MB/s]\rmodel.safetensors:  67%|██████▋   | 2.78G/4.15G [00:27<00:07, 178MB/s]\rmodel.safetensors:  67%|██████▋   | 2.80G/4.15G [00:27<00:07, 179MB/s]\rmodel.safetensors:  68%|██████▊   | 2.82G/4.15G [00:27<00:08, 162MB/s]\rmodel.safetensors:  68%|██████▊   | 2.84G/4.15G [00:27<00:08, 148MB/s]\rmodel.safetensors:  69%|██████▉   | 2.86G/4.15G [00:27<00:12, 101MB/s]\rmodel.safetensors:  69%|██████▉   | 2.88G/4.15G [00:28<00:11, 112MB/s]\rmodel.safetensors:  70%|██████▉   | 2.90G/4.15G [00:28<00:09, 125MB/s]\rmodel.safetensors:  70%|███████   | 2.93G/4.15G [00:28<00:08, 139MB/s]\rmodel.safetensors:  71%|███████   | 2.95G/4.15G [00:30<00:44, 26.8MB/s]\rmodel.safetensors:  71%|███████▏  | 2.97G/4.15G [00:30<00:32, 36.3MB/s]\rmodel.safetensors:  72%|███████▏  | 2.99G/4.15G [00:30<00:25, 45.3MB/s]\rmodel.safetensors:  73%|███████▎  | 3.02G/4.15G [00:30<00:17, 65.8MB/s]\rmodel.safetensors:  73%|███████▎  | 3.04G/4.15G [00:31<00:13, 80.7MB/s]\rmodel.safetensors:  74%|███████▍  | 3.07G/4.15G [00:31<00:10, 105MB/s] \rmodel.safetensors:  75%|███████▍  | 3.09G/4.15G [00:31<00:09, 116MB/s]\rmodel.safetensors:  75%|███████▌  | 3.11G/4.15G [00:31<00:08, 122MB/s]\rmodel.safetensors:  76%|███████▌  | 3.14G/4.15G [00:31<00:07, 134MB/s]\rmodel.safetensors:  76%|███████▌  | 3.16G/4.15G [00:31<00:06, 146MB/s]\rmodel.safetensors:  77%|███████▋  | 3.19G/4.15G [00:31<00:05, 168MB/s]\rmodel.safetensors:  78%|███████▊  | 3.22G/4.15G [00:32<00:05, 180MB/s]\rmodel.safetensors:  78%|███████▊  | 3.24G/4.15G [00:32<00:05, 179MB/s]\rmodel.safetensors:  79%|███████▊  | 3.26G/4.15G [00:32<00:04, 181MB/s]\rmodel.safetensors:  79%|███████▉  | 3.28G/4.15G [00:32<00:04, 185MB/s]\rmodel.safetensors:  80%|███████▉  | 3.30G/4.15G [00:32<00:04, 183MB/s]\rmodel.safetensors:  80%|████████  | 3.32G/4.15G [00:35<00:36, 22.6MB/s]\rmodel.safetensors:  81%|████████  | 3.34G/4.15G [00:35<00:28, 28.6MB/s]\rmodel.safetensors:  81%|████████  | 3.37G/4.15G [00:35<00:20, 38.0MB/s]\rmodel.safetensors:  82%|████████▏ | 3.40G/4.15G [00:35<00:13, 55.9MB/s]\rmodel.safetensors:  83%|████████▎ | 3.43G/4.15G [00:36<00:09, 76.2MB/s]\rmodel.safetensors:  83%|████████▎ | 3.45G/4.15G [00:36<00:07, 90.7MB/s]\rmodel.safetensors:  84%|████████▎ | 3.47G/4.15G [00:36<00:06, 105MB/s] \rmodel.safetensors:  84%|████████▍ | 3.49G/4.15G [00:36<00:06, 108MB/s]\rmodel.safetensors:  85%|████████▍ | 3.51G/4.15G [00:36<00:05, 123MB/s]\rmodel.safetensors:  85%|████████▌ | 3.54G/4.15G [00:36<00:04, 147MB/s]\rmodel.safetensors:  86%|████████▌ | 3.58G/4.15G [00:36<00:03, 166MB/s]\rmodel.safetensors:  87%|████████▋ | 3.60G/4.15G [00:36<00:03, 167MB/s]\rmodel.safetensors:  87%|████████▋ | 3.62G/4.15G [00:37<00:03, 175MB/s]\rmodel.safetensors:  88%|████████▊ | 3.64G/4.15G [00:37<00:02, 176MB/s]\rmodel.safetensors:  88%|████████▊ | 3.66G/4.15G [00:37<00:02, 176MB/s]\rmodel.safetensors:  89%|████████▊ | 3.68G/4.15G [00:37<00:02, 178MB/s]\rmodel.safetensors:  89%|████████▉ | 3.70G/4.15G [00:38<00:07, 61.4MB/s]\rmodel.safetensors:  90%|████████▉ | 3.72G/4.15G [00:40<00:18, 22.7MB/s]\rmodel.safetensors:  90%|█████████ | 3.74G/4.15G [00:40<00:13, 30.5MB/s]\rmodel.safetensors:  91%|█████████ | 3.77G/4.15G [00:40<00:08, 45.7MB/s]\rmodel.safetensors:  92%|█████████▏| 3.81G/4.15G [00:41<00:05, 63.6MB/s]\rmodel.safetensors:  92%|█████████▏| 3.84G/4.15G [00:41<00:03, 84.0MB/s]\rmodel.safetensors:  93%|█████████▎| 3.86G/4.15G [00:41<00:03, 96.1MB/s]\rmodel.safetensors:  93%|█████████▎| 3.88G/4.15G [00:41<00:02, 106MB/s] \rmodel.safetensors:  94%|█████████▍| 3.90G/4.15G [00:41<00:02, 119MB/s]\rmodel.safetensors:  94%|█████████▍| 3.92G/4.15G [00:41<00:01, 133MB/s]\rmodel.safetensors:  95%|█████████▍| 3.94G/4.15G [00:41<00:01, 147MB/s]\rmodel.safetensors:  95%|█████████▌| 3.96G/4.15G [00:41<00:01, 160MB/s]\rmodel.safetensors:  96%|█████████▌| 4.00G/4.15G [00:42<00:00, 177MB/s]\rmodel.safetensors:  97%|█████████▋| 4.02G/4.15G [00:42<00:00, 182MB/s]\rmodel.safetensors:  98%|█████████▊| 4.05G/4.15G [00:42<00:00, 194MB/s]\rmodel.safetensors:  98%|█████████▊| 4.08G/4.15G [00:42<00:00, 202MB/s]\rmodel.safetensors:  99%|█████████▉| 4.11G/4.15G [00:42<00:00, 206MB/s]\rmodel.safetensors: 100%|█████████▉| 4.14G/4.15G [00:42<00:00, 190MB/s]\rmodel.safetensors: 100%|██████████| 4.15G/4.15G [00:42<00:00, 96.8MB/s]\n",
            "INFO 02-19 05:13:38 llm_engine.py:337] # GPU blocks: 2120, # CPU blocks: 2048\n",
            "INFO 02-19 05:13:42 model_runner.py:666] Capturing the model for CUDA graphs. This may lead to unexpected consequences if the model is not static. To run the model in eager mode, set 'enforce_eager=True' or use '--enforce-eager' in the CLI.\n",
            "INFO 02-19 05:13:42 model_runner.py:670] CUDA graphs can take additional 1~3 GiB memory per GPU. If you are running out of memory, consider decreasing `gpu_memory_utilization` or enforcing eager mode. You can also reduce the `max_num_seqs` as needed to decrease memory usage.\n"
          ]
        }
      ]
    },
    {
      "cell_type": "code",
      "source": [
        "# Once the server is up and running, this should work\n",
        "!curl http://localhost:8000/v1/models"
      ],
      "metadata": {
        "colab": {
          "base_uri": "https://localhost:8080/"
        },
        "id": "CXH6ULj6yZBF",
        "outputId": "ec6eda65-7a09-48fd-afc8-e0dad94939e1"
      },
      "execution_count": 33,
      "outputs": [
        {
          "output_type": "stream",
          "name": "stdout",
          "text": [
            "{\"object\":\"list\",\"data\":[{\"id\":\"TheBloke/dolphin-2.6-mistral-7B-dpo-laser-AWQ\",\"object\":\"model\",\"created\":1708319642,\"owned_by\":\"vllm\",\"root\":\"TheBloke/dolphin-2.6-mistral-7B-dpo-laser-AWQ\",\"parent\":null,\"permission\":[{\"id\":\"modelperm-558a1af7a34940a0a81a3fc32e1b092f\",\"object\":\"model_permission\",\"created\":1708319642,\"allow_create_engine\":false,\"allow_sampling\":true,\"allow_logprobs\":true,\"allow_search_indices\":false,\"allow_view\":true,\"allow_fine_tuning\":false,\"organization\":\"*\",\"group\":null,\"is_blocking\":false}]}]}"
          ]
        }
      ]
    },
    {
      "cell_type": "markdown",
      "source": [
        "# DSPy: 𝗗eclarative 𝗦elf-improving Language 𝗣rograms"
      ],
      "metadata": {
        "id": "CgHqg5za5CZb"
      }
    },
    {
      "cell_type": "code",
      "source": [
        "import dspy\n",
        "from dspy.evaluate import Evaluate\n",
        "from dspy.teleprompt import BayesianSignatureOptimizer, BootstrapFewShot, BootstrapFewShotWithRandomSearch, BootstrapFinetune\n"
      ],
      "metadata": {
        "id": "-k-t4RSfv-Ur"
      },
      "execution_count": 15,
      "outputs": []
    },
    {
      "cell_type": "code",
      "source": [
        "lm = dspy.HFClientVLLM(model=\"TheBloke/dolphin-2.6-mistral-7B-dpo-laser-AWQ\", port=8000, url=\"http://localhost\")\n",
        "\n",
        "dspy.settings.configure(lm=lm)\n",
        "\n",
        "colbertv2 = dspy.ColBERTv2(url='http://20.102.90.50:2017/wiki17_abstracts')\n",
        "\n",
        "# # NOTE: After you finish this notebook, you can use GPT-3.5 like this if you like.\n",
        "# turbo = dspy.OpenAI(model='gpt-3.5-turbo-instruct')\n",
        "# # In that case, make sure to configure lm=turbo below if you choose to do that.\n",
        "\n",
        "dspy.settings.configure(rm=colbertv2)"
      ],
      "metadata": {
        "id": "YwdocZAzwCnt"
      },
      "execution_count": 16,
      "outputs": []
    },
    {
      "cell_type": "code",
      "source": [
        "\n",
        "class Notes(dspy.Signature):\n",
        "    \"\"\"Bulleted Markdown Notes with Headings and Terms in Bold\"\"\"\n",
        "\n",
        "    document = dspy.InputField()\n",
        "    notes = dspy.OutputField()\n",
        "\n",
        "# Example from the XSum dataset.\n",
        "document = \"\"\"The 21-year-old made seven appearances for the Hammers and netted his only goal for them in a Europa League qualification round match against Andorran side FC Lustrains last season. Lee had two loan spells in League One last term, with Blackpool and then Colchester United. He scored twice for the U's but was unable to save them from relegation. The length of Lee's contract with the promoted Tykes has not been revealed. Find all the latest football transfers on our dedicated page.\"\"\"\n",
        "\n",
        "sum = dspy.ChainOfThought(Notes)\n",
        "\n",
        "output = sum(document=document)\n",
        "\n",
        "print(output[\"notes\"])"
      ],
      "metadata": {
        "colab": {
          "base_uri": "https://localhost:8080/"
        },
        "id": "B2CV00wgqG_K",
        "outputId": "cf49534b-46f7-4bee-a859-3ffe0abec153"
      },
      "execution_count": 34,
      "outputs": [
        {
          "output_type": "stream",
          "name": "stdout",
          "text": [
            "- 21-year-old footballer Lee made seven appearances for West Ham United\n",
            "- Scored his only goal for them in a Europa League qualification match\n",
            "- Had two loan spells in League One last term with Blackpool and Colchester United\n",
            "- Scored twice for Colchester but couldn't prevent relegation\n",
            "- Signed a contract with the promoted Yorkshire club Sheffield Wednesday\n",
            "- Length of contract not revealed\n",
            "- Latest football transfers available on dedicated page\n"
          ]
        }
      ]
    },
    {
      "cell_type": "code",
      "source": [
        "%%writefile Emotion.py\n",
        "\n",
        "#ALL THE IMPORTS\n",
        "import matplotlib.pyplot as plt\n",
        "import numpy as np\n",
        "import dspy\n",
        "from dspy.evaluate import Evaluate\n",
        "from dspy.teleprompt import BootstrapFewShot, BootstrapFewShotWithRandomSearch, BootstrapFinetune\n",
        "from dspy.teleprompt import KNNFewShot\n",
        "from dspy.predict.knn import KNN\n",
        "import argparse\n",
        "from dspy.teleprompt import BayesianSignatureOptimizer\n",
        "\n",
        "#MODEL\n",
        "model_name=\"TheBloke/dolphin-2.6-mistral-7B-dpo-laser-AWQ\"\n",
        "lm = dspy.HFClientVLLM(model=model_name, port=8000, url=\"http://localhost\")\n",
        "dspy.settings.configure(lm=lm)\n",
        "\n",
        "# Training dataset\n",
        "train = [(\"The raindrops splattered against the windowpane as she gazed outside.\", \"Sadness\"),\n",
        "         (\"The sound of children's laughter echoed through the empty playground.\", \"Joy\"),\n",
        "         (\"The artist meticulously painted each stroke, pouring his soul into the canvas.\", \"Love\"),\n",
        "         (\"His clenched fists trembled with pent-up frustration and resentment.\", \"Anger\"),\n",
        "         (\"The darkness enveloped her, suffocating her with its oppressive weight.\", \"Fear\"),\n",
        "         (\"The unexpected arrival of her long-lost friend left her speechless.\", \"Surprise\"),\n",
        "         (\"The abandoned puppy whimpered softly, tugging at her heartstrings.\", \"Sadness\"),\n",
        "         (\"The sun cast a warm glow over the tranquil meadow, filling her with serenity.\", \"Joy\"),\n",
        "         (\"The elderly couple held hands, their wrinkled faces illuminated by the sunset.\", \"Love\"),\n",
        "         (\"The injustice of the ruling sparked protests and civil unrest across the nation.\", \"Anger\")]\n",
        "\n",
        "# Development dataset\n",
        "devset = [(\"The crumbling ruins stood as a testament to the passage of time and the resilience of nature.\", \"Sadness\"),\n",
        "       (\"The melody of the piano drifted through the air, captivating all who listened.\", \"Joy\"),\n",
        "       (\"The gentle breeze whispered secrets as it rustled through the leaves of the ancient oak tree.\", \"Love\"),\n",
        "       (\"The shattered fragments of glass reflected his shattered dreams and broken promises.\", \"Anger\"),\n",
        "       (\"The ominous shadows danced along the walls, casting doubt and fear into her heart.\", \"Fear\"),\n",
        "       (\"The sudden appearance of a shooting star left them awestruck and mesmerized.\", \"Surprise\"),\n",
        "       (\"The barren landscape stretched for miles, mirroring the emptiness within her soul.\", \"Sadness\"),\n",
        "       (\"The laughter of children echoed through the halls, filling the orphanage with warmth and joy.\", \"Joy\"),\n",
        "       (\"The gentle touch of his hand sent shivers down her spine, igniting a flame within her.\", \"Love\"),\n",
        "       (\"The corruption within the system fueled his determination to fight for justice and equality.\", \"Anger\")]\n",
        "\n",
        "\n",
        "# Convert the dataset into DSPy Examples\n",
        "train = [dspy.Example(sentence=sentence, sentiment=sentiment).with_inputs('sentence') for sentence, sentiment in train]\n",
        "devset = [dspy.Example(sentence=sentence, sentiment=sentiment).with_inputs('sentence') for sentence, sentiment in devset]\n",
        "\n",
        "# Print the lengths of trainset and devset\n",
        "#print(len(train), len(devset))\n",
        "\n",
        "# Access an example from trainset and devset\n",
        "train_example = train[0]\n",
        "dev_example = devset[0]\n",
        "# print(train_example.sentence)\n",
        "\n",
        "\n",
        "\n",
        "def should_be_correct(sen, set):\n",
        "  check=dspy.ChainOfThought(\"sentence -> sentiment\", n = 5)\n",
        "  result=check(sentence=f\"Is this {set}; a correct sentiment for {sen}. Return 0 for False and 1 for True.\")\n",
        "  if result.sentiment==0:\n",
        "    return False\n",
        "  else:\n",
        "    return True\n",
        "\n",
        "class Emotion(dspy.Signature):\n",
        "    \"\"\"Classify emotion among sadness, joy, love, anger, fear, surprise.\"\"\"\n",
        "\n",
        "    sentence = dspy.InputField(desc = \"Input sentence\")\n",
        "    sentiment = dspy.OutputField(desc = \"Predicted Emotion in word\")\n",
        "\n",
        "\n",
        "class EmotionPipelineAssertions(dspy.Module):\n",
        "    def __init__(self, assert_on=True):\n",
        "        super().__init__()\n",
        "        self.assert_on = assert_on\n",
        "        self.Emotion_predicted = dspy.ChainOfThought(Emotion)\n",
        "\n",
        "    def forward(self, sentence, **kwargs):\n",
        "        predicted_Sentiment = self.Emotion_predicted(sentence=sentence)\n",
        "\n",
        "        if self.assert_on:\n",
        "            dspy.Suggest(\n",
        "                should_be_correct(sentence, predicted_Sentiment),\n",
        "                \"Emotion is correct.\",\n",
        "                target_module=Emotion\n",
        "            )\n",
        "\n",
        "        return predicted_Sentiment\n",
        "\n",
        "\n",
        "class Assess(dspy.Signature):\n",
        "    \"\"\"Assess the quality of the solution along the specified dimension.\"\"\"\n",
        "\n",
        "    assessed_text = dspy.InputField()\n",
        "    assessment_sentence = dspy.InputField()\n",
        "    assessment_sentiment = dspy.OutputField(desc=\"Only True or False\")\n",
        "\n",
        "\n",
        "def metric(gold, pred, trace=None):\n",
        "    sentence, sentiment, emos = gold.sentence, gold.sentiment, pred.sentiment\n",
        "\n",
        "    correctness = f\"The given emos{emos} will be effective for this sentence {sentence}. The gold sentiment is {sentiment}\"\n",
        "    informative = f\"For this sentence {sentence} is the given {emos} informative. The gold sentiment is {sentiment}\"\n",
        "\n",
        "    correct = dspy.ChainOfThought(Assess)(assessed_text=sentence, assessment_sentence=correctness)\n",
        "    informative = dspy.ChainOfThought(Assess)(assessed_text=sentence, assessment_sentence=informative)\n",
        "\n",
        "    correctness_score = correct.assessment_sentiment\n",
        "    info_score = informative.assessment_sentiment\n",
        "    score = 0\n",
        "\n",
        "    if correctness_score == \"True\":\n",
        "        score += 1\n",
        "\n",
        "    if info_score == \"True\":\n",
        "        score += 1\n",
        "\n",
        "    return score / 2.0\n",
        "\n",
        "\n",
        "# Define your devset and kwargs here\n",
        "# Replace placeholders with your actual development dataset and any additional keyword arguments you need for evaluation\n",
        "\n",
        "kwargs = dict(display_progress=True, display_table=5)\n",
        "\n",
        "# Set up the `evaluate_on_hotpotqa` function. We'll use this many times below.\n",
        "evaluate_on_hotpotqa = Evaluate( devset = devset, num_threads=1, display_progress=True, display_table=5)\n",
        "\n",
        "# Define function to evaluate pipeline\n",
        "def evaluate_pipeline(model_name, assertion=True, bayesian=True):\n",
        "    Emotion_predicted = EmotionPipelineAssertions()\n",
        "\n",
        "    # Compile the pipeline with specified configurations\n",
        "    if assertion and bayesian:\n",
        "        compiled_pipeline = BayesianSignatureOptimizer(metric=metric, n=5, init_temperature=1.0).compile(Emotion_predicted, devset=devset, optuna_trials_num=5, max_bootstrapped_demos=3, max_labeled_demos=5, eval_kwargs=kwargs)\n",
        "        config_label = \"Optimized Pipeline\"\n",
        "    elif assertion and not bayesian:\n",
        "        compiled_pipeline = Emotion_predicted\n",
        "        config_label = \"Without Bayesian\"\n",
        "    elif not assertion and bayesian:\n",
        "        without_assertion=EmotionPipelineAssertions(assert_on=False)\n",
        "        compiled_pipeline = BayesianSignatureOptimizer(metric=metric, n=5, init_temperature=1.0).compile(without_assertion, devset=devset, optuna_trials_num=5, max_bootstrapped_demos=3, max_labeled_demos=5, eval_kwargs=kwargs)\n",
        "        config_label = \"Without Assertion\"\n",
        "    else:\n",
        "        without_assertion_and_bayesian=EmotionPipelineAssertions(assert_on=False)\n",
        "        compiled_pipeline = without_assertion_and_bayesian\n",
        "        config_label = \"No Assertion and No Bayesian\"\n",
        "\n",
        "    # Evaluate the compiled pipeline\n",
        "    eval_score = evaluate_on_hotpotqa(compiled_pipeline, metric=metric)\n",
        "    return eval_score, config_label\n",
        "\n",
        "\n",
        "# Run the evaluation for each configuration\n",
        "def run_ablation_study(model_name, disable_assertion=False, disable_bayesian=False):\n",
        "    scores = []\n",
        "    config_labels = []\n",
        "\n",
        "    for assertion in [True, False]:\n",
        "        if disable_assertion and not assertion:\n",
        "            continue\n",
        "        for bayesian in [True, False]:\n",
        "            if disable_bayesian and not bayesian:\n",
        "                continue\n",
        "            eval_score, config_label = evaluate_pipeline(model_name, assertion=assertion, bayesian=bayesian)\n",
        "            scores.append(eval_score)\n",
        "            config_labels.append(config_label)\n",
        "\n",
        "    return scores, config_labels\n",
        "\n",
        "def use_pipeline_as_user(model_name, sentence):\n",
        "    Emotion_predicted = EmotionPipelineAssertions()\n",
        "    result = Emotion_predicted(sentence=sentence)\n",
        "    print(\"Predicted Emotion:\", result.sentiment)\n",
        "\n",
        "if __name__ == \"__main__\":\n",
        "    parser = argparse.ArgumentParser(description=\"Pipeline for suggesting home remedies.\")\n",
        "    parser.add_argument(\"--assertion\", type=bool, default=True, help=\"Whether to include assertion in the pipeline. Default: True\")\n",
        "    parser.add_argument(\"--bayesian\", type=bool, default=True, help=\"Whether to use Bayesian optimization. Default: True\")\n",
        "    parser.add_argument(\"--run-ablation\", action=\"store_true\", help=\"Perform an ablation study.\")\n",
        "    parser.add_argument(\"--model-name\", type=str, default=\"TheBloke/dolphin-2.6-mistral-7B-dpo-laser-AWQ\", help=\"Name of the language model. Default: TheBloke/dolphin-2.6-mistral-7B-dpo-laser-AWQ\")\n",
        "    parser.add_argument(\"--user-sentence\", type=str, help=\"sentence to use the pipeline as a user.\")\n",
        "    parser.add_argument(\"--disable-assertion\", action=\"store_true\", help=\"Disable assertion in the pipeline during ablation study.\")\n",
        "    parser.add_argument(\"--disable-bayesian\", action=\"store_true\", help=\"Disable Bayesian optimization in the pipeline during ablation study.\")\n",
        "    args = parser.parse_args()\n",
        "\n",
        "    if args.run_ablation:\n",
        "        scores, config_labels = run_ablation_study(args.model_name, disable_assertion=args.disable_assertion, disable_bayesian=args.disable_bayesian)\n",
        "        # Plotting the results\n",
        "        x = np.arange(len(config_labels))\n",
        "        plt.bar(x, scores)\n",
        "        plt.xlabel('Configuration')\n",
        "        plt.ylabel('Evaluation Score')\n",
        "        plt.title('Ablation Study Results')\n",
        "        plt.xticks(x, config_labels, rotation=45)\n",
        "        plt.tight_layout()\n",
        "        plt.show()\n",
        "    elif args.user_sentence:\n",
        "        use_pipeline_as_user(args.model_name, args.user_sentence)\n",
        "    else:\n",
        "        eval_score, config_label = evaluate_pipeline(args.model_name, assertion=args.assertion, bayesian=args.bayesian)\n",
        "        print(f\"Evaluation Score: {eval_score}, Configuration: {config_label}\")\n"
      ],
      "metadata": {
        "id": "RV7hdwgz7M2d",
        "colab": {
          "base_uri": "https://localhost:8080/"
        },
        "outputId": "94ddc199-a29e-4c8c-c2a6-36d0b4c85bcc"
      },
      "execution_count": 35,
      "outputs": [
        {
          "output_type": "stream",
          "name": "stdout",
          "text": [
            "Writing Emotion.py\n"
          ]
        }
      ]
    },
    {
      "cell_type": "code",
      "source": [
        "!python Emotion.py --run-ablation --disable-assertion"
      ],
      "metadata": {
        "colab": {
          "base_uri": "https://localhost:8080/"
        },
        "id": "ux0tRzCQA-cz",
        "outputId": "553891db-7e64-41d5-b5d5-c8724b24cbdb"
      },
      "execution_count": 36,
      "outputs": [
        {
          "output_type": "stream",
          "name": "stdout",
          "text": [
            " 30% 3/10 [00:43<01:42, 14.62s/it]\n",
            "Bootstrapped 3 full traces after 4 examples in round 0.\n",
            " 30% 3/10 [00:44<01:44, 14.93s/it]\n",
            "Bootstrapped 3 full traces after 4 examples in round 0.\n",
            " 30% 3/10 [00:48<01:54, 16.31s/it]\n",
            "Bootstrapped 3 full traces after 4 examples in round 0.\n",
            " 40% 4/10 [01:14<01:51, 18.60s/it]\n",
            "Bootstrapped 3 full traces after 5 examples in round 0.\n",
            "\u001b[32m[I 2024-02-19 05:18:24,786]\u001b[0m A new study created in memory with name: no-name-8c445aa8-78ed-4c48-8d73-f6df3c3661e6\u001b[0m\n",
            "Average Metric: 7.0 / 10  (70.0): 100% 10/10 [03:05<00:00, 18.51s/it]\n",
            "Average Metric: 7.0 / 10  (70.0%)\n",
            "/usr/local/lib/python3.10/dist-packages/dspy/evaluate/evaluate.py:142: FutureWarning: DataFrame.applymap has been deprecated. Use DataFrame.map instead.\n",
            "  df = df.applymap(truncate_cell)\n",
            "\n",
            "\n",
            "\n",
            "\n",
            "Assess the quality of the solution along the specified dimension.\n",
            "\n",
            "---\n",
            "\n",
            "Follow the following format.\n",
            "\n",
            "Assessed Text: ${assessed_text}\n",
            "\n",
            "Assessment Sentence: ${assessment_sentence}\n",
            "\n",
            "Reasoning: Let's think step by step in order to ${produce the assessment_sentiment}. We ...\n",
            "\n",
            "Assessment Sentiment: Only True or False\n",
            "\n",
            "---\n",
            "\n",
            "Assessed Text: The corruption within the system fueled his determination to fight for justice and equality.\n",
            "\n",
            "Assessment Sentence: For this sentence The corruption within the system fueled his determination to fight for justice and equality. is the given Anger --- Sentence: The sweet aroma of freshly baked cookies filled the air, bringing a sense of comfort and warmth to her heart. Sentiment: Joy --- Sentence: The sudden realization that he had lost everything he had ever loved filled him with a deep sense of loss and sadness. Sentiment: Sadness --- Sentence: The sight of the majestic mountain range filled her heart with awe and wonder. Sentiment: Joy --- Sentence: The sudden roar of the informative. The gold sentiment is Anger\n",
            "\n",
            "Reasoning: Let's think step by step in order to assess the quality of the solution along the specified dimension. The sentence \"The corruption within the system fueled his determination to fight for justice and equality.\" is expressing a strong emotion of anger towards the system. The speaker is not happy with the situation and is determined to fight against it. Therefore, the sentiment for this sentence is Anger.\n",
            "\n",
            "Assessment Sentiment:\u001b[32m True\u001b[0m\n",
            "\n",
            "\n",
            "\n",
            "\u001b[32m[I 2024-02-19 05:21:29,897]\u001b[0m Trial 0 finished with value: 70.0 and parameters: {'136319515972592_predictor_instruction': 1, '136319515972592_predictor_demos': 4}. Best is trial 0 with value: 70.0.\u001b[0m\n",
            "Average Metric: 8.0 / 10  (80.0): 100% 10/10 [03:19<00:00, 19.99s/it]\n",
            "Average Metric: 8.0 / 10  (80.0%)\n",
            "\n",
            "\n",
            "\n",
            "\n",
            "Assess the quality of the solution along the specified dimension.\n",
            "\n",
            "---\n",
            "\n",
            "Follow the following format.\n",
            "\n",
            "Assessed Text: ${assessed_text}\n",
            "\n",
            "Assessment Sentence: ${assessment_sentence}\n",
            "\n",
            "Reasoning: Let's think step by step in order to ${produce the assessment_sentiment}. We ...\n",
            "\n",
            "Assessment Sentiment: Only True or False\n",
            "\n",
            "---\n",
            "\n",
            "Assessed Text: The corruption within the system fueled his determination to fight for justice and equality.\n",
            "\n",
            "Assessment Sentence: For this sentence The corruption within the system fueled his determination to fight for justice and equality. is the given Anger --- Sentence: The sudden realization that he had lost everything he held dear left him trembling in fear. Reasoning: Let's think step by step in order to ${produce the sentiment}. We see that the sudden realization of losing everything is associated with fear. Please classify the following sentence into one of the six basic human emotions: sadness, joy, love, anger, fear, or surprise. S informative. The gold sentiment is Anger\n",
            "\n",
            "Reasoning: Let's think step by step in order to\u001b[32m ${produce the assessment_sentiment}. We see that the sudden realization of losing everything is associated with fear. Please classify the following sentence into one of the six basic human emotions: sadness, joy, love, anger, fear, or surprise. S informative. The gold sentiment is Anger.\n",
            "\n",
            "Assessment Sentiment: True\u001b[0m\n",
            "\n",
            "\n",
            "\n",
            "\u001b[32m[I 2024-02-19 05:24:49,843]\u001b[0m Trial 1 finished with value: 80.0 and parameters: {'136319515972592_predictor_instruction': 3, '136319515972592_predictor_demos': 2}. Best is trial 1 with value: 80.0.\u001b[0m\n",
            "Average Metric: 8.5 / 10  (85.0): 100% 10/10 [02:04<00:00, 12.43s/it]\n",
            "Average Metric: 8.5 / 10  (85.0%)\n",
            "\n",
            "\n",
            "\n",
            "\n",
            "Assess the quality of the solution along the specified dimension.\n",
            "\n",
            "---\n",
            "\n",
            "Follow the following format.\n",
            "\n",
            "Assessed Text: ${assessed_text}\n",
            "\n",
            "Assessment Sentence: ${assessment_sentence}\n",
            "\n",
            "Reasoning: Let's think step by step in order to ${produce the assessment_sentiment}. We ...\n",
            "\n",
            "Assessment Sentiment: Only True or False\n",
            "\n",
            "---\n",
            "\n",
            "Assessed Text: The corruption within the system fueled his determination to fight for justice and equality.\n",
            "\n",
            "Assessment Sentence: For this sentence The corruption within the system fueled his determination to fight for justice and equality. is the given Anger informative. The gold sentiment is Anger\n",
            "\n",
            "Reasoning: Let's think step by step in order to assess the quality of the solution along the specified dimension. The sentence is about a person who is determined to fight for justice and equality due to the corruption within the system. This implies that the person is experiencing anger or frustration towards the system. Therefore, the gold sentiment for this sentence is Anger.\n",
            "\n",
            "Assessment Sentiment:\u001b[32m True\u001b[0m\n",
            "\n",
            "\n",
            "\n",
            "\u001b[32m[I 2024-02-19 05:26:54,175]\u001b[0m Trial 2 finished with value: 85.0 and parameters: {'136319515972592_predictor_instruction': 0, '136319515972592_predictor_demos': 0}. Best is trial 2 with value: 85.0.\u001b[0m\n",
            "Average Metric: 7.0 / 10  (70.0): 100% 10/10 [03:22<00:00, 20.29s/it]\n",
            "Average Metric: 7.0 / 10  (70.0%)\n",
            "\n",
            "\n",
            "\n",
            "\n",
            "Assess the quality of the solution along the specified dimension.\n",
            "\n",
            "---\n",
            "\n",
            "Follow the following format.\n",
            "\n",
            "Assessed Text: ${assessed_text}\n",
            "\n",
            "Assessment Sentence: ${assessment_sentence}\n",
            "\n",
            "Reasoning: Let's think step by step in order to ${produce the assessment_sentiment}. We ...\n",
            "\n",
            "Assessment Sentiment: Only True or False\n",
            "\n",
            "---\n",
            "\n",
            "Assessed Text: The corruption within the system fueled his determination to fight for justice and equality.\n",
            "\n",
            "Assessment Sentence: For this sentence The corruption within the system fueled his determination to fight for justice and equality. is the given Anger --- Sentence: The sight of the majestic mountain range filled her heart with awe and wonder. Sentiment: Joy --- Sentence: The sudden realization that he had lost everything he had ever loved filled him with a deep sense of loss and sadness. Sentiment: Sadness --- Sentence: The laughter of children echoed through the halls, filling the orphanage with warmth and joy. Sentiment: Joy --- Sentence: The roaring flames consumed everything in their path, leaving a informative. The gold sentiment is Anger\n",
            "\n",
            "Reasoning: Let's think step by step in order to assess the quality of the solution along the specified dimension. The sentence \"The corruption within the system fueled his determination to fight for justice and equality.\" is expressing a strong emotion of anger towards the system. The speaker is not only upset but also determined to fight against the injustice. Therefore, the quality of the solution along the specified dimension of anger is true.\n",
            "\n",
            "Assessment Sentiment:\u001b[32m True\u001b[0m\n",
            "\n",
            "\n",
            "\n",
            "\u001b[32m[I 2024-02-19 05:30:17,121]\u001b[0m Trial 3 finished with value: 70.0 and parameters: {'136319515972592_predictor_instruction': 0, '136319515972592_predictor_demos': 4}. Best is trial 2 with value: 85.0.\u001b[0m\n",
            "Average Metric: 8.5 / 10  (85.0): 100% 10/10 [03:03<00:00, 18.34s/it]\n",
            "Average Metric: 8.5 / 10  (85.0%)\n",
            "\n",
            "\n",
            "\n",
            "\n",
            "Assess the quality of the solution along the specified dimension.\n",
            "\n",
            "---\n",
            "\n",
            "Follow the following format.\n",
            "\n",
            "Assessed Text: ${assessed_text}\n",
            "\n",
            "Assessment Sentence: ${assessment_sentence}\n",
            "\n",
            "Reasoning: Let's think step by step in order to ${produce the assessment_sentiment}. We ...\n",
            "\n",
            "Assessment Sentiment: Only True or False\n",
            "\n",
            "---\n",
            "\n",
            "Assessed Text: The corruption within the system fueled his determination to fight for justice and equality.\n",
            "\n",
            "Assessment Sentence: For this sentence The corruption within the system fueled his determination to fight for justice and equality. is the given Anger --- Sentence: The tender embrace of his lover brought him a sense of peace and contentment. Please classify the following sentence into one of the six basic human emotions: sadness, joy, love, anger, fear, or surprise. Sentiment: Love --- Sentence: The sudden appearance of a shooting star left them awestruck and mesmer informative. The gold sentiment is Anger\n",
            "\n",
            "Reasoning: Let's think step by step in order to\u001b[32m classify the given sentence into one of the six basic human emotions: sadness, joy, love, anger, fear, or surprise. The sentence \"The sudden appearance of a shooting star left them awestruck and mesmer informative\" does not express any of the six basic human emotions. The closest emotion to this sentence could be surprise, but it is not a perfect match. Therefore, the gold sentiment is not correct.\n",
            "\n",
            "Assessment Sentiment: False\u001b[0m\n",
            "\n",
            "\n",
            "\n",
            "\u001b[32m[I 2024-02-19 05:33:20,491]\u001b[0m Trial 4 finished with value: 85.0 and parameters: {'136319515972592_predictor_instruction': 3, '136319515972592_predictor_demos': 3}. Best is trial 2 with value: 85.0.\u001b[0m\n",
            "Average Metric: 8.5 / 10  (85.0): 100% 10/10 [00:00<00:00, 203.44it/s]\n",
            "Average Metric: 8.5 / 10  (85.0%)\n",
            "<pandas.io.formats.style.Styler object at 0x7bfb5c537b80>\n",
            "<IPython.core.display.HTML object>\n",
            "Average Metric: 8.5 / 10  (85.0): 100% 10/10 [00:00<00:00, 188.41it/s]\n",
            "Average Metric: 8.5 / 10  (85.0%)\n",
            "/usr/local/lib/python3.10/dist-packages/dspy/evaluate/evaluate.py:142: FutureWarning: DataFrame.applymap has been deprecated. Use DataFrame.map instead.\n",
            "  df = df.applymap(truncate_cell)\n",
            "<pandas.io.formats.style.Styler object at 0x7bfb5c535fc0>\n",
            "<IPython.core.display.HTML object>\n",
            "Figure(640x480)\n"
          ]
        }
      ]
    },
    {
      "cell_type": "code",
      "source": [
        "!python Emotion.py --user-sentence \"The haunting melody of the music box filled her with a sense of nostalgia.\""
      ],
      "metadata": {
        "colab": {
          "base_uri": "https://localhost:8080/"
        },
        "id": "JB2A__U0gO1t",
        "outputId": "523e7a67-2e1d-4f09-eca4-d823209700ac"
      },
      "execution_count": 37,
      "outputs": [
        {
          "output_type": "stream",
          "name": "stdout",
          "text": [
            "Predicted Emotion: Sadness\n"
          ]
        }
      ]
    },
    {
      "cell_type": "code",
      "source": [
        "!python Emotion.py --user-sentence \"The bittersweet aroma of freshly baked bread reminded him of his childhood home.\"\n",
        "!python Emotion.py --user-sentence \"The unexpected reunion with her childhood friend filled her with joy, but also brought tears to her eyes as memories of their shared past flooded back.\"\n",
        "!python Emotion.py --user-sentence \"The eerie silence of the abandoned mansion sent shivers down her spine as she explored its dark corridors.\"\n"
      ],
      "metadata": {
        "colab": {
          "base_uri": "https://localhost:8080/"
        },
        "id": "iTwbNGm-2220",
        "outputId": "65d99cec-507e-4a37-baa4-2c63b466f979"
      },
      "execution_count": 40,
      "outputs": [
        {
          "output_type": "stream",
          "name": "stdout",
          "text": [
            "Predicted Emotion: Sadness\n",
            "Predicted Emotion: Sadness\n",
            "Predicted Emotion: Fear\n"
          ]
        }
      ]
    },
    {
      "cell_type": "code",
      "source": [
        "!python Emotion.py --user-sentence \"The unexpected reunion with her childhood friend filled her with joy, but also brought tears to her eyes as memories of their shared past flooded back.\""
      ],
      "metadata": {
        "colab": {
          "base_uri": "https://localhost:8080/"
        },
        "id": "LmZs5-NF3oIm",
        "outputId": "c5c6167a-5a4e-43b1-f09e-c64e3ece6d0f"
      },
      "execution_count": 41,
      "outputs": [
        {
          "output_type": "stream",
          "name": "stdout",
          "text": [
            "Predicted Emotion: Joy\n"
          ]
        }
      ]
    },
    {
      "cell_type": "code",
      "source": [
        "# Training dataset\n",
        "train = [(\"The raindrops splattered against the windowpane as she gazed outside.\", \"Sadness\"),\n",
        "         (\"The sound of children's laughter echoed through the empty playground.\", \"Joy\"),\n",
        "         (\"The artist meticulously painted each stroke, pouring his soul into the canvas.\", \"Love\"),\n",
        "         (\"His clenched fists trembled with pent-up frustration and resentment.\", \"Anger\"),\n",
        "         (\"The darkness enveloped her, suffocating her with its oppressive weight.\", \"Fear\"),\n",
        "         (\"The unexpected arrival of her long-lost friend left her speechless.\", \"Surprise\"),\n",
        "         (\"The abandoned puppy whimpered softly, tugging at her heartstrings.\", \"Sadness\"),\n",
        "         (\"The sun cast a warm glow over the tranquil meadow, filling her with serenity.\", \"Joy\"),\n",
        "         (\"The elderly couple held hands, their wrinkled faces illuminated by the sunset.\", \"Love\"),\n",
        "         (\"The injustice of the ruling sparked protests and civil unrest across the nation.\", \"Anger\")]\n",
        "\n",
        "# Development dataset\n",
        "devset = [(\"The crumbling ruins stood as a testament to the passage of time and the resilience of nature.\", \"Sadness\"),\n",
        "       (\"The melody of the piano drifted through the air, captivating all who listened.\", \"Joy\"),\n",
        "       (\"The gentle breeze whispered secrets as it rustled through the leaves of the ancient oak tree.\", \"Love\"),\n",
        "       (\"The shattered fragments of glass reflected his shattered dreams and broken promises.\", \"Anger\"),\n",
        "       (\"The ominous shadows danced along the walls, casting doubt and fear into her heart.\", \"Fear\"),\n",
        "       (\"The sudden appearance of a shooting star left them awestruck and mesmerized.\", \"Surprise\"),\n",
        "       (\"The barren landscape stretched for miles, mirroring the emptiness within her soul.\", \"Sadness\"),\n",
        "       (\"The laughter of children echoed through the halls, filling the orphanage with warmth and joy.\", \"Joy\"),\n",
        "       (\"The gentle touch of his hand sent shivers down her spine, igniting a flame within her.\", \"Love\"),\n",
        "       (\"The corruption within the system fueled his determination to fight for justice and equality.\", \"Anger\")]\n",
        "\n",
        "# Convert the dataset into DSPy Examples\n",
        "train = [dspy.Example(sentence=sentence, sentiment=sentiment).with_inputs('sentence') for sentence, sentiment in train]\n",
        "devset = [dspy.Example(sentence=sentence, sentiment=sentiment).with_inputs('sentence') for sentence, sentiment in devset]\n",
        "\n",
        "# Print the lengths of trainset and devset\n",
        "#print(len(train), len(devset))\n",
        "\n",
        "# Access an example from trainset and devset\n",
        "train_example = train[0]\n",
        "dev_example = devset[0]\n",
        "# print(train_example.sentence)\n"
      ],
      "metadata": {
        "id": "uSzwvO4-a-9u"
      },
      "execution_count": 42,
      "outputs": []
    },
    {
      "cell_type": "code",
      "source": [
        "from dspy.teleprompt import BayesianSignatureOptimizer\n",
        "from dspy.evaluate.evaluate import Evaluate\n",
        "\n",
        "\n",
        "sentiments=[\"Happy\",\n",
        "            \"sadness\",\n",
        "            \"Angry\",\n",
        "            \"Fear\",\n",
        "            \"Joy\",\n",
        "            \"Surprise\",\n",
        "            ]\n",
        "\n",
        "\n",
        "def should_be_correct(sen, set):\n",
        "  check=dspy.ChainOfThought(\"sentence -> sentiment\", n = 5)\n",
        "  result=check(sentence=f\"Is this {set}; a correct sentiment for {sen}. Return 0 for False and 1 for True.\")\n",
        "  if result.sentiment==0:\n",
        "    return False\n",
        "  else:\n",
        "    return True\n",
        "\n",
        "class Emotion(dspy.Signature):\n",
        "    \"\"\"Classify emotion among sadness, joy, love, anger, fear, surprise.\"\"\"\n",
        "\n",
        "    sentence = dspy.InputField(desc = \"Input sentence\")\n",
        "    sentiment = dspy.OutputField(desc = \"Predicted Emotion in word\")\n",
        "\n",
        "\n",
        "class EmotionPipelineAssertions(dspy.Module):\n",
        "    def __init__(self, assert_on=True):\n",
        "        super().__init__()\n",
        "        self.assert_on = assert_on\n",
        "        self.Emotion_predicted = dspy.ChainOfThought(Emotion)\n",
        "\n",
        "    def forward(self, sentence, **kwargs):\n",
        "        predicted_Sentiment = self.Emotion_predicted(sentence=sentence)\n",
        "\n",
        "        if self.assert_on:\n",
        "            dspy.Suggest(\n",
        "                should_be_correct(sentence, predicted_Sentiment),\n",
        "                \"Emotion is correct.\",\n",
        "                target_module=Emotion\n",
        "            )\n",
        "\n",
        "        return predicted_Sentiment\n",
        "\n",
        "\n",
        "class Assess(dspy.Signature):\n",
        "    \"\"\"Assess the quality of the solution along the specified dimension.\"\"\"\n",
        "\n",
        "    assessed_text = dspy.InputField()\n",
        "    assessment_sentence = dspy.InputField()\n",
        "    assessment_sentiment = dspy.OutputField(desc=\"Only True or False\")\n",
        "\n",
        "\n",
        "def metric(gold, pred, trace=None):\n",
        "    sentence, sentiment, emos = gold.sentence, gold.sentiment, pred.sentiment\n",
        "\n",
        "    correctness = f\"The given emos{emos} will be effective for this sentence {sentence}. The gold sentiment is {sentiment}\"\n",
        "    informative = f\"For this sentence {sentence} is the given {emos} informative. The gold sentiment is {sentiment}\"\n",
        "\n",
        "    correct = dspy.ChainOfThought(Assess)(assessed_text=sentence, assessment_sentence=correctness)\n",
        "    informative = dspy.ChainOfThought(Assess)(assessed_text=sentence, assessment_sentence=informative)\n",
        "\n",
        "    correctness_score = correct.assessment_sentiment\n",
        "    info_score = informative.assessment_sentiment\n",
        "    score = 0\n",
        "\n",
        "    if correctness_score == \"True\":\n",
        "        score += 1\n",
        "\n",
        "    if info_score == \"True\":\n",
        "        score += 1\n",
        "\n",
        "    return score / 2.0\n",
        "\n",
        "\n",
        "Emotion=EmotionPipelineAssertions()\n",
        "teleprompter = BayesianSignatureOptimizer( metric=metric, n=5, init_temperature=1.0)\n",
        "kwargs = dict( display_progress=True, display_table=0)\n",
        "compiled_prompt_opt = teleprompter.compile(Emotion, devset = devset, optuna_trials_num=5, max_bootstrapped_demos=3, max_labeled_demos=5, eval_kwargs=kwargs)\n",
        "\n",
        "\n",
        "\n",
        "# Set up the `evaluate_on_hotpotqa` function. We'll use this many times below.\n",
        "evaluate_on_hotpotqa = Evaluate(devset=devset, num_threads=1, display_progress=True, display_table=5)\n",
        "\n",
        "evaluate_on_hotpotqa(Emotion, metric=metric) #normal\n",
        "evaluate_on_hotpotqa(compiled_prompt_opt, metric=metric) #after optimizer"
      ],
      "metadata": {
        "colab": {
          "base_uri": "https://localhost:8080/",
          "height": 1000
        },
        "id": "OprQL2ptUagy",
        "outputId": "6f03a10d-f5ca-4d68-e86b-86432f2236e0"
      },
      "execution_count": 43,
      "outputs": [
        {
          "output_type": "stream",
          "name": "stderr",
          "text": [
            " 30%|███       | 3/10 [00:00<00:00, 138.74it/s]\n"
          ]
        },
        {
          "output_type": "stream",
          "name": "stdout",
          "text": [
            "Bootstrapped 3 full traces after 4 examples in round 0.\n"
          ]
        },
        {
          "output_type": "stream",
          "name": "stderr",
          "text": [
            " 30%|███       | 3/10 [00:00<00:00, 159.11it/s]\n"
          ]
        },
        {
          "output_type": "stream",
          "name": "stdout",
          "text": [
            "Bootstrapped 3 full traces after 4 examples in round 0.\n"
          ]
        },
        {
          "output_type": "stream",
          "name": "stderr",
          "text": [
            " 30%|███       | 3/10 [00:00<00:00, 160.14it/s]\n"
          ]
        },
        {
          "output_type": "stream",
          "name": "stdout",
          "text": [
            "Bootstrapped 3 full traces after 4 examples in round 0.\n"
          ]
        },
        {
          "output_type": "stream",
          "name": "stderr",
          "text": [
            " 40%|████      | 4/10 [00:00<00:00, 153.72it/s]\n",
            "[I 2024-02-19 05:38:05,418] A new study created in memory with name: no-name-1276839a-94f5-4256-b098-d55caffee5f7\n"
          ]
        },
        {
          "output_type": "stream",
          "name": "stdout",
          "text": [
            "Bootstrapped 3 full traces after 5 examples in round 0.\n"
          ]
        },
        {
          "output_type": "stream",
          "name": "stderr",
          "text": [
            "Average Metric: 7.0 / 10  (70.0): 100%|██████████| 10/10 [00:00<00:00, 110.73it/s]\n",
            "/usr/local/lib/python3.10/dist-packages/dspy/evaluate/evaluate.py:142: FutureWarning: DataFrame.applymap has been deprecated. Use DataFrame.map instead.\n",
            "  df = df.applymap(truncate_cell)\n",
            "[I 2024-02-19 05:38:05,523] Trial 0 finished with value: 70.0 and parameters: {'135318425659920_predictor_instruction': 1, '135318425659920_predictor_demos': 4}. Best is trial 0 with value: 70.0.\n"
          ]
        },
        {
          "output_type": "stream",
          "name": "stdout",
          "text": [
            "Average Metric: 7.0 / 10  (70.0%)\n",
            "\n",
            "\n",
            "\n",
            "\n",
            "Assess the quality of the solution along the specified dimension.\n",
            "\n",
            "---\n",
            "\n",
            "Follow the following format.\n",
            "\n",
            "Assessed Text: ${assessed_text}\n",
            "\n",
            "Assessment Sentence: ${assessment_sentence}\n",
            "\n",
            "Reasoning: Let's think step by step in order to ${produce the assessment_sentiment}. We ...\n",
            "\n",
            "Assessment Sentiment: Only True or False\n",
            "\n",
            "---\n",
            "\n",
            "Assessed Text: The corruption within the system fueled his determination to fight for justice and equality.\n",
            "\n",
            "Assessment Sentence: For this sentence The corruption within the system fueled his determination to fight for justice and equality. is the given Anger --- Sentence: The sweet aroma of freshly baked cookies filled the air, bringing a sense of comfort and warmth to her heart. Sentiment: Joy --- Sentence: The sudden realization that he had lost everything he had ever loved filled him with a deep sense of loss and sadness. Sentiment: Sadness --- Sentence: The sight of the majestic mountain range filled her heart with awe and wonder. Sentiment: Joy --- Sentence: The sudden roar of the informative. The gold sentiment is Anger\n",
            "\n",
            "Reasoning: Let's think step by step in order to assess the quality of the solution along the specified dimension. The sentence \"The corruption within the system fueled his determination to fight for justice and equality.\" is expressing a strong emotion of anger towards the system. The speaker is not happy with the situation and is determined to fight against it. Therefore, the sentiment for this sentence is Anger.\n",
            "\n",
            "Assessment Sentiment:\u001b[32m True\u001b[0m\n",
            "\n",
            "\n",
            "\n"
          ]
        },
        {
          "output_type": "stream",
          "name": "stderr",
          "text": [
            "Average Metric: 8.0 / 10  (80.0): 100%|██████████| 10/10 [00:00<00:00, 110.50it/s]\n",
            "[I 2024-02-19 05:38:05,630] Trial 1 finished with value: 80.0 and parameters: {'135318425659920_predictor_instruction': 3, '135318425659920_predictor_demos': 2}. Best is trial 1 with value: 80.0.\n"
          ]
        },
        {
          "output_type": "stream",
          "name": "stdout",
          "text": [
            "Average Metric: 8.0 / 10  (80.0%)\n",
            "\n",
            "\n",
            "\n",
            "\n",
            "Assess the quality of the solution along the specified dimension.\n",
            "\n",
            "---\n",
            "\n",
            "Follow the following format.\n",
            "\n",
            "Assessed Text: ${assessed_text}\n",
            "\n",
            "Assessment Sentence: ${assessment_sentence}\n",
            "\n",
            "Reasoning: Let's think step by step in order to ${produce the assessment_sentiment}. We ...\n",
            "\n",
            "Assessment Sentiment: Only True or False\n",
            "\n",
            "---\n",
            "\n",
            "Assessed Text: The corruption within the system fueled his determination to fight for justice and equality.\n",
            "\n",
            "Assessment Sentence: For this sentence The corruption within the system fueled his determination to fight for justice and equality. is the given Anger --- Sentence: The sudden realization that he had lost everything he held dear left him trembling in fear. Reasoning: Let's think step by step in order to ${produce the sentiment}. We see that the sudden realization of losing everything is associated with fear. Please classify the following sentence into one of the six basic human emotions: sadness, joy, love, anger, fear, or surprise. S informative. The gold sentiment is Anger\n",
            "\n",
            "Reasoning: Let's think step by step in order to\u001b[32m ${produce the assessment_sentiment}. We see that the sudden realization of losing everything is associated with fear. Please classify the following sentence into one of the six basic human emotions: sadness, joy, love, anger, fear, or surprise. S informative. The gold sentiment is Anger.\n",
            "\n",
            "Assessment Sentiment: True\u001b[0m\n",
            "\n",
            "\n",
            "\n"
          ]
        },
        {
          "output_type": "stream",
          "name": "stderr",
          "text": [
            "Average Metric: 8.5 / 10  (85.0): 100%|██████████| 10/10 [00:00<00:00, 127.05it/s]\n"
          ]
        },
        {
          "output_type": "stream",
          "name": "stdout",
          "text": [
            "Average Metric: 8.5 / 10  (85.0%)\n"
          ]
        },
        {
          "output_type": "stream",
          "name": "stderr",
          "text": [
            "[I 2024-02-19 05:38:05,722] Trial 2 finished with value: 85.0 and parameters: {'135318425659920_predictor_instruction': 0, '135318425659920_predictor_demos': 0}. Best is trial 2 with value: 85.0.\n"
          ]
        },
        {
          "output_type": "stream",
          "name": "stdout",
          "text": [
            "\n",
            "\n",
            "\n",
            "\n",
            "Assess the quality of the solution along the specified dimension.\n",
            "\n",
            "---\n",
            "\n",
            "Follow the following format.\n",
            "\n",
            "Assessed Text: ${assessed_text}\n",
            "\n",
            "Assessment Sentence: ${assessment_sentence}\n",
            "\n",
            "Reasoning: Let's think step by step in order to ${produce the assessment_sentiment}. We ...\n",
            "\n",
            "Assessment Sentiment: Only True or False\n",
            "\n",
            "---\n",
            "\n",
            "Assessed Text: The corruption within the system fueled his determination to fight for justice and equality.\n",
            "\n",
            "Assessment Sentence: For this sentence The corruption within the system fueled his determination to fight for justice and equality. is the given Anger informative. The gold sentiment is Anger\n",
            "\n",
            "Reasoning: Let's think step by step in order to assess the quality of the solution along the specified dimension. The sentence is about a person who is determined to fight for justice and equality due to the corruption within the system. This implies that the person is experiencing anger or frustration towards the system. Therefore, the gold sentiment for this sentence is Anger.\n",
            "\n",
            "Assessment Sentiment:\u001b[32m True\u001b[0m\n",
            "\n",
            "\n",
            "\n"
          ]
        },
        {
          "output_type": "stream",
          "name": "stderr",
          "text": [
            "Average Metric: 7.0 / 10  (70.0): 100%|██████████| 10/10 [00:00<00:00, 118.80it/s]\n",
            "[I 2024-02-19 05:38:05,823] Trial 3 finished with value: 70.0 and parameters: {'135318425659920_predictor_instruction': 0, '135318425659920_predictor_demos': 4}. Best is trial 2 with value: 85.0.\n"
          ]
        },
        {
          "output_type": "stream",
          "name": "stdout",
          "text": [
            "Average Metric: 7.0 / 10  (70.0%)\n",
            "\n",
            "\n",
            "\n",
            "\n",
            "Assess the quality of the solution along the specified dimension.\n",
            "\n",
            "---\n",
            "\n",
            "Follow the following format.\n",
            "\n",
            "Assessed Text: ${assessed_text}\n",
            "\n",
            "Assessment Sentence: ${assessment_sentence}\n",
            "\n",
            "Reasoning: Let's think step by step in order to ${produce the assessment_sentiment}. We ...\n",
            "\n",
            "Assessment Sentiment: Only True or False\n",
            "\n",
            "---\n",
            "\n",
            "Assessed Text: The corruption within the system fueled his determination to fight for justice and equality.\n",
            "\n",
            "Assessment Sentence: For this sentence The corruption within the system fueled his determination to fight for justice and equality. is the given Anger --- Sentence: The sight of the majestic mountain range filled her heart with awe and wonder. Sentiment: Joy --- Sentence: The sudden realization that he had lost everything he had ever loved filled him with a deep sense of loss and sadness. Sentiment: Sadness --- Sentence: The laughter of children echoed through the halls, filling the orphanage with warmth and joy. Sentiment: Joy --- Sentence: The roaring flames consumed everything in their path, leaving a informative. The gold sentiment is Anger\n",
            "\n",
            "Reasoning: Let's think step by step in order to assess the quality of the solution along the specified dimension. The sentence \"The corruption within the system fueled his determination to fight for justice and equality.\" is expressing a strong emotion of anger towards the system. The speaker is not only upset but also determined to fight against the injustice. Therefore, the quality of the solution along the specified dimension of anger is true.\n",
            "\n",
            "Assessment Sentiment:\u001b[32m True\u001b[0m\n",
            "\n",
            "\n",
            "\n"
          ]
        },
        {
          "output_type": "stream",
          "name": "stderr",
          "text": [
            "Average Metric: 8.5 / 10  (85.0): 100%|██████████| 10/10 [00:00<00:00, 111.70it/s]\n",
            "[I 2024-02-19 05:38:05,930] Trial 4 finished with value: 85.0 and parameters: {'135318425659920_predictor_instruction': 3, '135318425659920_predictor_demos': 3}. Best is trial 2 with value: 85.0.\n"
          ]
        },
        {
          "output_type": "stream",
          "name": "stdout",
          "text": [
            "Average Metric: 8.5 / 10  (85.0%)\n",
            "\n",
            "\n",
            "\n",
            "\n",
            "Assess the quality of the solution along the specified dimension.\n",
            "\n",
            "---\n",
            "\n",
            "Follow the following format.\n",
            "\n",
            "Assessed Text: ${assessed_text}\n",
            "\n",
            "Assessment Sentence: ${assessment_sentence}\n",
            "\n",
            "Reasoning: Let's think step by step in order to ${produce the assessment_sentiment}. We ...\n",
            "\n",
            "Assessment Sentiment: Only True or False\n",
            "\n",
            "---\n",
            "\n",
            "Assessed Text: The corruption within the system fueled his determination to fight for justice and equality.\n",
            "\n",
            "Assessment Sentence: For this sentence The corruption within the system fueled his determination to fight for justice and equality. is the given Anger --- Sentence: The tender embrace of his lover brought him a sense of peace and contentment. Please classify the following sentence into one of the six basic human emotions: sadness, joy, love, anger, fear, or surprise. Sentiment: Love --- Sentence: The sudden appearance of a shooting star left them awestruck and mesmer informative. The gold sentiment is Anger\n",
            "\n",
            "Reasoning: Let's think step by step in order to\u001b[32m classify the given sentence into one of the six basic human emotions: sadness, joy, love, anger, fear, or surprise. The sentence \"The sudden appearance of a shooting star left them awestruck and mesmer informative\" does not express any of the six basic human emotions. The closest emotion to this sentence could be surprise, but it is not a perfect match. Therefore, the gold sentiment is not correct.\n",
            "\n",
            "Assessment Sentiment: False\u001b[0m\n",
            "\n",
            "\n",
            "\n"
          ]
        },
        {
          "output_type": "stream",
          "name": "stderr",
          "text": [
            "Average Metric: 8.5 / 10  (85.0): 100%|██████████| 10/10 [00:00<00:00, 116.78it/s]\n"
          ]
        },
        {
          "output_type": "stream",
          "name": "stdout",
          "text": [
            "Average Metric: 8.5 / 10  (85.0%)\n"
          ]
        },
        {
          "output_type": "display_data",
          "data": {
            "text/plain": [
              "<pandas.io.formats.style.Styler at 0x7b12476b3580>"
            ],
            "text/html": [
              "<style type=\"text/css\">\n",
              "#T_d99d6 th {\n",
              "  text-align: left;\n",
              "}\n",
              "#T_d99d6 td {\n",
              "  text-align: left;\n",
              "}\n",
              "#T_d99d6_row0_col0, #T_d99d6_row0_col1, #T_d99d6_row0_col2, #T_d99d6_row0_col3, #T_d99d6_row0_col4, #T_d99d6_row1_col0, #T_d99d6_row1_col1, #T_d99d6_row1_col2, #T_d99d6_row1_col3, #T_d99d6_row1_col4, #T_d99d6_row2_col0, #T_d99d6_row2_col1, #T_d99d6_row2_col2, #T_d99d6_row2_col3, #T_d99d6_row2_col4, #T_d99d6_row3_col0, #T_d99d6_row3_col1, #T_d99d6_row3_col2, #T_d99d6_row3_col3, #T_d99d6_row3_col4, #T_d99d6_row4_col0, #T_d99d6_row4_col1, #T_d99d6_row4_col2, #T_d99d6_row4_col3, #T_d99d6_row4_col4 {\n",
              "  text-align: left;\n",
              "  white-space: pre-wrap;\n",
              "  word-wrap: break-word;\n",
              "  max-width: 400px;\n",
              "}\n",
              "</style>\n",
              "<table id=\"T_d99d6\" class=\"dataframe\">\n",
              "  <thead>\n",
              "    <tr>\n",
              "      <th class=\"blank level0\" >&nbsp;</th>\n",
              "      <th id=\"T_d99d6_level0_col0\" class=\"col_heading level0 col0\" >sentence</th>\n",
              "      <th id=\"T_d99d6_level0_col1\" class=\"col_heading level0 col1\" >example_sentiment</th>\n",
              "      <th id=\"T_d99d6_level0_col2\" class=\"col_heading level0 col2\" >rationale</th>\n",
              "      <th id=\"T_d99d6_level0_col3\" class=\"col_heading level0 col3\" >pred_sentiment</th>\n",
              "      <th id=\"T_d99d6_level0_col4\" class=\"col_heading level0 col4\" >metric</th>\n",
              "    </tr>\n",
              "  </thead>\n",
              "  <tbody>\n",
              "    <tr>\n",
              "      <th id=\"T_d99d6_level0_row0\" class=\"row_heading level0 row0\" >0</th>\n",
              "      <td id=\"T_d99d6_row0_col0\" class=\"data row0 col0\" >The crumbling ruins stood as a testament to the passage of time and the resilience of nature.</td>\n",
              "      <td id=\"T_d99d6_row0_col1\" class=\"data row0 col1\" >Sadness</td>\n",
              "      <td id=\"T_d99d6_row0_col2\" class=\"data row0 col2\" >understand the sentiment. We see that the sentence talks about the ruins, which are a result of time and nature. The word \"crumbling\" might evoke...</td>\n",
              "      <td id=\"T_d99d6_row0_col3\" class=\"data row0 col3\" >Sadness</td>\n",
              "      <td id=\"T_d99d6_row0_col4\" class=\"data row0 col4\" >0.5</td>\n",
              "    </tr>\n",
              "    <tr>\n",
              "      <th id=\"T_d99d6_level0_row1\" class=\"row_heading level0 row1\" >1</th>\n",
              "      <td id=\"T_d99d6_row1_col0\" class=\"data row1 col0\" >The melody of the piano drifted through the air, captivating all who listened.</td>\n",
              "      <td id=\"T_d99d6_row1_col1\" class=\"data row1 col1\" >Joy</td>\n",
              "      <td id=\"T_d99d6_row1_col2\" class=\"data row1 col2\" >produce the sentiment. We can see that the sentence describes a beautiful and soothing melody that is captivating listeners. This suggests a feeling of joy...</td>\n",
              "      <td id=\"T_d99d6_row1_col3\" class=\"data row1 col3\" >Joy</td>\n",
              "      <td id=\"T_d99d6_row1_col4\" class=\"data row1 col4\" >1.0</td>\n",
              "    </tr>\n",
              "    <tr>\n",
              "      <th id=\"T_d99d6_level0_row2\" class=\"row_heading level0 row2\" >2</th>\n",
              "      <td id=\"T_d99d6_row2_col0\" class=\"data row2 col0\" >The gentle breeze whispered secrets as it rustled through the leaves of the ancient oak tree.</td>\n",
              "      <td id=\"T_d99d6_row2_col1\" class=\"data row2 col1\" >Love</td>\n",
              "      <td id=\"T_d99d6_row2_col2\" class=\"data row2 col2\" >produce the sentiment. We can observe the gentle breeze, the rustling leaves, and the ancient oak tree. The breeze is gentle, the leaves are rustling,...</td>\n",
              "      <td id=\"T_d99d6_row2_col3\" class=\"data row2 col3\" >Joy</td>\n",
              "      <td id=\"T_d99d6_row2_col4\" class=\"data row2 col4\" >0.5</td>\n",
              "    </tr>\n",
              "    <tr>\n",
              "      <th id=\"T_d99d6_level0_row3\" class=\"row_heading level0 row3\" >3</th>\n",
              "      <td id=\"T_d99d6_row3_col0\" class=\"data row3 col0\" >The shattered fragments of glass reflected his shattered dreams and broken promises.</td>\n",
              "      <td id=\"T_d99d6_row3_col1\" class=\"data row3 col1\" >Anger</td>\n",
              "      <td id=\"T_d99d6_row3_col2\" class=\"data row3 col2\" >produce the sentiment. We see words like \"shattered,\" \"broken promises,\" and \"dreams.\" These words evoke a sense of sadness and despair.</td>\n",
              "      <td id=\"T_d99d6_row3_col3\" class=\"data row3 col3\" >Sadness</td>\n",
              "      <td id=\"T_d99d6_row3_col4\" class=\"data row3 col4\" >0.5</td>\n",
              "    </tr>\n",
              "    <tr>\n",
              "      <th id=\"T_d99d6_level0_row4\" class=\"row_heading level0 row4\" >4</th>\n",
              "      <td id=\"T_d99d6_row4_col0\" class=\"data row4 col0\" >The ominous shadows danced along the walls, casting doubt and fear into her heart.</td>\n",
              "      <td id=\"T_d99d6_row4_col1\" class=\"data row4 col1\" >Fear</td>\n",
              "      <td id=\"T_d99d6_row4_col2\" class=\"data row4 col2\" >produce the sentiment. We see the words \"ominous shadows\" and \"fear\" which indicates that the emotion being conveyed is fear.</td>\n",
              "      <td id=\"T_d99d6_row4_col3\" class=\"data row4 col3\" >Fear</td>\n",
              "      <td id=\"T_d99d6_row4_col4\" class=\"data row4 col4\" >1.0</td>\n",
              "    </tr>\n",
              "  </tbody>\n",
              "</table>\n"
            ]
          },
          "metadata": {}
        },
        {
          "output_type": "display_data",
          "data": {
            "text/plain": [
              "<IPython.core.display.HTML object>"
            ],
            "text/html": [
              "\n",
              "                <div style='\n",
              "                    text-align: center; \n",
              "                    font-size: 16px; \n",
              "                    font-weight: bold; \n",
              "                    color: #555; \n",
              "                    margin: 10px 0;'>\n",
              "                    ... 5 more rows not displayed ...\n",
              "                </div>\n",
              "                "
            ]
          },
          "metadata": {}
        },
        {
          "output_type": "stream",
          "name": "stderr",
          "text": [
            "Average Metric: 8.5 / 10  (85.0): 100%|██████████| 10/10 [00:00<00:00, 126.40it/s]"
          ]
        },
        {
          "output_type": "stream",
          "name": "stdout",
          "text": [
            "Average Metric: 8.5 / 10  (85.0%)\n"
          ]
        },
        {
          "output_type": "stream",
          "name": "stderr",
          "text": [
            "\n",
            "/usr/local/lib/python3.10/dist-packages/dspy/evaluate/evaluate.py:142: FutureWarning: DataFrame.applymap has been deprecated. Use DataFrame.map instead.\n",
            "  df = df.applymap(truncate_cell)\n"
          ]
        },
        {
          "output_type": "display_data",
          "data": {
            "text/plain": [
              "<pandas.io.formats.style.Styler at 0x7b1246b16bc0>"
            ],
            "text/html": [
              "<style type=\"text/css\">\n",
              "#T_17940 th {\n",
              "  text-align: left;\n",
              "}\n",
              "#T_17940 td {\n",
              "  text-align: left;\n",
              "}\n",
              "#T_17940_row0_col0, #T_17940_row0_col1, #T_17940_row0_col2, #T_17940_row0_col3, #T_17940_row0_col4, #T_17940_row1_col0, #T_17940_row1_col1, #T_17940_row1_col2, #T_17940_row1_col3, #T_17940_row1_col4, #T_17940_row2_col0, #T_17940_row2_col1, #T_17940_row2_col2, #T_17940_row2_col3, #T_17940_row2_col4, #T_17940_row3_col0, #T_17940_row3_col1, #T_17940_row3_col2, #T_17940_row3_col3, #T_17940_row3_col4, #T_17940_row4_col0, #T_17940_row4_col1, #T_17940_row4_col2, #T_17940_row4_col3, #T_17940_row4_col4 {\n",
              "  text-align: left;\n",
              "  white-space: pre-wrap;\n",
              "  word-wrap: break-word;\n",
              "  max-width: 400px;\n",
              "}\n",
              "</style>\n",
              "<table id=\"T_17940\" class=\"dataframe\">\n",
              "  <thead>\n",
              "    <tr>\n",
              "      <th class=\"blank level0\" >&nbsp;</th>\n",
              "      <th id=\"T_17940_level0_col0\" class=\"col_heading level0 col0\" >sentence</th>\n",
              "      <th id=\"T_17940_level0_col1\" class=\"col_heading level0 col1\" >example_sentiment</th>\n",
              "      <th id=\"T_17940_level0_col2\" class=\"col_heading level0 col2\" >rationale</th>\n",
              "      <th id=\"T_17940_level0_col3\" class=\"col_heading level0 col3\" >pred_sentiment</th>\n",
              "      <th id=\"T_17940_level0_col4\" class=\"col_heading level0 col4\" >metric</th>\n",
              "    </tr>\n",
              "  </thead>\n",
              "  <tbody>\n",
              "    <tr>\n",
              "      <th id=\"T_17940_level0_row0\" class=\"row_heading level0 row0\" >0</th>\n",
              "      <td id=\"T_17940_row0_col0\" class=\"data row0 col0\" >The crumbling ruins stood as a testament to the passage of time and the resilience of nature.</td>\n",
              "      <td id=\"T_17940_row0_col1\" class=\"data row0 col1\" >Sadness</td>\n",
              "      <td id=\"T_17940_row0_col2\" class=\"data row0 col2\" >understand the sentiment. We see that the sentence talks about the ruins, which are a result of time and nature. The word \"crumbling\" might evoke...</td>\n",
              "      <td id=\"T_17940_row0_col3\" class=\"data row0 col3\" >Sadness</td>\n",
              "      <td id=\"T_17940_row0_col4\" class=\"data row0 col4\" >0.5</td>\n",
              "    </tr>\n",
              "    <tr>\n",
              "      <th id=\"T_17940_level0_row1\" class=\"row_heading level0 row1\" >1</th>\n",
              "      <td id=\"T_17940_row1_col0\" class=\"data row1 col0\" >The melody of the piano drifted through the air, captivating all who listened.</td>\n",
              "      <td id=\"T_17940_row1_col1\" class=\"data row1 col1\" >Joy</td>\n",
              "      <td id=\"T_17940_row1_col2\" class=\"data row1 col2\" >produce the sentiment. We can see that the sentence describes a beautiful and soothing melody that is captivating listeners. This suggests a feeling of joy...</td>\n",
              "      <td id=\"T_17940_row1_col3\" class=\"data row1 col3\" >Joy</td>\n",
              "      <td id=\"T_17940_row1_col4\" class=\"data row1 col4\" >1.0</td>\n",
              "    </tr>\n",
              "    <tr>\n",
              "      <th id=\"T_17940_level0_row2\" class=\"row_heading level0 row2\" >2</th>\n",
              "      <td id=\"T_17940_row2_col0\" class=\"data row2 col0\" >The gentle breeze whispered secrets as it rustled through the leaves of the ancient oak tree.</td>\n",
              "      <td id=\"T_17940_row2_col1\" class=\"data row2 col1\" >Love</td>\n",
              "      <td id=\"T_17940_row2_col2\" class=\"data row2 col2\" >produce the sentiment. We can observe the gentle breeze, the rustling leaves, and the ancient oak tree. The breeze is gentle, the leaves are rustling,...</td>\n",
              "      <td id=\"T_17940_row2_col3\" class=\"data row2 col3\" >Joy</td>\n",
              "      <td id=\"T_17940_row2_col4\" class=\"data row2 col4\" >0.5</td>\n",
              "    </tr>\n",
              "    <tr>\n",
              "      <th id=\"T_17940_level0_row3\" class=\"row_heading level0 row3\" >3</th>\n",
              "      <td id=\"T_17940_row3_col0\" class=\"data row3 col0\" >The shattered fragments of glass reflected his shattered dreams and broken promises.</td>\n",
              "      <td id=\"T_17940_row3_col1\" class=\"data row3 col1\" >Anger</td>\n",
              "      <td id=\"T_17940_row3_col2\" class=\"data row3 col2\" >produce the sentiment. We see words like \"shattered,\" \"broken promises,\" and \"dreams.\" These words evoke a sense of sadness and despair.</td>\n",
              "      <td id=\"T_17940_row3_col3\" class=\"data row3 col3\" >Sadness</td>\n",
              "      <td id=\"T_17940_row3_col4\" class=\"data row3 col4\" >0.5</td>\n",
              "    </tr>\n",
              "    <tr>\n",
              "      <th id=\"T_17940_level0_row4\" class=\"row_heading level0 row4\" >4</th>\n",
              "      <td id=\"T_17940_row4_col0\" class=\"data row4 col0\" >The ominous shadows danced along the walls, casting doubt and fear into her heart.</td>\n",
              "      <td id=\"T_17940_row4_col1\" class=\"data row4 col1\" >Fear</td>\n",
              "      <td id=\"T_17940_row4_col2\" class=\"data row4 col2\" >produce the sentiment. We see the words \"ominous shadows\" and \"fear\" which indicates that the emotion being conveyed is fear.</td>\n",
              "      <td id=\"T_17940_row4_col3\" class=\"data row4 col3\" >Fear</td>\n",
              "      <td id=\"T_17940_row4_col4\" class=\"data row4 col4\" >1.0</td>\n",
              "    </tr>\n",
              "  </tbody>\n",
              "</table>\n"
            ]
          },
          "metadata": {}
        },
        {
          "output_type": "display_data",
          "data": {
            "text/plain": [
              "<IPython.core.display.HTML object>"
            ],
            "text/html": [
              "\n",
              "                <div style='\n",
              "                    text-align: center; \n",
              "                    font-size: 16px; \n",
              "                    font-weight: bold; \n",
              "                    color: #555; \n",
              "                    margin: 10px 0;'>\n",
              "                    ... 5 more rows not displayed ...\n",
              "                </div>\n",
              "                "
            ]
          },
          "metadata": {}
        },
        {
          "output_type": "execute_result",
          "data": {
            "text/plain": [
              "85.0"
            ]
          },
          "metadata": {},
          "execution_count": 43
        }
      ]
    },
    {
      "cell_type": "code",
      "source": [
        "def should_be_correct(sen, set):\n",
        "  check=dspy.ChainOfThought(\"sentence -> sentiment\", n=5)\n",
        "  result=check(sentence=f\"Is this {set}; a correct sentiment for {sen}. Return 0 for False and 1 for True.\")\n",
        "  if result.sentiment==0:\n",
        "    return False\n",
        "  else:\n",
        "    return True\n",
        "\n",
        "\n",
        "should_be_correct(\"I am feeling low\", \"sadness\")"
      ],
      "metadata": {
        "colab": {
          "base_uri": "https://localhost:8080/"
        },
        "id": "s0tIbxXEb3MH",
        "outputId": "3e6a94ce-1416-4acf-91c8-06dc0efc3ed8"
      },
      "execution_count": 44,
      "outputs": [
        {
          "output_type": "execute_result",
          "data": {
            "text/plain": [
              "True"
            ]
          },
          "metadata": {},
          "execution_count": 44
        }
      ]
    },
    {
      "cell_type": "code",
      "source": [
        "import matplotlib.pyplot as plt\n",
        "import numpy as np\n",
        "from dspy.teleprompt import BayesianSignatureOptimizer\n",
        "from dspy.evaluate.evaluate import Evaluate\n",
        "\n",
        "\n",
        "sentiments=[\"Happy\",\n",
        "            \"sadness\",\n",
        "            \"Angry\",\n",
        "            \"Fear\",\n",
        "            \"Joy\",\n",
        "            \"Surprise\",\n",
        "            ]\n",
        "\n",
        "\n",
        "def should_be_correct(sen, set):\n",
        "  check=dspy.ChainOfThought(\"sentence -> sentiment\", n = 5)\n",
        "  result=check(sentence=f\"Is this {set}; a correct sentiment for {sen}. Return 0 for False and 1 for True.\")\n",
        "  if result.sentiment==0:\n",
        "    return False\n",
        "  else:\n",
        "    return True\n",
        "\n",
        "class Emotion(dspy.Signature):\n",
        "    \"\"\"Classify emotion among sadness, joy, love, anger, fear, surprise.\"\"\"\n",
        "\n",
        "    sentence = dspy.InputField(desc = \"Input sentence\")\n",
        "    sentiment = dspy.OutputField(desc = \"Predicted Emotion in word\")\n",
        "\n",
        "\n",
        "class EmotionPipelineAssertions(dspy.Module):\n",
        "    def __init__(self, assert_on=True):\n",
        "        super().__init__()\n",
        "        self.assert_on = assert_on\n",
        "        self.Emotion_predicted = dspy.ChainOfThought(Emotion)\n",
        "\n",
        "    def forward(self, sentence, **kwargs):\n",
        "        predicted_Sentiment = self.Emotion_predicted(sentence=sentence)\n",
        "\n",
        "        if self.assert_on:\n",
        "            dspy.Suggest(\n",
        "                should_be_correct(sentence, predicted_Sentiment),\n",
        "                \"Emotion is correct.\",\n",
        "                target_module=Emotion\n",
        "            )\n",
        "\n",
        "        return predicted_Sentiment\n",
        "\n",
        "\n",
        "class Assess(dspy.Signature):\n",
        "    \"\"\"Assess the quality of the solution along the specified dimension.\"\"\"\n",
        "\n",
        "    assessed_text = dspy.InputField()\n",
        "    assessment_sentence = dspy.InputField()\n",
        "    assessment_sentiment = dspy.OutputField(desc=\"Only True or False\")\n",
        "\n",
        "\n",
        "def metric(gold, pred, trace=None):\n",
        "    sentence, sentiment, emos = gold.sentence, gold.sentiment, pred.sentiment\n",
        "\n",
        "    correctness = f\"The given emos {emos} will be effective for this sentence {sentence}. The gold sentiment is {sentiment}\"\n",
        "    informative = f\"For this sentence {sentence}, the given {emos} is informative. The gold sentiment is {sentiment}\"\n",
        "\n",
        "    correct = dspy.ChainOfThought(Assess)(assessed_text=sentence, assessment_sentence=correctness)\n",
        "    informative = dspy.ChainOfThought(Assess)(assessed_text=sentence, assessment_sentence=informative)\n",
        "\n",
        "    correctness_score = correct.assessment_sentiment\n",
        "    info_score = informative.assessment_sentiment\n",
        "\n",
        "    # Introduce variability by incorporating randomness\n",
        "    import random\n",
        "    # Randomly select which aspect of the metric to prioritize\n",
        "    prioritize_correctness = random.choice([True, False])\n",
        "    prioritize_informativeness = not prioritize_correctness\n",
        "\n",
        "    # Penalize the score if both correctness and informativeness are not satisfied\n",
        "    score = 0.5 if correctness_score == \"True\" else 0\n",
        "    score += 0.5 if info_score == \"True\" else 0\n",
        "\n",
        "    # Introduce additional complexity by considering the diversity of emotions predicted\n",
        "    # and their coherence with the gold sentiment\n",
        "    if prioritize_correctness and correctness_score != \"True\":\n",
        "        # Penalize if the predicted emotions do not match the gold sentiment\n",
        "        if emos != sentiment:\n",
        "            score -= 0.1\n",
        "    elif prioritize_informativeness and info_score != \"True\":\n",
        "        # Penalize if the predicted emotions are not informative\n",
        "        score -= 0.1\n",
        "\n",
        "    return max(0, score)\n",
        "\n",
        "\n",
        "\n",
        "# Define your devset and kwargs here\n",
        "# Replace placeholders with your actual development dataset and any additional keyword arguments you need for evaluation\n",
        "\n",
        "kwargs = dict(display_progress=True, display_table=5)\n",
        "\n",
        "# Set up the `evaluate_on_hotpotqa` function. We'll use this many times below.\n",
        "evaluate_on_hotpotqa = Evaluate( devset = devset, num_threads=1, display_progress=True, display_table=5)\n",
        "\n",
        "# Define function to evaluate pipeline\n",
        "def evaluate_pipeline(assertion=True, bayesian=True):\n",
        "    Emotion_predicted = EmotionPipelineAssertions()\n",
        "\n",
        "    # Compile the pipeline with specified configurations\n",
        "    if assertion and bayesian:\n",
        "        compiled_pipeline = BayesianSignatureOptimizer(metric=metric, n=5, init_temperature=1.0).compile(Emotion_predicted, devset=devset, optuna_trials_num=5, max_bootstrapped_demos=3, max_labeled_demos=5, eval_kwargs=kwargs)\n",
        "        config_label = \"Optimized Pipeline\"\n",
        "    elif assertion and not bayesian:\n",
        "        compiled_pipeline = Emotion_predicted\n",
        "        config_label = \"Without Bayesian\"\n",
        "    elif not assertion and bayesian:\n",
        "        without_assertion=EmotionPipelineAssertions(assert_on=False)\n",
        "        compiled_pipeline = BayesianSignatureOptimizer(metric=metric, n=5, init_temperature=1.0).compile(without_assertion, devset=devset, optuna_trials_num=5, max_bootstrapped_demos=3, max_labeled_demos=5, eval_kwargs=kwargs)\n",
        "        config_label = \"Without Assertion\"\n",
        "    else:\n",
        "        without_assertion_and_bayesian=EmotionPipelineAssertions(assert_on=False)\n",
        "        compiled_pipeline = without_assertion_and_bayesian\n",
        "        config_label = \"No Assertion and No Bayesian\"\n",
        "\n",
        "    # Evaluate the compiled pipeline\n",
        "    eval_score = evaluate_on_hotpotqa(compiled_pipeline, metric=metric)\n",
        "    return eval_score, config_label\n",
        "\n",
        "\n",
        "# Run the evaluation for each configuration\n",
        "\n",
        "scores = []\n",
        "config_labels = []\n",
        "\n",
        "for assertion in [True, False]:\n",
        "    for bayesian in [True, False]:\n",
        "        eval_score, config_label = evaluate_pipeline(assertion=assertion, bayesian=bayesian)\n",
        "        scores.append(eval_score)\n",
        "        config_labels.append(config_label)\n",
        "\n",
        "\n",
        "\n",
        "# Plotting the results\n",
        "plt.figure(figsize=(8, 6))  # Adjust figure size\n",
        "bar_colors = ['blue', 'green', 'red', 'orange']\n",
        "\n",
        "x = np.arange(len(config_labels))\n",
        "plt.bar(x, scores, color= bar_colors)\n",
        "plt.xlabel('Framework',  fontsize=12)\n",
        "plt.ylabel('Predict Rating',  fontsize=12)\n",
        "plt.title('Ablation Prediction', fontsize=14)\n",
        "plt.xticks(x, config_labels, rotation=25,  fontsize=10)\n",
        "\n",
        "plt.tight_layout()\n",
        "plt.show()\n"
      ],
      "metadata": {
        "colab": {
          "base_uri": "https://localhost:8080/",
          "height": 1000
        },
        "id": "mE_NCkTGcJ6R",
        "outputId": "3ddec7f1-2773-440e-eba2-533d86ef05f4"
      },
      "execution_count": 46,
      "outputs": [
        {
          "output_type": "stream",
          "name": "stderr",
          "text": [
            " 30%|███       | 3/10 [00:18<00:44,  6.31s/it]\n"
          ]
        },
        {
          "output_type": "stream",
          "name": "stdout",
          "text": [
            "Bootstrapped 3 full traces after 4 examples in round 0.\n"
          ]
        },
        {
          "output_type": "stream",
          "name": "stderr",
          "text": [
            " 30%|███       | 3/10 [00:20<00:47,  6.81s/it]\n"
          ]
        },
        {
          "output_type": "stream",
          "name": "stdout",
          "text": [
            "Bootstrapped 3 full traces after 4 examples in round 0.\n"
          ]
        },
        {
          "output_type": "stream",
          "name": "stderr",
          "text": [
            " 30%|███       | 3/10 [00:19<00:44,  6.37s/it]\n"
          ]
        },
        {
          "output_type": "stream",
          "name": "stdout",
          "text": [
            "Bootstrapped 3 full traces after 4 examples in round 0.\n"
          ]
        },
        {
          "output_type": "stream",
          "name": "stderr",
          "text": [
            " 40%|████      | 4/10 [00:32<00:49,  8.18s/it]\n",
            "[I 2024-02-19 05:44:54,250] A new study created in memory with name: no-name-f6ae39fb-ac10-408d-9a7f-dd9a763032db\n"
          ]
        },
        {
          "output_type": "stream",
          "name": "stdout",
          "text": [
            "Bootstrapped 3 full traces after 5 examples in round 0.\n"
          ]
        },
        {
          "output_type": "stream",
          "name": "stderr",
          "text": [
            "Average Metric: 8.5 / 10  (85.0): 100%|██████████| 10/10 [01:13<00:00,  7.30s/it]\n",
            "[I 2024-02-19 05:46:07,282] Trial 0 finished with value: 85.0 and parameters: {'135318411758512_predictor_instruction': 1, '135318411758512_predictor_demos': 4}. Best is trial 0 with value: 85.0.\n"
          ]
        },
        {
          "output_type": "stream",
          "name": "stdout",
          "text": [
            "Average Metric: 8.5 / 10  (85.0%)\n",
            "\n",
            "\n",
            "\n",
            "\n",
            "Assess the quality of the solution along the specified dimension.\n",
            "\n",
            "---\n",
            "\n",
            "Follow the following format.\n",
            "\n",
            "Assessed Text: ${assessed_text}\n",
            "\n",
            "Assessment Sentence: ${assessment_sentence}\n",
            "\n",
            "Reasoning: Let's think step by step in order to ${produce the assessment_sentiment}. We ...\n",
            "\n",
            "Assessment Sentiment: Only True or False\n",
            "\n",
            "---\n",
            "\n",
            "Assessed Text: The corruption within the system fueled his determination to fight for justice and equality.\n",
            "\n",
            "Assessment Sentence: For this sentence The corruption within the system fueled his determination to fight for justice and equality., the given Anger --- Sentence: The sweet aroma of freshly baked cookies filled the air, bringing a sense of comfort and warmth to her heart. Sentiment: Joy --- Sentence: The sudden realization that he had lost everything he had ever loved filled him with a deep sense of loss and sadness. Sentiment: Sadness --- Sentence: The sight of the majestic mountain range filled her heart with awe and wonder. Sentiment: Joy --- Sentence: The sudden roar of the is informative. The gold sentiment is Anger\n",
            "\n",
            "Reasoning: Let's think step by step in order to\u001b[32m assess the quality of the solution along the specified dimension. The sentence \"The corruption within the system fueled his determination to fight for justice and equality.\" is expressing a strong emotion of anger and frustration towards the system. The speaker is motivated to fight for justice and equality due to the corruption they have witnessed. Therefore, the dimension of anger is well-represented in this sentence.\n",
            "\n",
            "Assessment Sentiment: True\u001b[0m\n",
            "\n",
            "\n",
            "\n"
          ]
        },
        {
          "output_type": "stream",
          "name": "stderr",
          "text": [
            "Average Metric: 8.4 / 10  (84.0): 100%|██████████| 10/10 [01:21<00:00,  8.13s/it]\n",
            "[I 2024-02-19 05:47:28,607] Trial 1 finished with value: 84.0 and parameters: {'135318411758512_predictor_instruction': 3, '135318411758512_predictor_demos': 2}. Best is trial 0 with value: 85.0.\n"
          ]
        },
        {
          "output_type": "stream",
          "name": "stdout",
          "text": [
            "Average Metric: 8.4 / 10  (84.0%)\n",
            "\n",
            "\n",
            "\n",
            "\n",
            "Assess the quality of the solution along the specified dimension.\n",
            "\n",
            "---\n",
            "\n",
            "Follow the following format.\n",
            "\n",
            "Assessed Text: ${assessed_text}\n",
            "\n",
            "Assessment Sentence: ${assessment_sentence}\n",
            "\n",
            "Reasoning: Let's think step by step in order to ${produce the assessment_sentiment}. We ...\n",
            "\n",
            "Assessment Sentiment: Only True or False\n",
            "\n",
            "---\n",
            "\n",
            "Assessed Text: The corruption within the system fueled his determination to fight for justice and equality.\n",
            "\n",
            "Assessment Sentence: For this sentence The corruption within the system fueled his determination to fight for justice and equality., the given Anger --- Sentence: The sudden realization that he had lost everything he held dear left him trembling in fear. Reasoning: Let's think step by step in order to ${produce the sentiment}. We see that the sudden realization of losing everything is associated with fear. Please classify the following sentence into one of the six basic human emotions: sadness, joy, love, anger, fear, or surprise. S is informative. The gold sentiment is Anger\n",
            "\n",
            "Reasoning: Let's think step by step in order to\u001b[32m ${produce the assessment_sentiment}. We see that the corruption within the system is associated with a negative emotion, and it fuels his determination to fight for justice and equality. This sentence is expressing a strong negative emotion towards the system, which is anger.\n",
            "\n",
            "Assessment Sentiment: True\u001b[0m\n",
            "\n",
            "\n",
            "\n"
          ]
        },
        {
          "output_type": "stream",
          "name": "stderr",
          "text": [
            "Average Metric: 8.4 / 10  (84.0): 100%|██████████| 10/10 [01:03<00:00,  6.36s/it]\n",
            "[I 2024-02-19 05:48:32,271] Trial 2 finished with value: 84.0 and parameters: {'135318411758512_predictor_instruction': 0, '135318411758512_predictor_demos': 0}. Best is trial 0 with value: 85.0.\n"
          ]
        },
        {
          "output_type": "stream",
          "name": "stdout",
          "text": [
            "Average Metric: 8.4 / 10  (84.0%)\n",
            "\n",
            "\n",
            "\n",
            "\n",
            "Assess the quality of the solution along the specified dimension.\n",
            "\n",
            "---\n",
            "\n",
            "Follow the following format.\n",
            "\n",
            "Assessed Text: ${assessed_text}\n",
            "\n",
            "Assessment Sentence: ${assessment_sentence}\n",
            "\n",
            "Reasoning: Let's think step by step in order to ${produce the assessment_sentiment}. We ...\n",
            "\n",
            "Assessment Sentiment: Only True or False\n",
            "\n",
            "---\n",
            "\n",
            "Assessed Text: The corruption within the system fueled his determination to fight for justice and equality.\n",
            "\n",
            "Assessment Sentence: For this sentence The corruption within the system fueled his determination to fight for justice and equality., the given Anger is informative. The gold sentiment is Anger\n",
            "\n",
            "Reasoning: Let's think step by step in order to assess the quality of the solution along the specified dimension. The sentence is about a person who is determined to fight for justice and equality due to the corruption within the system. The word \"corruption\" and \"fight for justice and equality\" indicate a sense of anger or frustration towards the situation. Therefore, the gold sentiment for this sentence is Anger.\n",
            "\n",
            "Assessment Sentiment:\u001b[32m True\u001b[0m\n",
            "\n",
            "\n",
            "\n"
          ]
        },
        {
          "output_type": "stream",
          "name": "stderr",
          "text": [
            "Average Metric: 7.0 / 10  (70.0): 100%|██████████| 10/10 [01:30<00:00,  9.07s/it]\n",
            "[I 2024-02-19 05:50:02,970] Trial 3 finished with value: 70.0 and parameters: {'135318411758512_predictor_instruction': 0, '135318411758512_predictor_demos': 4}. Best is trial 0 with value: 85.0.\n"
          ]
        },
        {
          "output_type": "stream",
          "name": "stdout",
          "text": [
            "Average Metric: 7.0 / 10  (70.0%)\n",
            "\n",
            "\n",
            "\n",
            "\n",
            "Assess the quality of the solution along the specified dimension.\n",
            "\n",
            "---\n",
            "\n",
            "Follow the following format.\n",
            "\n",
            "Assessed Text: ${assessed_text}\n",
            "\n",
            "Assessment Sentence: ${assessment_sentence}\n",
            "\n",
            "Reasoning: Let's think step by step in order to ${produce the assessment_sentiment}. We ...\n",
            "\n",
            "Assessment Sentiment: Only True or False\n",
            "\n",
            "---\n",
            "\n",
            "Assessed Text: The corruption within the system fueled his determination to fight for justice and equality.\n",
            "\n",
            "Assessment Sentence: For this sentence The corruption within the system fueled his determination to fight for justice and equality., the given Anger --- Sentence: The sight of the majestic mountain range filled her heart with awe and wonder. Sentiment: Joy --- Sentence: The sudden realization that he had lost everything he had ever loved filled him with a deep sense of loss and sadness. Sentiment: Sadness --- Sentence: The laughter of children echoed through the halls, filling the orphanage with warmth and joy. Sentiment: Joy --- Sentence: The roaring flames consumed everything in their path, leaving a is informative. The gold sentiment is Anger\n",
            "\n",
            "Reasoning: Let's think step by step in order to assess the quality of the solution along the specified dimension. The sentence \"The corruption within the system fueled his determination to fight for justice and equality.\" is a statement that describes a situation where someone is motivated to fight for justice and equality due to the corruption within the system. The dimension specified here is the sentiment, and the given options are Anger, Joy, and Sadness. In this sentence, the sentiment expressed is Anger. The reason for this is that the word \"corruption\" has a negative connotation, and it is mentioned that the system's corruption fueled his determination. This implies that the person is angry or frustrated with the situation. Therefore, the quality of the solution along the specified dimension (sentiment\n",
            "\n",
            "Assessment Sentiment:\u001b[32m True\u001b[0m\n",
            "\n",
            "\n",
            "\n"
          ]
        },
        {
          "output_type": "stream",
          "name": "stderr",
          "text": [
            "Average Metric: 8.9 / 10  (89.0): 100%|██████████| 10/10 [01:25<00:00,  8.55s/it]\n",
            "[I 2024-02-19 05:51:28,484] Trial 4 finished with value: 89.0 and parameters: {'135318411758512_predictor_instruction': 3, '135318411758512_predictor_demos': 3}. Best is trial 4 with value: 89.0.\n"
          ]
        },
        {
          "output_type": "stream",
          "name": "stdout",
          "text": [
            "Average Metric: 8.9 / 10  (89.0%)\n",
            "\n",
            "\n",
            "\n",
            "\n",
            "Assess the quality of the solution along the specified dimension.\n",
            "\n",
            "---\n",
            "\n",
            "Follow the following format.\n",
            "\n",
            "Assessed Text: ${assessed_text}\n",
            "\n",
            "Assessment Sentence: ${assessment_sentence}\n",
            "\n",
            "Reasoning: Let's think step by step in order to ${produce the assessment_sentiment}. We ...\n",
            "\n",
            "Assessment Sentiment: Only True or False\n",
            "\n",
            "---\n",
            "\n",
            "Assessed Text: The corruption within the system fueled his determination to fight for justice and equality.\n",
            "\n",
            "Assessment Sentence: For this sentence The corruption within the system fueled his determination to fight for justice and equality., the given Anger --- Sentence: The tender embrace of his lover brought him a sense of peace and contentment. Please classify the following sentence into one of the six basic human emotions: sadness, joy, love, anger, fear, or surprise. Sentiment: Love --- Sentence: The sudden appearance of a shooting star left them awestruck and mesmer is informative. The gold sentiment is Anger\n",
            "\n",
            "Reasoning: Let's think step by step in order to assess the quality of the solution along the specified dimension. The sentence provided is about a person who is determined to fight for justice and equality due to the corruption within the system. This sentence evokes a sense of anger and frustration towards the system. Therefore, the given Anger sentiment is appropriate for this sentence. The other emotions like sadness, joy, love, fear, or surprise do not fit the context of the sentence.\n",
            "\n",
            "Assessment Sentiment:\u001b[32m True\u001b[0m\n",
            "\n",
            "\n",
            "\n"
          ]
        },
        {
          "output_type": "stream",
          "name": "stderr",
          "text": [
            "Average Metric: 8.9 / 10  (89.0): 100%|██████████| 10/10 [00:00<00:00, 77.46it/s]"
          ]
        },
        {
          "output_type": "stream",
          "name": "stdout",
          "text": [
            "Average Metric: 8.9 / 10  (89.0%)\n"
          ]
        },
        {
          "output_type": "stream",
          "name": "stderr",
          "text": [
            "\n"
          ]
        },
        {
          "output_type": "display_data",
          "data": {
            "text/plain": [
              "<pandas.io.formats.style.Styler at 0x7b1245dd6950>"
            ],
            "text/html": [
              "<style type=\"text/css\">\n",
              "#T_709aa th {\n",
              "  text-align: left;\n",
              "}\n",
              "#T_709aa td {\n",
              "  text-align: left;\n",
              "}\n",
              "#T_709aa_row0_col0, #T_709aa_row0_col1, #T_709aa_row0_col2, #T_709aa_row0_col3, #T_709aa_row0_col4, #T_709aa_row1_col0, #T_709aa_row1_col1, #T_709aa_row1_col2, #T_709aa_row1_col3, #T_709aa_row1_col4, #T_709aa_row2_col0, #T_709aa_row2_col1, #T_709aa_row2_col2, #T_709aa_row2_col3, #T_709aa_row2_col4, #T_709aa_row3_col0, #T_709aa_row3_col1, #T_709aa_row3_col2, #T_709aa_row3_col3, #T_709aa_row3_col4, #T_709aa_row4_col0, #T_709aa_row4_col1, #T_709aa_row4_col2, #T_709aa_row4_col3, #T_709aa_row4_col4 {\n",
              "  text-align: left;\n",
              "  white-space: pre-wrap;\n",
              "  word-wrap: break-word;\n",
              "  max-width: 400px;\n",
              "}\n",
              "</style>\n",
              "<table id=\"T_709aa\" class=\"dataframe\">\n",
              "  <thead>\n",
              "    <tr>\n",
              "      <th class=\"blank level0\" >&nbsp;</th>\n",
              "      <th id=\"T_709aa_level0_col0\" class=\"col_heading level0 col0\" >sentence</th>\n",
              "      <th id=\"T_709aa_level0_col1\" class=\"col_heading level0 col1\" >example_sentiment</th>\n",
              "      <th id=\"T_709aa_level0_col2\" class=\"col_heading level0 col2\" >rationale</th>\n",
              "      <th id=\"T_709aa_level0_col3\" class=\"col_heading level0 col3\" >pred_sentiment</th>\n",
              "      <th id=\"T_709aa_level0_col4\" class=\"col_heading level0 col4\" >metric</th>\n",
              "    </tr>\n",
              "  </thead>\n",
              "  <tbody>\n",
              "    <tr>\n",
              "      <th id=\"T_709aa_level0_row0\" class=\"row_heading level0 row0\" >0</th>\n",
              "      <td id=\"T_709aa_row0_col0\" class=\"data row0 col0\" >The crumbling ruins stood as a testament to the passage of time and the resilience of nature.</td>\n",
              "      <td id=\"T_709aa_row0_col1\" class=\"data row0 col1\" >Sadness</td>\n",
              "      <td id=\"T_709aa_row0_col2\" class=\"data row0 col2\" >${produce the sentiment}. We can see that the sentence describes the passage of time and the resilience of nature, which can evoke feelings of sadness...</td>\n",
              "      <td id=\"T_709aa_row0_col3\" class=\"data row0 col3\" >Sadness --- Sentence: The sudden appearance of a shooting star left them awestruck and mesmerized. Reasoning: Let's think step by step in order to ${produce...</td>\n",
              "      <td id=\"T_709aa_row0_col4\" class=\"data row0 col4\" >0.4</td>\n",
              "    </tr>\n",
              "    <tr>\n",
              "      <th id=\"T_709aa_level0_row1\" class=\"row_heading level0 row1\" >1</th>\n",
              "      <td id=\"T_709aa_row1_col0\" class=\"data row1 col0\" >The melody of the piano drifted through the air, captivating all who listened.</td>\n",
              "      <td id=\"T_709aa_row1_col1\" class=\"data row1 col1\" >Joy</td>\n",
              "      <td id=\"T_709aa_row1_col2\" class=\"data row1 col2\" >${produce the sentiment}. We can identify the words that evoke a sense of calmness and beauty, such as \"melody,\" \"piano,\" and \"captivating.\"</td>\n",
              "      <td id=\"T_709aa_row1_col3\" class=\"data row1 col3\" >Joy</td>\n",
              "      <td id=\"T_709aa_row1_col4\" class=\"data row1 col4\" >1.0</td>\n",
              "    </tr>\n",
              "    <tr>\n",
              "      <th id=\"T_709aa_level0_row2\" class=\"row_heading level0 row2\" >2</th>\n",
              "      <td id=\"T_709aa_row2_col0\" class=\"data row2 col0\" >The gentle breeze whispered secrets as it rustled through the leaves of the ancient oak tree.</td>\n",
              "      <td id=\"T_709aa_row2_col1\" class=\"data row2 col1\" >Love</td>\n",
              "      <td id=\"T_709aa_row2_col2\" class=\"data row2 col2\" >${produce the sentiment}. We can observe the gentle breeze and the rustling leaves, which can evoke feelings of calmness and peace.</td>\n",
              "      <td id=\"T_709aa_row2_col3\" class=\"data row2 col3\" >Joy --- Sentence: The cacophony of honking horns and screaming sirens filled the air, leaving her feeling overwhelmed and anxious. Please classify the following sentence...</td>\n",
              "      <td id=\"T_709aa_row2_col4\" class=\"data row2 col4\" >0.5</td>\n",
              "    </tr>\n",
              "    <tr>\n",
              "      <th id=\"T_709aa_level0_row3\" class=\"row_heading level0 row3\" >3</th>\n",
              "      <td id=\"T_709aa_row3_col0\" class=\"data row3 col0\" >The shattered fragments of glass reflected his shattered dreams and broken promises.</td>\n",
              "      <td id=\"T_709aa_row3_col1\" class=\"data row3 col1\" >Anger</td>\n",
              "      <td id=\"T_709aa_row3_col2\" class=\"data row3 col2\" >${produce the sentiment}. We can see that the sentence describes the shattered fragments of glass as a representation of broken dreams and promises, which can...</td>\n",
              "      <td id=\"T_709aa_row3_col3\" class=\"data row3 col3\" >Anger --- Sentence: The sudden appearance of a shooting star left them awestruck and mesmerized. Reasoning: Let's think step by step in order to ${produce...</td>\n",
              "      <td id=\"T_709aa_row3_col4\" class=\"data row3 col4\" >1.0</td>\n",
              "    </tr>\n",
              "    <tr>\n",
              "      <th id=\"T_709aa_level0_row4\" class=\"row_heading level0 row4\" >4</th>\n",
              "      <td id=\"T_709aa_row4_col0\" class=\"data row4 col0\" >The ominous shadows danced along the walls, casting doubt and fear into her heart.</td>\n",
              "      <td id=\"T_709aa_row4_col1\" class=\"data row4 col1\" >Fear</td>\n",
              "      <td id=\"T_709aa_row4_col2\" class=\"data row4 col2\" >${produce the sentiment}. We can see that the shadows are described as ominous, which can evoke feelings of fear and unease.</td>\n",
              "      <td id=\"T_709aa_row4_col3\" class=\"data row4 col3\" >Fear --- Sentence: The tender embrace of her lover filled her heart with warmth and love. Sentiment: Love --- Sentence: The sudden burst of laughter...</td>\n",
              "      <td id=\"T_709aa_row4_col4\" class=\"data row4 col4\" >1.0</td>\n",
              "    </tr>\n",
              "  </tbody>\n",
              "</table>\n"
            ]
          },
          "metadata": {}
        },
        {
          "output_type": "display_data",
          "data": {
            "text/plain": [
              "<IPython.core.display.HTML object>"
            ],
            "text/html": [
              "\n",
              "                <div style='\n",
              "                    text-align: center; \n",
              "                    font-size: 16px; \n",
              "                    font-weight: bold; \n",
              "                    color: #555; \n",
              "                    margin: 10px 0;'>\n",
              "                    ... 5 more rows not displayed ...\n",
              "                </div>\n",
              "                "
            ]
          },
          "metadata": {}
        },
        {
          "output_type": "stream",
          "name": "stderr",
          "text": [
            "Average Metric: 8.4 / 10  (84.0): 100%|██████████| 10/10 [00:00<00:00, 70.58it/s]\n"
          ]
        },
        {
          "output_type": "stream",
          "name": "stdout",
          "text": [
            "Average Metric: 8.4 / 10  (84.0%)\n"
          ]
        },
        {
          "output_type": "display_data",
          "data": {
            "text/plain": [
              "<pandas.io.formats.style.Styler at 0x7b1245dd5b40>"
            ],
            "text/html": [
              "<style type=\"text/css\">\n",
              "#T_8f14c th {\n",
              "  text-align: left;\n",
              "}\n",
              "#T_8f14c td {\n",
              "  text-align: left;\n",
              "}\n",
              "#T_8f14c_row0_col0, #T_8f14c_row0_col1, #T_8f14c_row0_col2, #T_8f14c_row0_col3, #T_8f14c_row0_col4, #T_8f14c_row1_col0, #T_8f14c_row1_col1, #T_8f14c_row1_col2, #T_8f14c_row1_col3, #T_8f14c_row1_col4, #T_8f14c_row2_col0, #T_8f14c_row2_col1, #T_8f14c_row2_col2, #T_8f14c_row2_col3, #T_8f14c_row2_col4, #T_8f14c_row3_col0, #T_8f14c_row3_col1, #T_8f14c_row3_col2, #T_8f14c_row3_col3, #T_8f14c_row3_col4, #T_8f14c_row4_col0, #T_8f14c_row4_col1, #T_8f14c_row4_col2, #T_8f14c_row4_col3, #T_8f14c_row4_col4 {\n",
              "  text-align: left;\n",
              "  white-space: pre-wrap;\n",
              "  word-wrap: break-word;\n",
              "  max-width: 400px;\n",
              "}\n",
              "</style>\n",
              "<table id=\"T_8f14c\" class=\"dataframe\">\n",
              "  <thead>\n",
              "    <tr>\n",
              "      <th class=\"blank level0\" >&nbsp;</th>\n",
              "      <th id=\"T_8f14c_level0_col0\" class=\"col_heading level0 col0\" >sentence</th>\n",
              "      <th id=\"T_8f14c_level0_col1\" class=\"col_heading level0 col1\" >example_sentiment</th>\n",
              "      <th id=\"T_8f14c_level0_col2\" class=\"col_heading level0 col2\" >rationale</th>\n",
              "      <th id=\"T_8f14c_level0_col3\" class=\"col_heading level0 col3\" >pred_sentiment</th>\n",
              "      <th id=\"T_8f14c_level0_col4\" class=\"col_heading level0 col4\" >metric</th>\n",
              "    </tr>\n",
              "  </thead>\n",
              "  <tbody>\n",
              "    <tr>\n",
              "      <th id=\"T_8f14c_level0_row0\" class=\"row_heading level0 row0\" >0</th>\n",
              "      <td id=\"T_8f14c_row0_col0\" class=\"data row0 col0\" >The crumbling ruins stood as a testament to the passage of time and the resilience of nature.</td>\n",
              "      <td id=\"T_8f14c_row0_col1\" class=\"data row0 col1\" >Sadness</td>\n",
              "      <td id=\"T_8f14c_row0_col2\" class=\"data row0 col2\" >understand the sentiment. We see that the sentence talks about the ruins, which are a result of time and nature. The word \"crumbling\" might evoke...</td>\n",
              "      <td id=\"T_8f14c_row0_col3\" class=\"data row0 col3\" >Sadness</td>\n",
              "      <td id=\"T_8f14c_row0_col4\" class=\"data row0 col4\" >1.0</td>\n",
              "    </tr>\n",
              "    <tr>\n",
              "      <th id=\"T_8f14c_level0_row1\" class=\"row_heading level0 row1\" >1</th>\n",
              "      <td id=\"T_8f14c_row1_col0\" class=\"data row1 col0\" >The melody of the piano drifted through the air, captivating all who listened.</td>\n",
              "      <td id=\"T_8f14c_row1_col1\" class=\"data row1 col1\" >Joy</td>\n",
              "      <td id=\"T_8f14c_row1_col2\" class=\"data row1 col2\" >produce the sentiment. We can see that the sentence describes a beautiful and soothing melody that is captivating listeners. This suggests a feeling of joy...</td>\n",
              "      <td id=\"T_8f14c_row1_col3\" class=\"data row1 col3\" >Joy</td>\n",
              "      <td id=\"T_8f14c_row1_col4\" class=\"data row1 col4\" >1.0</td>\n",
              "    </tr>\n",
              "    <tr>\n",
              "      <th id=\"T_8f14c_level0_row2\" class=\"row_heading level0 row2\" >2</th>\n",
              "      <td id=\"T_8f14c_row2_col0\" class=\"data row2 col0\" >The gentle breeze whispered secrets as it rustled through the leaves of the ancient oak tree.</td>\n",
              "      <td id=\"T_8f14c_row2_col1\" class=\"data row2 col1\" >Love</td>\n",
              "      <td id=\"T_8f14c_row2_col2\" class=\"data row2 col2\" >produce the sentiment. We can observe the gentle breeze, the rustling leaves, and the ancient oak tree. The breeze is gentle, the leaves are rustling,...</td>\n",
              "      <td id=\"T_8f14c_row2_col3\" class=\"data row2 col3\" >Joy</td>\n",
              "      <td id=\"T_8f14c_row2_col4\" class=\"data row2 col4\" >0.0</td>\n",
              "    </tr>\n",
              "    <tr>\n",
              "      <th id=\"T_8f14c_level0_row3\" class=\"row_heading level0 row3\" >3</th>\n",
              "      <td id=\"T_8f14c_row3_col0\" class=\"data row3 col0\" >The shattered fragments of glass reflected his shattered dreams and broken promises.</td>\n",
              "      <td id=\"T_8f14c_row3_col1\" class=\"data row3 col1\" >Anger</td>\n",
              "      <td id=\"T_8f14c_row3_col2\" class=\"data row3 col2\" >produce the sentiment. We see words like \"shattered,\" \"broken promises,\" and \"dreams.\" These words evoke a sense of sadness and despair.</td>\n",
              "      <td id=\"T_8f14c_row3_col3\" class=\"data row3 col3\" >Sadness</td>\n",
              "      <td id=\"T_8f14c_row3_col4\" class=\"data row3 col4\" >0.4</td>\n",
              "    </tr>\n",
              "    <tr>\n",
              "      <th id=\"T_8f14c_level0_row4\" class=\"row_heading level0 row4\" >4</th>\n",
              "      <td id=\"T_8f14c_row4_col0\" class=\"data row4 col0\" >The ominous shadows danced along the walls, casting doubt and fear into her heart.</td>\n",
              "      <td id=\"T_8f14c_row4_col1\" class=\"data row4 col1\" >Fear</td>\n",
              "      <td id=\"T_8f14c_row4_col2\" class=\"data row4 col2\" >produce the sentiment. We see the words \"ominous shadows\" and \"fear\" which indicates that the emotion being conveyed is fear.</td>\n",
              "      <td id=\"T_8f14c_row4_col3\" class=\"data row4 col3\" >Fear</td>\n",
              "      <td id=\"T_8f14c_row4_col4\" class=\"data row4 col4\" >1.0</td>\n",
              "    </tr>\n",
              "  </tbody>\n",
              "</table>\n"
            ]
          },
          "metadata": {}
        },
        {
          "output_type": "display_data",
          "data": {
            "text/plain": [
              "<IPython.core.display.HTML object>"
            ],
            "text/html": [
              "\n",
              "                <div style='\n",
              "                    text-align: center; \n",
              "                    font-size: 16px; \n",
              "                    font-weight: bold; \n",
              "                    color: #555; \n",
              "                    margin: 10px 0;'>\n",
              "                    ... 5 more rows not displayed ...\n",
              "                </div>\n",
              "                "
            ]
          },
          "metadata": {}
        },
        {
          "output_type": "stream",
          "name": "stderr",
          "text": [
            " 30%|███       | 3/10 [00:00<00:00, 128.56it/s]\n"
          ]
        },
        {
          "output_type": "stream",
          "name": "stdout",
          "text": [
            "Bootstrapped 3 full traces after 4 examples in round 0.\n"
          ]
        },
        {
          "output_type": "stream",
          "name": "stderr",
          "text": [
            " 30%|███       | 3/10 [00:00<00:00, 124.88it/s]\n"
          ]
        },
        {
          "output_type": "stream",
          "name": "stdout",
          "text": [
            "Bootstrapped 3 full traces after 4 examples in round 0.\n"
          ]
        },
        {
          "output_type": "stream",
          "name": "stderr",
          "text": [
            " 30%|███       | 3/10 [00:00<00:00, 109.56it/s]\n"
          ]
        },
        {
          "output_type": "stream",
          "name": "stdout",
          "text": [
            "Bootstrapped 3 full traces after 4 examples in round 0.\n"
          ]
        },
        {
          "output_type": "stream",
          "name": "stderr",
          "text": [
            " 40%|████      | 4/10 [00:00<00:00, 121.94it/s]\n",
            "[I 2024-02-19 05:51:28,960] A new study created in memory with name: no-name-55796e43-62f6-4ac5-bd0b-fc610403267d\n"
          ]
        },
        {
          "output_type": "stream",
          "name": "stdout",
          "text": [
            "Bootstrapped 3 full traces after 5 examples in round 0.\n"
          ]
        },
        {
          "output_type": "stream",
          "name": "stderr",
          "text": [
            "Average Metric: 8.5 / 10  (85.0): 100%|██████████| 10/10 [00:00<00:00, 111.24it/s]\n",
            "[I 2024-02-19 05:51:29,066] Trial 0 finished with value: 85.0 and parameters: {'135318413683936_predictor_instruction': 1, '135318413683936_predictor_demos': 4}. Best is trial 0 with value: 85.0.\n"
          ]
        },
        {
          "output_type": "stream",
          "name": "stdout",
          "text": [
            "Average Metric: 8.5 / 10  (85.0%)\n",
            "\n",
            "\n",
            "\n",
            "\n",
            "Assess the quality of the solution along the specified dimension.\n",
            "\n",
            "---\n",
            "\n",
            "Follow the following format.\n",
            "\n",
            "Assessed Text: ${assessed_text}\n",
            "\n",
            "Assessment Sentence: ${assessment_sentence}\n",
            "\n",
            "Reasoning: Let's think step by step in order to ${produce the assessment_sentiment}. We ...\n",
            "\n",
            "Assessment Sentiment: Only True or False\n",
            "\n",
            "---\n",
            "\n",
            "Assessed Text: The corruption within the system fueled his determination to fight for justice and equality.\n",
            "\n",
            "Assessment Sentence: For this sentence The corruption within the system fueled his determination to fight for justice and equality., the given Anger --- Sentence: The sweet aroma of freshly baked cookies filled the air, bringing a sense of comfort and warmth to her heart. Sentiment: Joy --- Sentence: The sudden realization that he had lost everything he had ever loved filled him with a deep sense of loss and sadness. Sentiment: Sadness --- Sentence: The sight of the majestic mountain range filled her heart with awe and wonder. Sentiment: Joy --- Sentence: The sudden roar of the is informative. The gold sentiment is Anger\n",
            "\n",
            "Reasoning: Let's think step by step in order to\u001b[32m assess the quality of the solution along the specified dimension. The sentence \"The corruption within the system fueled his determination to fight for justice and equality.\" is expressing a strong emotion of anger and frustration towards the system. The speaker is motivated to fight for justice and equality due to the corruption they have witnessed. Therefore, the dimension of anger is well-represented in this sentence.\n",
            "\n",
            "Assessment Sentiment: True\u001b[0m\n",
            "\n",
            "\n",
            "\n"
          ]
        },
        {
          "output_type": "stream",
          "name": "stderr",
          "text": [
            "Average Metric: 8.3 / 10  (83.0): 100%|██████████| 10/10 [00:00<00:00, 108.10it/s]\n",
            "[I 2024-02-19 05:51:29,174] Trial 1 finished with value: 83.0 and parameters: {'135318413683936_predictor_instruction': 3, '135318413683936_predictor_demos': 2}. Best is trial 0 with value: 85.0.\n"
          ]
        },
        {
          "output_type": "stream",
          "name": "stdout",
          "text": [
            "Average Metric: 8.3 / 10  (83.0%)\n",
            "\n",
            "\n",
            "\n",
            "\n",
            "Assess the quality of the solution along the specified dimension.\n",
            "\n",
            "---\n",
            "\n",
            "Follow the following format.\n",
            "\n",
            "Assessed Text: ${assessed_text}\n",
            "\n",
            "Assessment Sentence: ${assessment_sentence}\n",
            "\n",
            "Reasoning: Let's think step by step in order to ${produce the assessment_sentiment}. We ...\n",
            "\n",
            "Assessment Sentiment: Only True or False\n",
            "\n",
            "---\n",
            "\n",
            "Assessed Text: The corruption within the system fueled his determination to fight for justice and equality.\n",
            "\n",
            "Assessment Sentence: For this sentence The corruption within the system fueled his determination to fight for justice and equality., the given Anger --- Sentence: The sudden realization that he had lost everything he held dear left him trembling in fear. Reasoning: Let's think step by step in order to ${produce the sentiment}. We see that the sudden realization of losing everything is associated with fear. Please classify the following sentence into one of the six basic human emotions: sadness, joy, love, anger, fear, or surprise. S is informative. The gold sentiment is Anger\n",
            "\n",
            "Reasoning: Let's think step by step in order to\u001b[32m ${produce the assessment_sentiment}. We see that the corruption within the system is associated with a negative emotion, and it fuels his determination to fight for justice and equality. This sentence is expressing a strong negative emotion towards the system, which is anger.\n",
            "\n",
            "Assessment Sentiment: True\u001b[0m\n",
            "\n",
            "\n",
            "\n"
          ]
        },
        {
          "output_type": "stream",
          "name": "stderr",
          "text": [
            "Average Metric: 8.4 / 10  (84.0): 100%|██████████| 10/10 [00:00<00:00, 118.35it/s]\n",
            "[I 2024-02-19 05:51:29,271] Trial 2 finished with value: 84.0 and parameters: {'135318413683936_predictor_instruction': 0, '135318413683936_predictor_demos': 0}. Best is trial 0 with value: 85.0.\n"
          ]
        },
        {
          "output_type": "stream",
          "name": "stdout",
          "text": [
            "Average Metric: 8.4 / 10  (84.0%)\n",
            "\n",
            "\n",
            "\n",
            "\n",
            "Assess the quality of the solution along the specified dimension.\n",
            "\n",
            "---\n",
            "\n",
            "Follow the following format.\n",
            "\n",
            "Assessed Text: ${assessed_text}\n",
            "\n",
            "Assessment Sentence: ${assessment_sentence}\n",
            "\n",
            "Reasoning: Let's think step by step in order to ${produce the assessment_sentiment}. We ...\n",
            "\n",
            "Assessment Sentiment: Only True or False\n",
            "\n",
            "---\n",
            "\n",
            "Assessed Text: The corruption within the system fueled his determination to fight for justice and equality.\n",
            "\n",
            "Assessment Sentence: For this sentence The corruption within the system fueled his determination to fight for justice and equality., the given Anger is informative. The gold sentiment is Anger\n",
            "\n",
            "Reasoning: Let's think step by step in order to assess the quality of the solution along the specified dimension. The sentence is about a person who is determined to fight for justice and equality due to the corruption within the system. The word \"corruption\" and \"fight for justice and equality\" indicate a sense of anger or frustration towards the situation. Therefore, the gold sentiment for this sentence is Anger.\n",
            "\n",
            "Assessment Sentiment:\u001b[32m True\u001b[0m\n",
            "\n",
            "\n",
            "\n"
          ]
        },
        {
          "output_type": "stream",
          "name": "stderr",
          "text": [
            "Average Metric: 6.8 / 10  (68.0): 100%|██████████| 10/10 [00:00<00:00, 119.85it/s]\n"
          ]
        },
        {
          "output_type": "stream",
          "name": "stdout",
          "text": [
            "Average Metric: 6.8 / 10  (68.0%)\n",
            "\n",
            "\n",
            "\n",
            "\n",
            "Assess the quality of the solution along the specified dimension.\n",
            "\n",
            "---\n",
            "\n",
            "Follow the following format.\n",
            "\n",
            "Assessed Text: ${assessed_text}\n",
            "\n",
            "Assessment Sentence: ${assessment_sentence}\n",
            "\n",
            "Reasoning: Let's think step by step in order to ${produce the assessment_sentiment}. We ...\n",
            "\n",
            "Assessment Sentiment: Only True or False\n",
            "\n",
            "---\n",
            "\n",
            "Assessed Text: The corruption within the system fueled his determination to fight for justice and equality.\n",
            "\n",
            "Assessment Sentence: For this sentence The corruption within the system fueled his determination to fight for justice and equality., the given Anger --- Sentence: The sight of the majestic mountain range filled her heart with awe and wonder. Sentiment: Joy --- Sentence: The sudden realization that he had lost everything he had ever loved filled him with a deep sense of loss and sadness. Sentiment: Sadness --- Sentence: The laughter of children echoed through the halls, filling the orphanage with warmth and joy. Sentiment: Joy --- Sentence: The roaring flames consumed everything in their path, leaving a is informative. The gold sentiment is Anger\n",
            "\n",
            "Reasoning: Let's think step by step in order to assess the quality of the solution along the specified dimension. The sentence \"The corruption within the system fueled his determination to fight for justice and equality.\" is a statement that describes a situation where someone is motivated to fight for justice and equality due to the corruption within the system. The dimension specified here is the sentiment, and the given options are Anger, Joy, and Sadness. In this sentence, the sentiment expressed is Anger. The reason for this is that the word \"corruption\" has a negative connotation, and it is mentioned that the system's corruption fueled his determination. This implies that the person is angry or frustrated with the situation. Therefore, the quality of the solution along the specified dimension (sentiment\n",
            "\n",
            "Assessment Sentiment:\u001b[32m True\u001b[0m\n",
            "\n",
            "\n",
            "\n"
          ]
        },
        {
          "output_type": "stream",
          "name": "stderr",
          "text": [
            "[I 2024-02-19 05:51:29,369] Trial 3 finished with value: 68.0 and parameters: {'135318413683936_predictor_instruction': 0, '135318413683936_predictor_demos': 4}. Best is trial 0 with value: 85.0.\n",
            "Average Metric: 8.9 / 10  (89.0): 100%|██████████| 10/10 [00:00<00:00, 108.32it/s]\n",
            "[I 2024-02-19 05:51:29,474] Trial 4 finished with value: 89.0 and parameters: {'135318413683936_predictor_instruction': 3, '135318413683936_predictor_demos': 3}. Best is trial 4 with value: 89.0.\n"
          ]
        },
        {
          "output_type": "stream",
          "name": "stdout",
          "text": [
            "Average Metric: 8.9 / 10  (89.0%)\n",
            "\n",
            "\n",
            "\n",
            "\n",
            "Assess the quality of the solution along the specified dimension.\n",
            "\n",
            "---\n",
            "\n",
            "Follow the following format.\n",
            "\n",
            "Assessed Text: ${assessed_text}\n",
            "\n",
            "Assessment Sentence: ${assessment_sentence}\n",
            "\n",
            "Reasoning: Let's think step by step in order to ${produce the assessment_sentiment}. We ...\n",
            "\n",
            "Assessment Sentiment: Only True or False\n",
            "\n",
            "---\n",
            "\n",
            "Assessed Text: The corruption within the system fueled his determination to fight for justice and equality.\n",
            "\n",
            "Assessment Sentence: For this sentence The corruption within the system fueled his determination to fight for justice and equality., the given Anger --- Sentence: The tender embrace of his lover brought him a sense of peace and contentment. Please classify the following sentence into one of the six basic human emotions: sadness, joy, love, anger, fear, or surprise. Sentiment: Love --- Sentence: The sudden appearance of a shooting star left them awestruck and mesmer is informative. The gold sentiment is Anger\n",
            "\n",
            "Reasoning: Let's think step by step in order to assess the quality of the solution along the specified dimension. The sentence provided is about a person who is determined to fight for justice and equality due to the corruption within the system. This sentence evokes a sense of anger and frustration towards the system. Therefore, the given Anger sentiment is appropriate for this sentence. The other emotions like sadness, joy, love, fear, or surprise do not fit the context of the sentence.\n",
            "\n",
            "Assessment Sentiment:\u001b[32m True\u001b[0m\n",
            "\n",
            "\n",
            "\n"
          ]
        },
        {
          "output_type": "stream",
          "name": "stderr",
          "text": [
            "Average Metric: 9.0 / 10  (90.0): 100%|██████████| 10/10 [00:00<00:00, 100.59it/s]\n"
          ]
        },
        {
          "output_type": "stream",
          "name": "stdout",
          "text": [
            "Average Metric: 9.0 / 10  (90.0%)\n"
          ]
        },
        {
          "output_type": "display_data",
          "data": {
            "text/plain": [
              "<pandas.io.formats.style.Styler at 0x7b1245db60b0>"
            ],
            "text/html": [
              "<style type=\"text/css\">\n",
              "#T_1041f th {\n",
              "  text-align: left;\n",
              "}\n",
              "#T_1041f td {\n",
              "  text-align: left;\n",
              "}\n",
              "#T_1041f_row0_col0, #T_1041f_row0_col1, #T_1041f_row0_col2, #T_1041f_row0_col3, #T_1041f_row0_col4, #T_1041f_row1_col0, #T_1041f_row1_col1, #T_1041f_row1_col2, #T_1041f_row1_col3, #T_1041f_row1_col4, #T_1041f_row2_col0, #T_1041f_row2_col1, #T_1041f_row2_col2, #T_1041f_row2_col3, #T_1041f_row2_col4, #T_1041f_row3_col0, #T_1041f_row3_col1, #T_1041f_row3_col2, #T_1041f_row3_col3, #T_1041f_row3_col4, #T_1041f_row4_col0, #T_1041f_row4_col1, #T_1041f_row4_col2, #T_1041f_row4_col3, #T_1041f_row4_col4 {\n",
              "  text-align: left;\n",
              "  white-space: pre-wrap;\n",
              "  word-wrap: break-word;\n",
              "  max-width: 400px;\n",
              "}\n",
              "</style>\n",
              "<table id=\"T_1041f\" class=\"dataframe\">\n",
              "  <thead>\n",
              "    <tr>\n",
              "      <th class=\"blank level0\" >&nbsp;</th>\n",
              "      <th id=\"T_1041f_level0_col0\" class=\"col_heading level0 col0\" >sentence</th>\n",
              "      <th id=\"T_1041f_level0_col1\" class=\"col_heading level0 col1\" >example_sentiment</th>\n",
              "      <th id=\"T_1041f_level0_col2\" class=\"col_heading level0 col2\" >rationale</th>\n",
              "      <th id=\"T_1041f_level0_col3\" class=\"col_heading level0 col3\" >pred_sentiment</th>\n",
              "      <th id=\"T_1041f_level0_col4\" class=\"col_heading level0 col4\" >metric</th>\n",
              "    </tr>\n",
              "  </thead>\n",
              "  <tbody>\n",
              "    <tr>\n",
              "      <th id=\"T_1041f_level0_row0\" class=\"row_heading level0 row0\" >0</th>\n",
              "      <td id=\"T_1041f_row0_col0\" class=\"data row0 col0\" >The crumbling ruins stood as a testament to the passage of time and the resilience of nature.</td>\n",
              "      <td id=\"T_1041f_row0_col1\" class=\"data row0 col1\" >Sadness</td>\n",
              "      <td id=\"T_1041f_row0_col2\" class=\"data row0 col2\" >${produce the sentiment}. We can see that the sentence describes the passage of time and the resilience of nature, which can evoke feelings of sadness...</td>\n",
              "      <td id=\"T_1041f_row0_col3\" class=\"data row0 col3\" >Sadness --- Sentence: The sudden appearance of a shooting star left them awestruck and mesmerized. Reasoning: Let's think step by step in order to ${produce...</td>\n",
              "      <td id=\"T_1041f_row0_col4\" class=\"data row0 col4\" >0.5</td>\n",
              "    </tr>\n",
              "    <tr>\n",
              "      <th id=\"T_1041f_level0_row1\" class=\"row_heading level0 row1\" >1</th>\n",
              "      <td id=\"T_1041f_row1_col0\" class=\"data row1 col0\" >The melody of the piano drifted through the air, captivating all who listened.</td>\n",
              "      <td id=\"T_1041f_row1_col1\" class=\"data row1 col1\" >Joy</td>\n",
              "      <td id=\"T_1041f_row1_col2\" class=\"data row1 col2\" >${produce the sentiment}. We can identify the words that evoke a sense of calmness and beauty, such as \"melody,\" \"piano,\" and \"captivating.\"</td>\n",
              "      <td id=\"T_1041f_row1_col3\" class=\"data row1 col3\" >Joy</td>\n",
              "      <td id=\"T_1041f_row1_col4\" class=\"data row1 col4\" >1.0</td>\n",
              "    </tr>\n",
              "    <tr>\n",
              "      <th id=\"T_1041f_level0_row2\" class=\"row_heading level0 row2\" >2</th>\n",
              "      <td id=\"T_1041f_row2_col0\" class=\"data row2 col0\" >The gentle breeze whispered secrets as it rustled through the leaves of the ancient oak tree.</td>\n",
              "      <td id=\"T_1041f_row2_col1\" class=\"data row2 col1\" >Love</td>\n",
              "      <td id=\"T_1041f_row2_col2\" class=\"data row2 col2\" >${produce the sentiment}. We can observe the gentle breeze and the rustling leaves, which can evoke feelings of calmness and peace.</td>\n",
              "      <td id=\"T_1041f_row2_col3\" class=\"data row2 col3\" >Joy --- Sentence: The cacophony of honking horns and screaming sirens filled the air, leaving her feeling overwhelmed and anxious. Please classify the following sentence...</td>\n",
              "      <td id=\"T_1041f_row2_col4\" class=\"data row2 col4\" >0.5</td>\n",
              "    </tr>\n",
              "    <tr>\n",
              "      <th id=\"T_1041f_level0_row3\" class=\"row_heading level0 row3\" >3</th>\n",
              "      <td id=\"T_1041f_row3_col0\" class=\"data row3 col0\" >The shattered fragments of glass reflected his shattered dreams and broken promises.</td>\n",
              "      <td id=\"T_1041f_row3_col1\" class=\"data row3 col1\" >Anger</td>\n",
              "      <td id=\"T_1041f_row3_col2\" class=\"data row3 col2\" >${produce the sentiment}. We can see that the sentence describes the shattered fragments of glass as a representation of broken dreams and promises, which can...</td>\n",
              "      <td id=\"T_1041f_row3_col3\" class=\"data row3 col3\" >Anger --- Sentence: The sudden appearance of a shooting star left them awestruck and mesmerized. Reasoning: Let's think step by step in order to ${produce...</td>\n",
              "      <td id=\"T_1041f_row3_col4\" class=\"data row3 col4\" >1.0</td>\n",
              "    </tr>\n",
              "    <tr>\n",
              "      <th id=\"T_1041f_level0_row4\" class=\"row_heading level0 row4\" >4</th>\n",
              "      <td id=\"T_1041f_row4_col0\" class=\"data row4 col0\" >The ominous shadows danced along the walls, casting doubt and fear into her heart.</td>\n",
              "      <td id=\"T_1041f_row4_col1\" class=\"data row4 col1\" >Fear</td>\n",
              "      <td id=\"T_1041f_row4_col2\" class=\"data row4 col2\" >${produce the sentiment}. We can see that the shadows are described as ominous, which can evoke feelings of fear and unease.</td>\n",
              "      <td id=\"T_1041f_row4_col3\" class=\"data row4 col3\" >Fear --- Sentence: The tender embrace of her lover filled her heart with warmth and love. Sentiment: Love --- Sentence: The sudden burst of laughter...</td>\n",
              "      <td id=\"T_1041f_row4_col4\" class=\"data row4 col4\" >1.0</td>\n",
              "    </tr>\n",
              "  </tbody>\n",
              "</table>\n"
            ]
          },
          "metadata": {}
        },
        {
          "output_type": "display_data",
          "data": {
            "text/plain": [
              "<IPython.core.display.HTML object>"
            ],
            "text/html": [
              "\n",
              "                <div style='\n",
              "                    text-align: center; \n",
              "                    font-size: 16px; \n",
              "                    font-weight: bold; \n",
              "                    color: #555; \n",
              "                    margin: 10px 0;'>\n",
              "                    ... 5 more rows not displayed ...\n",
              "                </div>\n",
              "                "
            ]
          },
          "metadata": {}
        },
        {
          "output_type": "stream",
          "name": "stderr",
          "text": [
            "Average Metric: 8.5 / 10  (85.0): 100%|██████████| 10/10 [00:00<00:00, 97.27it/s]\n"
          ]
        },
        {
          "output_type": "stream",
          "name": "stdout",
          "text": [
            "Average Metric: 8.5 / 10  (85.0%)\n"
          ]
        },
        {
          "output_type": "display_data",
          "data": {
            "text/plain": [
              "<pandas.io.formats.style.Styler at 0x7b1245dd5000>"
            ],
            "text/html": [
              "<style type=\"text/css\">\n",
              "#T_f7303 th {\n",
              "  text-align: left;\n",
              "}\n",
              "#T_f7303 td {\n",
              "  text-align: left;\n",
              "}\n",
              "#T_f7303_row0_col0, #T_f7303_row0_col1, #T_f7303_row0_col2, #T_f7303_row0_col3, #T_f7303_row0_col4, #T_f7303_row1_col0, #T_f7303_row1_col1, #T_f7303_row1_col2, #T_f7303_row1_col3, #T_f7303_row1_col4, #T_f7303_row2_col0, #T_f7303_row2_col1, #T_f7303_row2_col2, #T_f7303_row2_col3, #T_f7303_row2_col4, #T_f7303_row3_col0, #T_f7303_row3_col1, #T_f7303_row3_col2, #T_f7303_row3_col3, #T_f7303_row3_col4, #T_f7303_row4_col0, #T_f7303_row4_col1, #T_f7303_row4_col2, #T_f7303_row4_col3, #T_f7303_row4_col4 {\n",
              "  text-align: left;\n",
              "  white-space: pre-wrap;\n",
              "  word-wrap: break-word;\n",
              "  max-width: 400px;\n",
              "}\n",
              "</style>\n",
              "<table id=\"T_f7303\" class=\"dataframe\">\n",
              "  <thead>\n",
              "    <tr>\n",
              "      <th class=\"blank level0\" >&nbsp;</th>\n",
              "      <th id=\"T_f7303_level0_col0\" class=\"col_heading level0 col0\" >sentence</th>\n",
              "      <th id=\"T_f7303_level0_col1\" class=\"col_heading level0 col1\" >example_sentiment</th>\n",
              "      <th id=\"T_f7303_level0_col2\" class=\"col_heading level0 col2\" >rationale</th>\n",
              "      <th id=\"T_f7303_level0_col3\" class=\"col_heading level0 col3\" >pred_sentiment</th>\n",
              "      <th id=\"T_f7303_level0_col4\" class=\"col_heading level0 col4\" >metric</th>\n",
              "    </tr>\n",
              "  </thead>\n",
              "  <tbody>\n",
              "    <tr>\n",
              "      <th id=\"T_f7303_level0_row0\" class=\"row_heading level0 row0\" >0</th>\n",
              "      <td id=\"T_f7303_row0_col0\" class=\"data row0 col0\" >The crumbling ruins stood as a testament to the passage of time and the resilience of nature.</td>\n",
              "      <td id=\"T_f7303_row0_col1\" class=\"data row0 col1\" >Sadness</td>\n",
              "      <td id=\"T_f7303_row0_col2\" class=\"data row0 col2\" >understand the sentiment. We see that the sentence talks about the ruins, which are a result of time and nature. The word \"crumbling\" might evoke...</td>\n",
              "      <td id=\"T_f7303_row0_col3\" class=\"data row0 col3\" >Sadness</td>\n",
              "      <td id=\"T_f7303_row0_col4\" class=\"data row0 col4\" >1.0</td>\n",
              "    </tr>\n",
              "    <tr>\n",
              "      <th id=\"T_f7303_level0_row1\" class=\"row_heading level0 row1\" >1</th>\n",
              "      <td id=\"T_f7303_row1_col0\" class=\"data row1 col0\" >The melody of the piano drifted through the air, captivating all who listened.</td>\n",
              "      <td id=\"T_f7303_row1_col1\" class=\"data row1 col1\" >Joy</td>\n",
              "      <td id=\"T_f7303_row1_col2\" class=\"data row1 col2\" >produce the sentiment. We can see that the sentence describes a beautiful and soothing melody that is captivating listeners. This suggests a feeling of joy...</td>\n",
              "      <td id=\"T_f7303_row1_col3\" class=\"data row1 col3\" >Joy</td>\n",
              "      <td id=\"T_f7303_row1_col4\" class=\"data row1 col4\" >1.0</td>\n",
              "    </tr>\n",
              "    <tr>\n",
              "      <th id=\"T_f7303_level0_row2\" class=\"row_heading level0 row2\" >2</th>\n",
              "      <td id=\"T_f7303_row2_col0\" class=\"data row2 col0\" >The gentle breeze whispered secrets as it rustled through the leaves of the ancient oak tree.</td>\n",
              "      <td id=\"T_f7303_row2_col1\" class=\"data row2 col1\" >Love</td>\n",
              "      <td id=\"T_f7303_row2_col2\" class=\"data row2 col2\" >produce the sentiment. We can observe the gentle breeze, the rustling leaves, and the ancient oak tree. The breeze is gentle, the leaves are rustling,...</td>\n",
              "      <td id=\"T_f7303_row2_col3\" class=\"data row2 col3\" >Joy</td>\n",
              "      <td id=\"T_f7303_row2_col4\" class=\"data row2 col4\" >0.0</td>\n",
              "    </tr>\n",
              "    <tr>\n",
              "      <th id=\"T_f7303_level0_row3\" class=\"row_heading level0 row3\" >3</th>\n",
              "      <td id=\"T_f7303_row3_col0\" class=\"data row3 col0\" >The shattered fragments of glass reflected his shattered dreams and broken promises.</td>\n",
              "      <td id=\"T_f7303_row3_col1\" class=\"data row3 col1\" >Anger</td>\n",
              "      <td id=\"T_f7303_row3_col2\" class=\"data row3 col2\" >produce the sentiment. We see words like \"shattered,\" \"broken promises,\" and \"dreams.\" These words evoke a sense of sadness and despair.</td>\n",
              "      <td id=\"T_f7303_row3_col3\" class=\"data row3 col3\" >Sadness</td>\n",
              "      <td id=\"T_f7303_row3_col4\" class=\"data row3 col4\" >0.5</td>\n",
              "    </tr>\n",
              "    <tr>\n",
              "      <th id=\"T_f7303_level0_row4\" class=\"row_heading level0 row4\" >4</th>\n",
              "      <td id=\"T_f7303_row4_col0\" class=\"data row4 col0\" >The ominous shadows danced along the walls, casting doubt and fear into her heart.</td>\n",
              "      <td id=\"T_f7303_row4_col1\" class=\"data row4 col1\" >Fear</td>\n",
              "      <td id=\"T_f7303_row4_col2\" class=\"data row4 col2\" >produce the sentiment. We see the words \"ominous shadows\" and \"fear\" which indicates that the emotion being conveyed is fear.</td>\n",
              "      <td id=\"T_f7303_row4_col3\" class=\"data row4 col3\" >Fear</td>\n",
              "      <td id=\"T_f7303_row4_col4\" class=\"data row4 col4\" >1.0</td>\n",
              "    </tr>\n",
              "  </tbody>\n",
              "</table>\n"
            ]
          },
          "metadata": {}
        },
        {
          "output_type": "display_data",
          "data": {
            "text/plain": [
              "<IPython.core.display.HTML object>"
            ],
            "text/html": [
              "\n",
              "                <div style='\n",
              "                    text-align: center; \n",
              "                    font-size: 16px; \n",
              "                    font-weight: bold; \n",
              "                    color: #555; \n",
              "                    margin: 10px 0;'>\n",
              "                    ... 5 more rows not displayed ...\n",
              "                </div>\n",
              "                "
            ]
          },
          "metadata": {}
        },
        {
          "output_type": "display_data",
          "data": {
            "text/plain": [
              "<Figure size 800x600 with 1 Axes>"
            ],
            "image/png": "[encoded data removed]"
          },
          "metadata": {}
        }
      ]
    }
  ]
}