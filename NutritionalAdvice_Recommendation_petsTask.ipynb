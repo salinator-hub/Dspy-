{
  "nbformat": 4,
  "nbformat_minor": 0,
  "metadata": {
    "colab": {
      "provenance": [],
      "gpuType": "T4",
      "include_colab_link": true
    },
    "kernelspec": {
      "name": "python3",
      "display_name": "Python 3"
    },
    "language_info": {
      "name": "python"
    },
    "accelerator": "GPU"
  },
  "cells": [
    {
      "cell_type": "markdown",
      "metadata": {
        "id": "view-in-github",
        "colab_type": "text"
      },
      "source": [
        "<a href=\"https://colab.research.google.com/github/salinator-hub/Dspy-/blob/main/NutritionalAdvice_Recommendation_petsTask.ipynb\" target=\"_parent\"><img src=\"https://colab.research.google.com/assets/colab-badge.svg\" alt=\"Open In Colab\"/></a>"
      ]
    },
    {
      "cell_type": "markdown",
      "source": [
        "# Serve the model using vLLM"
      ],
      "metadata": {
        "id": "IoWlaISn36OH"
      }
    },
    {
      "cell_type": "code",
      "execution_count": 1,
      "metadata": {
        "id": "iRD5aN86v6ED",
        "outputId": "c1fcdfd5-b1fd-499d-94fe-33b2a5cda970",
        "colab": {
          "base_uri": "https://localhost:8080/"
        }
      },
      "outputs": [
        {
          "output_type": "stream",
          "name": "stdout",
          "text": [
            "Collecting dspy-ai\n",
            "  Downloading dspy_ai-2.1.10-py3-none-any.whl (152 kB)\n",
            "\u001b[?25l     \u001b[90m━━━━━━━━━━━━━━━━━━━━━━━━━━━━━━━━━━━━━━━━\u001b[0m \u001b[32m0.0/152.6 kB\u001b[0m \u001b[31m?\u001b[0m eta \u001b[36m-:--:--\u001b[0m\r\u001b[2K     \u001b[90m━━━━━━━━━━━━━━━━━━━━━━━━━━━━━━━━━━━━━━━━\u001b[0m \u001b[32m152.6/152.6 kB\u001b[0m \u001b[31m4.7 MB/s\u001b[0m eta \u001b[36m0:00:00\u001b[0m\n",
            "\u001b[?25hCollecting vllm\n",
            "  Downloading vllm-0.3.1-cp310-cp310-manylinux1_x86_64.whl (41.4 MB)\n",
            "\u001b[2K     \u001b[90m━━━━━━━━━━━━━━━━━━━━━━━━━━━━━━━━━━━━━━━━\u001b[0m \u001b[32m41.4/41.4 MB\u001b[0m \u001b[31m17.0 MB/s\u001b[0m eta \u001b[36m0:00:00\u001b[0m\n",
            "\u001b[?25hCollecting backoff~=2.2.1 (from dspy-ai)\n",
            "  Downloading backoff-2.2.1-py3-none-any.whl (15 kB)\n",
            "Requirement already satisfied: joblib~=1.3.2 in /usr/local/lib/python3.10/dist-packages (from dspy-ai) (1.3.2)\n",
            "Collecting openai<2.0.0,>=0.28.1 (from dspy-ai)\n",
            "  Downloading openai-1.12.0-py3-none-any.whl (226 kB)\n",
            "\u001b[2K     \u001b[90m━━━━━━━━━━━━━━━━━━━━━━━━━━━━━━━━━━━━━━━━\u001b[0m \u001b[32m226.7/226.7 kB\u001b[0m \u001b[31m29.0 MB/s\u001b[0m eta \u001b[36m0:00:00\u001b[0m\n",
            "\u001b[?25hCollecting pandas~=2.1.1 (from dspy-ai)\n",
            "  Downloading pandas-2.1.4-cp310-cp310-manylinux_2_17_x86_64.manylinux2014_x86_64.whl (12.3 MB)\n",
            "\u001b[2K     \u001b[90m━━━━━━━━━━━━━━━━━━━━━━━━━━━━━━━━━━━━━━━━\u001b[0m \u001b[32m12.3/12.3 MB\u001b[0m \u001b[31m84.7 MB/s\u001b[0m eta \u001b[36m0:00:00\u001b[0m\n",
            "\u001b[?25hCollecting regex~=2023.10.3 (from dspy-ai)\n",
            "  Downloading regex-2023.10.3-cp310-cp310-manylinux_2_17_x86_64.manylinux2014_x86_64.whl (773 kB)\n",
            "\u001b[2K     \u001b[90m━━━━━━━━━━━━━━━━━━━━━━━━━━━━━━━━━━━━━━━━\u001b[0m \u001b[32m773.9/773.9 kB\u001b[0m \u001b[31m33.1 MB/s\u001b[0m eta \u001b[36m0:00:00\u001b[0m\n",
            "\u001b[?25hCollecting ujson~=5.8.0 (from dspy-ai)\n",
            "  Downloading ujson-5.8.0-cp310-cp310-manylinux_2_17_x86_64.manylinux2014_x86_64.whl (53 kB)\n",
            "\u001b[2K     \u001b[90m━━━━━━━━━━━━━━━━━━━━━━━━━━━━━━━━━━━━━━━━\u001b[0m \u001b[32m53.9/53.9 kB\u001b[0m \u001b[31m7.3 MB/s\u001b[0m eta \u001b[36m0:00:00\u001b[0m\n",
            "\u001b[?25hRequirement already satisfied: tqdm~=4.66.1 in /usr/local/lib/python3.10/dist-packages (from dspy-ai) (4.66.2)\n",
            "Collecting datasets~=2.14.6 (from dspy-ai)\n",
            "  Downloading datasets-2.14.7-py3-none-any.whl (520 kB)\n",
            "\u001b[2K     \u001b[90m━━━━━━━━━━━━━━━━━━━━━━━━━━━━━━━━━━━━━━━━\u001b[0m \u001b[32m520.4/520.4 kB\u001b[0m \u001b[31m40.0 MB/s\u001b[0m eta \u001b[36m0:00:00\u001b[0m\n",
            "\u001b[?25hRequirement already satisfied: requests~=2.31.0 in /usr/local/lib/python3.10/dist-packages (from dspy-ai) (2.31.0)\n",
            "Collecting optuna~=3.4.0 (from dspy-ai)\n",
            "  Downloading optuna-3.4.0-py3-none-any.whl (409 kB)\n",
            "\u001b[2K     \u001b[90m━━━━━━━━━━━━━━━━━━━━━━━━━━━━━━━━━━━━━━━━\u001b[0m \u001b[32m409.6/409.6 kB\u001b[0m \u001b[31m37.8 MB/s\u001b[0m eta \u001b[36m0:00:00\u001b[0m\n",
            "\u001b[?25hCollecting ninja (from vllm)\n",
            "  Downloading ninja-1.11.1.1-py2.py3-none-manylinux1_x86_64.manylinux_2_5_x86_64.whl (307 kB)\n",
            "\u001b[2K     \u001b[90m━━━━━━━━━━━━━━━━━━━━━━━━━━━━━━━━━━━━━━━━\u001b[0m \u001b[32m307.2/307.2 kB\u001b[0m \u001b[31m23.3 MB/s\u001b[0m eta \u001b[36m0:00:00\u001b[0m\n",
            "\u001b[?25hRequirement already satisfied: psutil in /usr/local/lib/python3.10/dist-packages (from vllm) (5.9.5)\n",
            "Collecting ray>=2.9 (from vllm)\n",
            "  Downloading ray-2.9.2-cp310-cp310-manylinux2014_x86_64.whl (64.9 MB)\n",
            "\u001b[2K     \u001b[90m━━━━━━━━━━━━━━━━━━━━━━━━━━━━━━━━━━━━━━━━\u001b[0m \u001b[32m64.9/64.9 MB\u001b[0m \u001b[31m10.8 MB/s\u001b[0m eta \u001b[36m0:00:00\u001b[0m\n",
            "\u001b[?25hRequirement already satisfied: sentencepiece in /usr/local/lib/python3.10/dist-packages (from vllm) (0.1.99)\n",
            "Requirement already satisfied: numpy in /usr/local/lib/python3.10/dist-packages (from vllm) (1.25.2)\n",
            "Collecting torch==2.1.2 (from vllm)\n",
            "  Downloading torch-2.1.2-cp310-cp310-manylinux1_x86_64.whl (670.2 MB)\n",
            "\u001b[2K     \u001b[90m━━━━━━━━━━━━━━━━━━━━━━━━━━━━━━━━━━━━━━━━\u001b[0m \u001b[32m670.2/670.2 MB\u001b[0m \u001b[31m1.3 MB/s\u001b[0m eta \u001b[36m0:00:00\u001b[0m\n",
            "\u001b[?25hCollecting transformers>=4.37.0 (from vllm)\n",
            "  Downloading transformers-4.37.2-py3-none-any.whl (8.4 MB)\n",
            "\u001b[2K     \u001b[90m━━━━━━━━━━━━━━━━━━━━━━━━━━━━━━━━━━━━━━━━\u001b[0m \u001b[32m8.4/8.4 MB\u001b[0m \u001b[31m68.3 MB/s\u001b[0m eta \u001b[36m0:00:00\u001b[0m\n",
            "\u001b[?25hCollecting xformers==0.0.23.post1 (from vllm)\n",
            "  Downloading xformers-0.0.23.post1-cp310-cp310-manylinux2014_x86_64.whl (213.0 MB)\n",
            "\u001b[2K     \u001b[90m━━━━━━━━━━━━━━━━━━━━━━━━━━━━━━━━━━━━━━━━\u001b[0m \u001b[32m213.0/213.0 MB\u001b[0m \u001b[31m2.4 MB/s\u001b[0m eta \u001b[36m0:00:00\u001b[0m\n",
            "\u001b[?25hCollecting fastapi (from vllm)\n",
            "  Downloading fastapi-0.109.2-py3-none-any.whl (92 kB)\n",
            "\u001b[2K     \u001b[90m━━━━━━━━━━━━━━━━━━━━━━━━━━━━━━━━━━━━━━━━\u001b[0m \u001b[32m92.1/92.1 kB\u001b[0m \u001b[31m13.2 MB/s\u001b[0m eta \u001b[36m0:00:00\u001b[0m\n",
            "\u001b[?25hCollecting uvicorn[standard] (from vllm)\n",
            "  Downloading uvicorn-0.27.1-py3-none-any.whl (60 kB)\n",
            "\u001b[2K     \u001b[90m━━━━━━━━━━━━━━━━━━━━━━━━━━━━━━━━━━━━━━━━\u001b[0m \u001b[32m60.8/60.8 kB\u001b[0m \u001b[31m9.0 MB/s\u001b[0m eta \u001b[36m0:00:00\u001b[0m\n",
            "\u001b[?25hRequirement already satisfied: pydantic>=2.0 in /usr/local/lib/python3.10/dist-packages (from vllm) (2.6.1)\n",
            "Collecting aioprometheus[starlette] (from vllm)\n",
            "  Downloading aioprometheus-23.12.0-py3-none-any.whl (31 kB)\n",
            "Collecting pynvml==11.5.0 (from vllm)\n",
            "  Downloading pynvml-11.5.0-py3-none-any.whl (53 kB)\n",
            "\u001b[2K     \u001b[90m━━━━━━━━━━━━━━━━━━━━━━━━━━━━━━━━━━━━━━━━\u001b[0m \u001b[32m53.1/53.1 kB\u001b[0m \u001b[31m8.0 MB/s\u001b[0m eta \u001b[36m0:00:00\u001b[0m\n",
            "\u001b[?25hRequirement already satisfied: triton>=2.1.0 in /usr/local/lib/python3.10/dist-packages (from vllm) (2.1.0)\n",
            "Collecting cupy-cuda12x==12.1.0 (from vllm)\n",
            "  Downloading cupy_cuda12x-12.1.0-cp310-cp310-manylinux2014_x86_64.whl (83.0 MB)\n",
            "\u001b[2K     \u001b[90m━━━━━━━━━━━━━━━━━━━━━━━━━━━━━━━━━━━━━━━━\u001b[0m \u001b[32m83.0/83.0 MB\u001b[0m \u001b[31m8.7 MB/s\u001b[0m eta \u001b[36m0:00:00\u001b[0m\n",
            "\u001b[?25hRequirement already satisfied: fastrlock>=0.5 in /usr/local/lib/python3.10/dist-packages (from cupy-cuda12x==12.1.0->vllm) (0.8.2)\n",
            "Requirement already satisfied: filelock in /usr/local/lib/python3.10/dist-packages (from torch==2.1.2->vllm) (3.13.1)\n",
            "Requirement already satisfied: typing-extensions in /usr/local/lib/python3.10/dist-packages (from torch==2.1.2->vllm) (4.9.0)\n",
            "Requirement already satisfied: sympy in /usr/local/lib/python3.10/dist-packages (from torch==2.1.2->vllm) (1.12)\n",
            "Requirement already satisfied: networkx in /usr/local/lib/python3.10/dist-packages (from torch==2.1.2->vllm) (3.2.1)\n",
            "Requirement already satisfied: jinja2 in /usr/local/lib/python3.10/dist-packages (from torch==2.1.2->vllm) (3.1.3)\n",
            "Requirement already satisfied: fsspec in /usr/local/lib/python3.10/dist-packages (from torch==2.1.2->vllm) (2023.6.0)\n",
            "Collecting nvidia-cuda-nvrtc-cu12==12.1.105 (from torch==2.1.2->vllm)\n",
            "  Downloading nvidia_cuda_nvrtc_cu12-12.1.105-py3-none-manylinux1_x86_64.whl (23.7 MB)\n",
            "\u001b[2K     \u001b[90m━━━━━━━━━━━━━━━━━━━━━━━━━━━━━━━━━━━━━━━━\u001b[0m \u001b[32m23.7/23.7 MB\u001b[0m \u001b[31m60.3 MB/s\u001b[0m eta \u001b[36m0:00:00\u001b[0m\n",
            "\u001b[?25hCollecting nvidia-cuda-runtime-cu12==12.1.105 (from torch==2.1.2->vllm)\n",
            "  Downloading nvidia_cuda_runtime_cu12-12.1.105-py3-none-manylinux1_x86_64.whl (823 kB)\n",
            "\u001b[2K     \u001b[90m━━━━━━━━━━━━━━━━━━━━━━━━━━━━━━━━━━━━━━━━\u001b[0m \u001b[32m823.6/823.6 kB\u001b[0m \u001b[31m66.6 MB/s\u001b[0m eta \u001b[36m0:00:00\u001b[0m\n",
            "\u001b[?25hCollecting nvidia-cuda-cupti-cu12==12.1.105 (from torch==2.1.2->vllm)\n",
            "  Downloading nvidia_cuda_cupti_cu12-12.1.105-py3-none-manylinux1_x86_64.whl (14.1 MB)\n",
            "\u001b[2K     \u001b[90m━━━━━━━━━━━━━━━━━━━━━━━━━━━━━━━━━━━━━━━━\u001b[0m \u001b[32m14.1/14.1 MB\u001b[0m \u001b[31m95.3 MB/s\u001b[0m eta \u001b[36m0:00:00\u001b[0m\n",
            "\u001b[?25hCollecting nvidia-cudnn-cu12==8.9.2.26 (from torch==2.1.2->vllm)\n",
            "  Downloading nvidia_cudnn_cu12-8.9.2.26-py3-none-manylinux1_x86_64.whl (731.7 MB)\n",
            "\u001b[2K     \u001b[90m━━━━━━━━━━━━━━━━━━━━━━━━━━━━━━━━━━━━━━━━\u001b[0m \u001b[32m731.7/731.7 MB\u001b[0m \u001b[31m2.2 MB/s\u001b[0m eta \u001b[36m0:00:00\u001b[0m\n",
            "\u001b[?25hCollecting nvidia-cublas-cu12==12.1.3.1 (from torch==2.1.2->vllm)\n",
            "  Downloading nvidia_cublas_cu12-12.1.3.1-py3-none-manylinux1_x86_64.whl (410.6 MB)\n",
            "\u001b[2K     \u001b[90m━━━━━━━━━━━━━━━━━━━━━━━━━━━━━━━━━━━━━━━━\u001b[0m \u001b[32m410.6/410.6 MB\u001b[0m \u001b[31m2.8 MB/s\u001b[0m eta \u001b[36m0:00:00\u001b[0m\n",
            "\u001b[?25hCollecting nvidia-cufft-cu12==11.0.2.54 (from torch==2.1.2->vllm)\n",
            "  Downloading nvidia_cufft_cu12-11.0.2.54-py3-none-manylinux1_x86_64.whl (121.6 MB)\n",
            "\u001b[2K     \u001b[90m━━━━━━━━━━━━━━━━━━━━━━━━━━━━━━━━━━━━━━━━\u001b[0m \u001b[32m121.6/121.6 MB\u001b[0m \u001b[31m8.4 MB/s\u001b[0m eta \u001b[36m0:00:00\u001b[0m\n",
            "\u001b[?25hCollecting nvidia-curand-cu12==10.3.2.106 (from torch==2.1.2->vllm)\n",
            "  Downloading nvidia_curand_cu12-10.3.2.106-py3-none-manylinux1_x86_64.whl (56.5 MB)\n",
            "\u001b[2K     \u001b[90m━━━━━━━━━━━━━━━━━━━━━━━━━━━━━━━━━━━━━━━━\u001b[0m \u001b[32m56.5/56.5 MB\u001b[0m \u001b[31m11.2 MB/s\u001b[0m eta \u001b[36m0:00:00\u001b[0m\n",
            "\u001b[?25hCollecting nvidia-cusolver-cu12==11.4.5.107 (from torch==2.1.2->vllm)\n",
            "  Downloading nvidia_cusolver_cu12-11.4.5.107-py3-none-manylinux1_x86_64.whl (124.2 MB)\n",
            "\u001b[2K     \u001b[90m━━━━━━━━━━━━━━━━━━━━━━━━━━━━━━━━━━━━━━━━\u001b[0m \u001b[32m124.2/124.2 MB\u001b[0m \u001b[31m8.3 MB/s\u001b[0m eta \u001b[36m0:00:00\u001b[0m\n",
            "\u001b[?25hCollecting nvidia-cusparse-cu12==12.1.0.106 (from torch==2.1.2->vllm)\n",
            "  Downloading nvidia_cusparse_cu12-12.1.0.106-py3-none-manylinux1_x86_64.whl (196.0 MB)\n",
            "\u001b[2K     \u001b[90m━━━━━━━━━━━━━━━━━━━━━━━━━━━━━━━━━━━━━━━━\u001b[0m \u001b[32m196.0/196.0 MB\u001b[0m \u001b[31m6.6 MB/s\u001b[0m eta \u001b[36m0:00:00\u001b[0m\n",
            "\u001b[?25hCollecting nvidia-nccl-cu12==2.18.1 (from torch==2.1.2->vllm)\n",
            "  Downloading nvidia_nccl_cu12-2.18.1-py3-none-manylinux1_x86_64.whl (209.8 MB)\n",
            "\u001b[2K     \u001b[90m━━━━━━━━━━━━━━━━━━━━━━━━━━━━━━━━━━━━━━━━\u001b[0m \u001b[32m209.8/209.8 MB\u001b[0m \u001b[31m6.1 MB/s\u001b[0m eta \u001b[36m0:00:00\u001b[0m\n",
            "\u001b[?25hCollecting nvidia-nvtx-cu12==12.1.105 (from torch==2.1.2->vllm)\n",
            "  Downloading nvidia_nvtx_cu12-12.1.105-py3-none-manylinux1_x86_64.whl (99 kB)\n",
            "\u001b[2K     \u001b[90m━━━━━━━━━━━━━━━━━━━━━━━━━━━━━━━━━━━━━━━━\u001b[0m \u001b[32m99.1/99.1 kB\u001b[0m \u001b[31m15.0 MB/s\u001b[0m eta \u001b[36m0:00:00\u001b[0m\n",
            "\u001b[?25hCollecting nvidia-nvjitlink-cu12 (from nvidia-cusolver-cu12==11.4.5.107->torch==2.1.2->vllm)\n",
            "  Downloading nvidia_nvjitlink_cu12-12.3.101-py3-none-manylinux1_x86_64.whl (20.5 MB)\n",
            "\u001b[2K     \u001b[90m━━━━━━━━━━━━━━━━━━━━━━━━━━━━━━━━━━━━━━━━\u001b[0m \u001b[32m20.5/20.5 MB\u001b[0m \u001b[31m72.4 MB/s\u001b[0m eta \u001b[36m0:00:00\u001b[0m\n",
            "\u001b[?25hRequirement already satisfied: pyarrow>=8.0.0 in /usr/local/lib/python3.10/dist-packages (from datasets~=2.14.6->dspy-ai) (10.0.1)\n",
            "Requirement already satisfied: pyarrow-hotfix in /usr/local/lib/python3.10/dist-packages (from datasets~=2.14.6->dspy-ai) (0.6)\n",
            "Collecting dill<0.3.8,>=0.3.0 (from datasets~=2.14.6->dspy-ai)\n",
            "  Downloading dill-0.3.7-py3-none-any.whl (115 kB)\n",
            "\u001b[2K     \u001b[90m━━━━━━━━━━━━━━━━━━━━━━━━━━━━━━━━━━━━━━━━\u001b[0m \u001b[32m115.3/115.3 kB\u001b[0m \u001b[31m16.0 MB/s\u001b[0m eta \u001b[36m0:00:00\u001b[0m\n",
            "\u001b[?25hRequirement already satisfied: xxhash in /usr/local/lib/python3.10/dist-packages (from datasets~=2.14.6->dspy-ai) (3.4.1)\n",
            "Collecting multiprocess (from datasets~=2.14.6->dspy-ai)\n",
            "  Downloading multiprocess-0.70.16-py310-none-any.whl (134 kB)\n",
            "\u001b[2K     \u001b[90m━━━━━━━━━━━━━━━━━━━━━━━━━━━━━━━━━━━━━━━━\u001b[0m \u001b[32m134.8/134.8 kB\u001b[0m \u001b[31m18.9 MB/s\u001b[0m eta \u001b[36m0:00:00\u001b[0m\n",
            "\u001b[?25hRequirement already satisfied: aiohttp in /usr/local/lib/python3.10/dist-packages (from datasets~=2.14.6->dspy-ai) (3.9.3)\n",
            "Requirement already satisfied: huggingface-hub<1.0.0,>=0.14.0 in /usr/local/lib/python3.10/dist-packages (from datasets~=2.14.6->dspy-ai) (0.20.3)\n",
            "Requirement already satisfied: packaging in /usr/local/lib/python3.10/dist-packages (from datasets~=2.14.6->dspy-ai) (23.2)\n",
            "Requirement already satisfied: pyyaml>=5.1 in /usr/local/lib/python3.10/dist-packages (from datasets~=2.14.6->dspy-ai) (6.0.1)\n",
            "Requirement already satisfied: anyio<5,>=3.5.0 in /usr/local/lib/python3.10/dist-packages (from openai<2.0.0,>=0.28.1->dspy-ai) (3.7.1)\n",
            "Requirement already satisfied: distro<2,>=1.7.0 in /usr/lib/python3/dist-packages (from openai<2.0.0,>=0.28.1->dspy-ai) (1.7.0)\n",
            "Collecting httpx<1,>=0.23.0 (from openai<2.0.0,>=0.28.1->dspy-ai)\n",
            "  Downloading httpx-0.26.0-py3-none-any.whl (75 kB)\n",
            "\u001b[2K     \u001b[90m━━━━━━━━━━━━━━━━━━━━━━━━━━━━━━━━━━━━━━━━\u001b[0m \u001b[32m75.9/75.9 kB\u001b[0m \u001b[31m11.5 MB/s\u001b[0m eta \u001b[36m0:00:00\u001b[0m\n",
            "\u001b[?25hRequirement already satisfied: sniffio in /usr/local/lib/python3.10/dist-packages (from openai<2.0.0,>=0.28.1->dspy-ai) (1.3.0)\n",
            "Collecting alembic>=1.5.0 (from optuna~=3.4.0->dspy-ai)\n",
            "  Downloading alembic-1.13.1-py3-none-any.whl (233 kB)\n",
            "\u001b[2K     \u001b[90m━━━━━━━━━━━━━━━━━━━━━━━━━━━━━━━━━━━━━━━━\u001b[0m \u001b[32m233.4/233.4 kB\u001b[0m \u001b[31m29.6 MB/s\u001b[0m eta \u001b[36m0:00:00\u001b[0m\n",
            "\u001b[?25hCollecting colorlog (from optuna~=3.4.0->dspy-ai)\n",
            "  Downloading colorlog-6.8.2-py3-none-any.whl (11 kB)\n",
            "Requirement already satisfied: sqlalchemy>=1.3.0 in /usr/local/lib/python3.10/dist-packages (from optuna~=3.4.0->dspy-ai) (2.0.27)\n",
            "Requirement already satisfied: python-dateutil>=2.8.2 in /usr/local/lib/python3.10/dist-packages (from pandas~=2.1.1->dspy-ai) (2.8.2)\n",
            "Requirement already satisfied: pytz>=2020.1 in /usr/local/lib/python3.10/dist-packages (from pandas~=2.1.1->dspy-ai) (2023.4)\n",
            "Collecting tzdata>=2022.1 (from pandas~=2.1.1->dspy-ai)\n",
            "  Downloading tzdata-2024.1-py2.py3-none-any.whl (345 kB)\n",
            "\u001b[2K     \u001b[90m━━━━━━━━━━━━━━━━━━━━━━━━━━━━━━━━━━━━━━━━\u001b[0m \u001b[32m345.4/345.4 kB\u001b[0m \u001b[31m41.1 MB/s\u001b[0m eta \u001b[36m0:00:00\u001b[0m\n",
            "\u001b[?25hRequirement already satisfied: annotated-types>=0.4.0 in /usr/local/lib/python3.10/dist-packages (from pydantic>=2.0->vllm) (0.6.0)\n",
            "Requirement already satisfied: pydantic-core==2.16.2 in /usr/local/lib/python3.10/dist-packages (from pydantic>=2.0->vllm) (2.16.2)\n",
            "Requirement already satisfied: click>=7.0 in /usr/local/lib/python3.10/dist-packages (from ray>=2.9->vllm) (8.1.7)\n",
            "Requirement already satisfied: jsonschema in /usr/local/lib/python3.10/dist-packages (from ray>=2.9->vllm) (4.19.2)\n",
            "Requirement already satisfied: msgpack<2.0.0,>=1.0.0 in /usr/local/lib/python3.10/dist-packages (from ray>=2.9->vllm) (1.0.7)\n",
            "Requirement already satisfied: protobuf!=3.19.5,>=3.15.3 in /usr/local/lib/python3.10/dist-packages (from ray>=2.9->vllm) (3.20.3)\n",
            "Requirement already satisfied: aiosignal in /usr/local/lib/python3.10/dist-packages (from ray>=2.9->vllm) (1.3.1)\n",
            "Requirement already satisfied: frozenlist in /usr/local/lib/python3.10/dist-packages (from ray>=2.9->vllm) (1.4.1)\n",
            "Requirement already satisfied: charset-normalizer<4,>=2 in /usr/local/lib/python3.10/dist-packages (from requests~=2.31.0->dspy-ai) (3.3.2)\n",
            "Requirement already satisfied: idna<4,>=2.5 in /usr/local/lib/python3.10/dist-packages (from requests~=2.31.0->dspy-ai) (3.6)\n",
            "Requirement already satisfied: urllib3<3,>=1.21.1 in /usr/local/lib/python3.10/dist-packages (from requests~=2.31.0->dspy-ai) (2.0.7)\n",
            "Requirement already satisfied: certifi>=2017.4.17 in /usr/local/lib/python3.10/dist-packages (from requests~=2.31.0->dspy-ai) (2024.2.2)\n",
            "Requirement already satisfied: tokenizers<0.19,>=0.14 in /usr/local/lib/python3.10/dist-packages (from transformers>=4.37.0->vllm) (0.15.2)\n",
            "Requirement already satisfied: safetensors>=0.4.1 in /usr/local/lib/python3.10/dist-packages (from transformers>=4.37.0->vllm) (0.4.2)\n",
            "Collecting orjson (from aioprometheus[starlette]->vllm)\n",
            "  Downloading orjson-3.9.14-cp310-cp310-manylinux_2_17_x86_64.manylinux2014_x86_64.whl (138 kB)\n",
            "\u001b[2K     \u001b[90m━━━━━━━━━━━━━━━━━━━━━━━━━━━━━━━━━━━━━━━━\u001b[0m \u001b[32m139.0/139.0 kB\u001b[0m \u001b[31m16.6 MB/s\u001b[0m eta \u001b[36m0:00:00\u001b[0m\n",
            "\u001b[?25hCollecting quantile-python>=1.1 (from aioprometheus[starlette]->vllm)\n",
            "  Downloading quantile-python-1.1.tar.gz (2.9 kB)\n",
            "  Preparing metadata (setup.py) ... \u001b[?25l\u001b[?25hdone\n",
            "Collecting starlette>=0.14.2 (from aioprometheus[starlette]->vllm)\n",
            "  Downloading starlette-0.37.1-py3-none-any.whl (71 kB)\n",
            "\u001b[2K     \u001b[90m━━━━━━━━━━━━━━━━━━━━━━━━━━━━━━━━━━━━━━━━\u001b[0m \u001b[32m72.0/72.0 kB\u001b[0m \u001b[31m11.1 MB/s\u001b[0m eta \u001b[36m0:00:00\u001b[0m\n",
            "\u001b[?25h  Downloading starlette-0.36.3-py3-none-any.whl (71 kB)\n",
            "\u001b[2K     \u001b[90m━━━━━━━━━━━━━━━━━━━━━━━━━━━━━━━━━━━━━━━━\u001b[0m \u001b[32m71.5/71.5 kB\u001b[0m \u001b[31m10.8 MB/s\u001b[0m eta \u001b[36m0:00:00\u001b[0m\n",
            "\u001b[?25hCollecting h11>=0.8 (from uvicorn[standard]->vllm)\n",
            "  Downloading h11-0.14.0-py3-none-any.whl (58 kB)\n",
            "\u001b[2K     \u001b[90m━━━━━━━━━━━━━━━━━━━━━━━━━━━━━━━━━━━━━━━━\u001b[0m \u001b[32m58.3/58.3 kB\u001b[0m \u001b[31m8.1 MB/s\u001b[0m eta \u001b[36m0:00:00\u001b[0m\n",
            "\u001b[?25hCollecting httptools>=0.5.0 (from uvicorn[standard]->vllm)\n",
            "  Downloading httptools-0.6.1-cp310-cp310-manylinux_2_5_x86_64.manylinux1_x86_64.manylinux_2_17_x86_64.manylinux2014_x86_64.whl (341 kB)\n",
            "\u001b[2K     \u001b[90m━━━━━━━━━━━━━━━━━━━━━━━━━━━━━━━━━━━━━━━━\u001b[0m \u001b[32m341.4/341.4 kB\u001b[0m \u001b[31m38.9 MB/s\u001b[0m eta \u001b[36m0:00:00\u001b[0m\n",
            "\u001b[?25hCollecting python-dotenv>=0.13 (from uvicorn[standard]->vllm)\n",
            "  Downloading python_dotenv-1.0.1-py3-none-any.whl (19 kB)\n",
            "Collecting uvloop!=0.15.0,!=0.15.1,>=0.14.0 (from uvicorn[standard]->vllm)\n",
            "  Downloading uvloop-0.19.0-cp310-cp310-manylinux_2_17_x86_64.manylinux2014_x86_64.whl (3.4 MB)\n",
            "\u001b[2K     \u001b[90m━━━━━━━━━━━━━━━━━━━━━━━━━━━━━━━━━━━━━━━━\u001b[0m \u001b[32m3.4/3.4 MB\u001b[0m \u001b[31m105.5 MB/s\u001b[0m eta \u001b[36m0:00:00\u001b[0m\n",
            "\u001b[?25hCollecting watchfiles>=0.13 (from uvicorn[standard]->vllm)\n",
            "  Downloading watchfiles-0.21.0-cp310-cp310-manylinux_2_17_x86_64.manylinux2014_x86_64.whl (1.3 MB)\n",
            "\u001b[2K     \u001b[90m━━━━━━━━━━━━━━━━━━━━━━━━━━━━━━━━━━━━━━━━\u001b[0m \u001b[32m1.3/1.3 MB\u001b[0m \u001b[31m78.7 MB/s\u001b[0m eta \u001b[36m0:00:00\u001b[0m\n",
            "\u001b[?25hCollecting websockets>=10.4 (from uvicorn[standard]->vllm)\n",
            "  Downloading websockets-12.0-cp310-cp310-manylinux_2_5_x86_64.manylinux1_x86_64.manylinux_2_17_x86_64.manylinux2014_x86_64.whl (130 kB)\n",
            "\u001b[2K     \u001b[90m━━━━━━━━━━━━━━━━━━━━━━━━━━━━━━━━━━━━━━━━\u001b[0m \u001b[32m130.2/130.2 kB\u001b[0m \u001b[31m17.7 MB/s\u001b[0m eta \u001b[36m0:00:00\u001b[0m\n",
            "\u001b[?25hCollecting Mako (from alembic>=1.5.0->optuna~=3.4.0->dspy-ai)\n",
            "  Downloading Mako-1.3.2-py3-none-any.whl (78 kB)\n",
            "\u001b[2K     \u001b[90m━━━━━━━━━━━━━━━━━━━━━━━━━━━━━━━━━━━━━━━━\u001b[0m \u001b[32m78.7/78.7 kB\u001b[0m \u001b[31m12.2 MB/s\u001b[0m eta \u001b[36m0:00:00\u001b[0m\n",
            "\u001b[?25hRequirement already satisfied: exceptiongroup in /usr/local/lib/python3.10/dist-packages (from anyio<5,>=3.5.0->openai<2.0.0,>=0.28.1->dspy-ai) (1.2.0)\n",
            "Requirement already satisfied: attrs>=17.3.0 in /usr/local/lib/python3.10/dist-packages (from aiohttp->datasets~=2.14.6->dspy-ai) (23.2.0)\n",
            "Requirement already satisfied: multidict<7.0,>=4.5 in /usr/local/lib/python3.10/dist-packages (from aiohttp->datasets~=2.14.6->dspy-ai) (6.0.5)\n",
            "Requirement already satisfied: yarl<2.0,>=1.0 in /usr/local/lib/python3.10/dist-packages (from aiohttp->datasets~=2.14.6->dspy-ai) (1.9.4)\n",
            "Requirement already satisfied: async-timeout<5.0,>=4.0 in /usr/local/lib/python3.10/dist-packages (from aiohttp->datasets~=2.14.6->dspy-ai) (4.0.3)\n",
            "Collecting httpcore==1.* (from httpx<1,>=0.23.0->openai<2.0.0,>=0.28.1->dspy-ai)\n",
            "  Downloading httpcore-1.0.3-py3-none-any.whl (77 kB)\n",
            "\u001b[2K     \u001b[90m━━━━━━━━━━━━━━━━━━━━━━━━━━━━━━━━━━━━━━━━\u001b[0m \u001b[32m77.0/77.0 kB\u001b[0m \u001b[31m11.5 MB/s\u001b[0m eta \u001b[36m0:00:00\u001b[0m\n",
            "\u001b[?25hRequirement already satisfied: six>=1.5 in /usr/local/lib/python3.10/dist-packages (from python-dateutil>=2.8.2->pandas~=2.1.1->dspy-ai) (1.16.0)\n",
            "Requirement already satisfied: greenlet!=0.4.17 in /usr/local/lib/python3.10/dist-packages (from sqlalchemy>=1.3.0->optuna~=3.4.0->dspy-ai) (3.0.3)\n",
            "Requirement already satisfied: MarkupSafe>=2.0 in /usr/local/lib/python3.10/dist-packages (from jinja2->torch==2.1.2->vllm) (2.1.5)\n",
            "Requirement already satisfied: jsonschema-specifications>=2023.03.6 in /usr/local/lib/python3.10/dist-packages (from jsonschema->ray>=2.9->vllm) (2023.12.1)\n",
            "Requirement already satisfied: referencing>=0.28.4 in /usr/local/lib/python3.10/dist-packages (from jsonschema->ray>=2.9->vllm) (0.33.0)\n",
            "Requirement already satisfied: rpds-py>=0.7.1 in /usr/local/lib/python3.10/dist-packages (from jsonschema->ray>=2.9->vllm) (0.18.0)\n",
            "INFO: pip is looking at multiple versions of multiprocess to determine which version is compatible with other requirements. This could take a while.\n",
            "Collecting multiprocess (from datasets~=2.14.6->dspy-ai)\n",
            "  Downloading multiprocess-0.70.15-py310-none-any.whl (134 kB)\n",
            "\u001b[2K     \u001b[90m━━━━━━━━━━━━━━━━━━━━━━━━━━━━━━━━━━━━━━━━\u001b[0m \u001b[32m134.8/134.8 kB\u001b[0m \u001b[31m18.8 MB/s\u001b[0m eta \u001b[36m0:00:00\u001b[0m\n",
            "\u001b[?25hRequirement already satisfied: mpmath>=0.19 in /usr/local/lib/python3.10/dist-packages (from sympy->torch==2.1.2->vllm) (1.3.0)\n",
            "Building wheels for collected packages: quantile-python\n",
            "  Building wheel for quantile-python (setup.py) ... \u001b[?25l\u001b[?25hdone\n",
            "  Created wheel for quantile-python: filename=quantile_python-1.1-py3-none-any.whl size=3444 sha256=408c73fd0cb40c6a16c4257ef3c5ea6f0c09150c732dc5617e5af1e6e14d282f\n",
            "  Stored in directory: /root/.cache/pip/wheels/6d/f4/0a/0e7d01548a005f9f3fa23101f071d248da052f2a9bf2fe11c6\n",
            "Successfully built quantile-python\n",
            "Installing collected packages: quantile-python, ninja, websockets, uvloop, ujson, tzdata, regex, python-dotenv, pynvml, orjson, nvidia-nvtx-cu12, nvidia-nvjitlink-cu12, nvidia-nccl-cu12, nvidia-curand-cu12, nvidia-cufft-cu12, nvidia-cuda-runtime-cu12, nvidia-cuda-nvrtc-cu12, nvidia-cuda-cupti-cu12, nvidia-cublas-cu12, Mako, httptools, h11, dill, cupy-cuda12x, colorlog, backoff, watchfiles, uvicorn, starlette, pandas, nvidia-cusparse-cu12, nvidia-cudnn-cu12, multiprocess, httpcore, alembic, aioprometheus, optuna, nvidia-cusolver-cu12, httpx, fastapi, transformers, torch, ray, openai, datasets, xformers, dspy-ai, vllm\n",
            "  Attempting uninstall: regex\n",
            "    Found existing installation: regex 2023.12.25\n",
            "    Uninstalling regex-2023.12.25:\n",
            "      Successfully uninstalled regex-2023.12.25\n",
            "  Attempting uninstall: cupy-cuda12x\n",
            "    Found existing installation: cupy-cuda12x 12.2.0\n",
            "    Uninstalling cupy-cuda12x-12.2.0:\n",
            "      Successfully uninstalled cupy-cuda12x-12.2.0\n",
            "  Attempting uninstall: pandas\n",
            "    Found existing installation: pandas 1.5.3\n",
            "    Uninstalling pandas-1.5.3:\n",
            "      Successfully uninstalled pandas-1.5.3\n",
            "  Attempting uninstall: transformers\n",
            "    Found existing installation: transformers 4.35.2\n",
            "    Uninstalling transformers-4.35.2:\n",
            "      Successfully uninstalled transformers-4.35.2\n",
            "  Attempting uninstall: torch\n",
            "    Found existing installation: torch 2.1.0+cu121\n",
            "    Uninstalling torch-2.1.0+cu121:\n",
            "      Successfully uninstalled torch-2.1.0+cu121\n",
            "\u001b[31mERROR: pip's dependency resolver does not currently take into account all the packages that are installed. This behaviour is the source of the following dependency conflicts.\n",
            "bigframes 0.21.0 requires pandas<2.1.4,>=1.5.0, but you have pandas 2.1.4 which is incompatible.\n",
            "google-colab 1.0.0 requires pandas==1.5.3, but you have pandas 2.1.4 which is incompatible.\n",
            "torchaudio 2.1.0+cu121 requires torch==2.1.0, but you have torch 2.1.2 which is incompatible.\n",
            "torchdata 0.7.0 requires torch==2.1.0, but you have torch 2.1.2 which is incompatible.\n",
            "torchtext 0.16.0 requires torch==2.1.0, but you have torch 2.1.2 which is incompatible.\n",
            "torchvision 0.16.0+cu121 requires torch==2.1.0, but you have torch 2.1.2 which is incompatible.\u001b[0m\u001b[31m\n",
            "\u001b[0mSuccessfully installed Mako-1.3.2 aioprometheus-23.12.0 alembic-1.13.1 backoff-2.2.1 colorlog-6.8.2 cupy-cuda12x-12.1.0 datasets-2.14.7 dill-0.3.7 dspy-ai-2.1.10 fastapi-0.109.2 h11-0.14.0 httpcore-1.0.3 httptools-0.6.1 httpx-0.26.0 multiprocess-0.70.15 ninja-1.11.1.1 nvidia-cublas-cu12-12.1.3.1 nvidia-cuda-cupti-cu12-12.1.105 nvidia-cuda-nvrtc-cu12-12.1.105 nvidia-cuda-runtime-cu12-12.1.105 nvidia-cudnn-cu12-8.9.2.26 nvidia-cufft-cu12-11.0.2.54 nvidia-curand-cu12-10.3.2.106 nvidia-cusolver-cu12-11.4.5.107 nvidia-cusparse-cu12-12.1.0.106 nvidia-nccl-cu12-2.18.1 nvidia-nvjitlink-cu12-12.3.101 nvidia-nvtx-cu12-12.1.105 openai-1.12.0 optuna-3.4.0 orjson-3.9.14 pandas-2.1.4 pynvml-11.5.0 python-dotenv-1.0.1 quantile-python-1.1 ray-2.9.2 regex-2023.10.3 starlette-0.36.3 torch-2.1.2 transformers-4.37.2 tzdata-2024.1 ujson-5.8.0 uvicorn-0.27.1 uvloop-0.19.0 vllm-0.3.1 watchfiles-0.21.0 websockets-12.0 xformers-0.0.23.post1\n"
          ]
        }
      ],
      "source": [
        "!pip install dspy-ai vllm"
      ]
    },
    {
      "cell_type": "code",
      "source": [
        "# Run server in foreground\n",
        "# !python -m vllm.entrypoints.openai.api_server --model TheBloke/dolphin-2.6-mistral-7B-dpo-laser-AWQ --quantization awq\n",
        "\n",
        "# Run server in the background\n",
        "!nohup python -m vllm.entrypoints.openai.api_server --model TheBloke/dolphin-2.6-mistral-7B-dpo-laser-AWQ --quantization awq > server.log 2>&1 &\n",
        "# stdout is redirected to a file `server.log` using `> server.log`.\n",
        "# We use a quantized model prepared using AWQ quantization"
      ],
      "metadata": {
        "id": "07Jt1JJ4yM1a"
      },
      "execution_count": 63,
      "outputs": []
    },
    {
      "cell_type": "code",
      "source": [
        "# Run this cell again and again to monitor the status of the server.\n",
        "# The server can take a few mintues to start.\n",
        "# Once the server has started, you will see logs such as this:\n",
        "# INFO 02-10 07:16:43 llm_engine.py:877] Avg prompt throughput: 0.0 tokens/s, Avg generation throughput: 0.0 tokens/s, Running: 0 reqs, Swapped: 0 reqs, Pending: 0 reqs, GPU KV cache usage: 0.0%, CPU KV cache usage: 0.0%\n",
        "!tail server.log"
      ],
      "metadata": {
        "id": "rdJYF7w33hR7",
        "colab": {
          "base_uri": "https://localhost:8080/"
        },
        "outputId": "e23f81e3-d711-4077-b705-b754129bdc73"
      },
      "execution_count": 69,
      "outputs": [
        {
          "output_type": "stream",
          "name": "stdout",
          "text": [
            "INFO 02-20 21:23:23 weight_utils.py:163] Using model weights format ['*.safetensors']\n",
            "INFO 02-20 21:23:52 llm_engine.py:337] # GPU blocks: 2120, # CPU blocks: 2048\n",
            "INFO 02-20 21:23:55 model_runner.py:666] Capturing the model for CUDA graphs. This may lead to unexpected consequences if the model is not static. To run the model in eager mode, set 'enforce_eager=True' or use '--enforce-eager' in the CLI.\n",
            "INFO 02-20 21:23:55 model_runner.py:670] CUDA graphs can take additional 1~3 GiB memory per GPU. If you are running out of memory, consider decreasing `gpu_memory_utilization` or enforcing eager mode. You can also reduce the `max_num_seqs` as needed to decrease memory usage.\n",
            "INFO 02-20 21:24:10 model_runner.py:738] Graph capturing finished in 15 secs.\n",
            "WARNING 02-20 21:24:10 serving_chat.py:264] No chat template provided. Chat API will not work.\n",
            "INFO:     Started server process [15367]\n",
            "INFO:     Waiting for application startup.\n",
            "INFO:     Application startup complete.\n",
            "INFO:     Uvicorn running on http://0.0.0.0:8000 (Press CTRL+C to quit)\n"
          ]
        }
      ]
    },
    {
      "cell_type": "code",
      "source": [
        "# Once the server is up and running, this should work\n",
        "!curl http://localhost:8000/v1/models"
      ],
      "metadata": {
        "colab": {
          "base_uri": "https://localhost:8080/"
        },
        "id": "CXH6ULj6yZBF",
        "outputId": "581c9a73-b7eb-4a4c-df18-a3f4daba3484"
      },
      "execution_count": 70,
      "outputs": [
        {
          "output_type": "stream",
          "name": "stdout",
          "text": [
            "{\"object\":\"list\",\"data\":[{\"id\":\"TheBloke/dolphin-2.6-mistral-7B-dpo-laser-AWQ\",\"object\":\"model\",\"created\":1708464266,\"owned_by\":\"vllm\",\"root\":\"TheBloke/dolphin-2.6-mistral-7B-dpo-laser-AWQ\",\"parent\":null,\"permission\":[{\"id\":\"modelperm-91bd16b0ff4d4893b03eee47a59b8565\",\"object\":\"model_permission\",\"created\":1708464266,\"allow_create_engine\":false,\"allow_sampling\":true,\"allow_logprobs\":true,\"allow_search_indices\":false,\"allow_view\":true,\"allow_fine_tuning\":false,\"organization\":\"*\",\"group\":null,\"is_blocking\":false}]}]}"
          ]
        }
      ]
    },
    {
      "cell_type": "markdown",
      "source": [
        "# DSPy: 𝗗eclarative 𝗦elf-improving Language 𝗣rograms"
      ],
      "metadata": {
        "id": "CgHqg5za5CZb"
      }
    },
    {
      "cell_type": "code",
      "source": [
        "import dspy\n",
        "from dspy.evaluate import Evaluate\n",
        "from dspy.teleprompt import BayesianSignatureOptimizer, BootstrapFewShot, BootstrapFewShotWithRandomSearch, BootstrapFinetune\n"
      ],
      "metadata": {
        "id": "-k-t4RSfv-Ur"
      },
      "execution_count": 13,
      "outputs": []
    },
    {
      "cell_type": "code",
      "source": [
        "lm = dspy.HFClientVLLM(model=\"TheBloke/dolphin-2.6-mistral-7B-dpo-laser-AWQ\", port=8000, url=\"http://localhost\")\n",
        "\n",
        "dspy.settings.configure(lm=lm)\n",
        "\n",
        "colbertv2 = dspy.ColBERTv2(url='http://20.102.90.50:2017/wiki17_abstracts')\n",
        "\n",
        "# # NOTE: After you finish this notebook, you can use GPT-3.5 like this if you like.\n",
        "# turbo = dspy.OpenAI(model='gpt-3.5-turbo-instruct')\n",
        "# # In that case, make sure to configure lm=turbo below if you choose to do that.\n",
        "\n",
        "dspy.settings.configure(rm=colbertv2)"
      ],
      "metadata": {
        "id": "YwdocZAzwCnt"
      },
      "execution_count": 12,
      "outputs": []
    },
    {
      "cell_type": "code",
      "source": [
        "class NutritionalAdvice(dspy.Signature):\n",
        "    \"\"\"Provide nutritional advice and dietary recommendations for pets and animals.\"\"\"\n",
        "\n",
        "    query = dspy.InputField(desc=\"Query from pet owners or farmers regarding nutritional advice\")\n",
        "    recommendation = dspy.OutputField(desc=\"Nutritional advice and dietary recommendations\")\n",
        "\n",
        "\n",
        "# Example usage:\n",
        "query = \"My dog has allergies and digestive issues. What dietary adjustments can I make to alleviate his symptoms?\"\n",
        "recommendation = \"Transition to a hypoallergenic dog food formula with limited ingredients and novel protein sources. Avoid common allergens such as wheat, corn, and soy. Monitor for improvements in digestion and consult with a veterinarian for additional guidance.\"\n",
        "\n",
        "nutrition_advice = dspy.ChainOfThought(NutritionalAdvice)\n",
        "result = nutrition_advice(query=query)\n",
        "print(result.recommendation)\n"
      ],
      "metadata": {
        "colab": {
          "base_uri": "https://localhost:8080/"
        },
        "id": "XkOMuc61-BpD",
        "outputId": "e3e7c13e-2a20-442f-dc50-1ea0bd5ee2d5"
      },
      "execution_count": 14,
      "outputs": [
        {
          "output_type": "stream",
          "name": "stdout",
          "text": [
            "To alleviate your dog's allergies and digestive issues, consider the following dietary adjustments:\n",
            "\n",
            "1. Hypoallergenic diet: Switch to a hypoallergenic dog food that is specifically formulated for dogs with allergies. These foods typically contain novel proteins and carbohydrates that your dog has not been exposed to before, reducing the likelihood of an allergic reaction.\n",
            "\n",
            "2. Limited ingredient diet: Choose a limited ingredient diet that contains\n"
          ]
        }
      ]
    },
    {
      "cell_type": "code",
      "source": [
        "# Import the required classes and functions\n",
        "import dspy\n",
        "\n",
        "# Define the NutritionalAdvice class\n",
        "class NutritionalAdvice(dspy.Signature):\n",
        "    \"\"\"Provide nutritional advice and dietary recommendations for pets and animals.\"\"\"\n",
        "\n",
        "    query = dspy.InputField(desc=\"Query from pet owners or farmers regarding nutritional advice\")\n",
        "    recommendation = dspy.OutputField(desc=\"Nutritional advice and dietary recommendations\")\n",
        "\n",
        "\n",
        "# Example usage:\n",
        "# Query from a pet owner about their cat's dietary needs\n",
        "query_cat = \"My cat has been gaining weight and seems lethargic. What dietary changes should I make to help her lose weight and regain energy?\"\n",
        "# Query from a farmer about their cow's nutritional requirements\n",
        "query_cow = \"My dairy cow's milk production has decreased, and she appears undernourished. What dietary adjustments can I make to improve her health and milk yield?\"\n",
        "\n",
        "# Instantiate the NutritionalAdvice module\n",
        "nutrition_advice = dspy.Predict(NutritionalAdvice)\n",
        "\n",
        "# Get nutritional advice and dietary recommendations for the cat\n",
        "result_cat = nutrition_advice(query=query_cat)\n",
        "print(\"For the cat:\")\n",
        "print(\"Query:\", query_cat)\n",
        "print(\"Recommendation:\", result_cat.recommendation)\n",
        "\n",
        "# Get nutritional advice and dietary recommendations for the cow\n",
        "result_cow = nutrition_advice(query=query_cow)\n",
        "print(\"\\nFor the cow:\")\n",
        "print(\"Query:\", query_cow)\n",
        "print(\"Recommendation:\", result_cow.recommendation)\n"
      ],
      "metadata": {
        "colab": {
          "base_uri": "https://localhost:8080/"
        },
        "id": "a9fOYRlg-1AY",
        "outputId": "97bf8bd5-7876-480b-dfa3-3b5f20d66672"
      },
      "execution_count": null,
      "outputs": [
        {
          "output_type": "stream",
          "name": "stdout",
          "text": [
            "For the cat:\n",
            "Query: My cat has been gaining weight and seems lethargic. What dietary changes should I make to help her lose weight and regain energy?\n",
            "Recommendation: To help your cat lose weight and regain energy, consider the following dietary changes:\n",
            "\n",
            "1. Consult with your veterinarian: Before making any changes to your cat's diet, consult with your veterinarian to ensure that any weight gain is not due to an underlying health issue.\n",
            "\n",
            "2. Feed a high-quality, balanced diet: Choose a high-quality, balanced cat food that is specifically formulated for weight management. Look for a food that is low in calories and high in protein, as this can help your cat feel full while consuming fewer calories.\n",
            "\n",
            "3. Monitor portion sizes: Be sure to measure out your cat's food portions to ensure that you are not overfeeding.\n",
            "\n",
            "For the cow:\n",
            "Query: My dairy cow's milk production has decreased, and she appears undernourished. What dietary adjustments can I make to improve her health and milk yield?\n",
            "Recommendation: To improve your dairy cow's health and milk yield, consider the following dietary adjustments:\n",
            "\n",
            "1. Balanced diet: Ensure your cow is receiving a balanced diet that includes essential nutrients such as proteins, carbohydrates, fats, vitamins, and minerals. Consult with a veterinarian or a nutritionist to determine the appropriate nutrient levels for your cow's specific needs.\n",
            "\n",
            "2. High-quality forage: Provide your cow with high-quality forage, such as hay or silage, which is rich in fiber and essential nutrients. This will help maintain a healthy rumen and promote proper digestion.\n",
            "\n",
            "3. Supplements\n"
          ]
        }
      ]
    },
    {
      "cell_type": "code",
      "source": [
        "%%writefile NutritionalAdvice.py\n",
        "\n",
        "#ALL THE IMPORTS\n",
        "import matplotlib.pyplot as plt\n",
        "import numpy as np\n",
        "import dspy\n",
        "from dspy.evaluate import Evaluate\n",
        "from dspy.teleprompt import BootstrapFewShot, BootstrapFewShotWithRandomSearch, BootstrapFinetune\n",
        "from dspy.teleprompt import KNNFewShot\n",
        "from dspy.predict.knn import KNN\n",
        "import argparse\n",
        "from dspy.teleprompt import BayesianSignatureOptimizer\n",
        "\n",
        "#MODEL\n",
        "model_name=\"TheBloke/dolphin-2.6-mistral-7B-dpo-laser-AWQ\"\n",
        "lm = dspy.HFClientVLLM(model=model_name, port=8000, url=\"http://localhost\")\n",
        "dspy.settings.configure(lm=lm)\n",
        "\n",
        "train = [\n",
        "    (\"My cow seems to be losing weight and producing less milk. What should I feed her to improve her condition?\",\n",
        "     \"recommendation: Provide a balanced diet rich in green fodder, protein supplements, and minerals such as calcium and phosphorus. Monitor her body condition and consult with a veterinarian for further evaluation if needed.\"),\n",
        "\n",
        "    (\"My goat herd is showing signs of poor growth and low energy levels. How can I improve their health and productivity?\",\n",
        "     \"recommendation: Offer a diet consisting of high-quality hay, grains, and protein-rich supplements to support growth and energy requirements. Ensure access to clean water and shelter from harsh weather conditions.\"),\n",
        "\n",
        "    (\"My chicken flock is experiencing a drop in egg production. What dietary changes can I make to boost their egg-laying performance?\",\n",
        "     \"recommendation: Provide a balanced diet with layers pellets containing essential nutrients like calcium and protein. Supplement with calcium-rich foods such as oyster shells and ensure access to fresh water and clean nesting boxes.\"),\n",
        "\n",
        "    (\"My fish are showing signs of stress and poor growth in the pond. How can I improve their health and growth rate?\",\n",
        "     \"recommendation: Optimize pond water quality by maintaining proper oxygen levels, pH balance, and temperature. Offer a balanced diet with high-quality fish feed containing essential nutrients. Monitor water parameters regularly and adjust feeding regimen accordingly.\"),\n",
        "\n",
        "    (\"My dog has allergies and digestive issues. What dietary adjustments can I make to alleviate his symptoms?\",\n",
        "     \"recommendation: Transition to a hypoallergenic dog food formula with limited ingredients and novel protein sources. Avoid common allergens such as wheat, corn, and soy. Monitor for improvements in digestion and consult with a veterinarian for additional guidance.\"),\n",
        "\n",
        "    (\"My cat is overweight and inactive. How can I help her lose weight and stay healthy?\",\n",
        "     \"recommendation: Implement portion control by measuring out daily food rations and feeding smaller, more frequent meals. Choose a weight management cat food formula with reduced calorie content. Encourage regular exercise through interactive play and environmental enrichment.\"),\n",
        "\n",
        "    (\"My horse is prone to colic and digestive issues. What dietary changes can I make to prevent these problems?\",\n",
        "     \"recommendation: Provide a diet consisting of high-quality forage such as grass hay or pasture, supplemented with a low-starch, high-fiber concentrate feed. Offer plenty of clean water and implement a regular deworming and dental care schedule.\"),\n",
        "\n",
        "    (\"My sheep are grazing on poor-quality pasture and have rough coats. How can I improve their nutrition and coat condition?\",\n",
        "     \"recommendation: Supplement grazing with high-quality hay or forage and provide access to mineral blocks containing essential trace minerals. Monitor for signs of nutritional deficiencies such as poor coat quality and consult with a veterinarian for dietary adjustments.\"),\n",
        "\n",
        "    (\"My poultry birds are exhibiting signs of vitamin deficiencies. What dietary supplements can I provide to address this?\",\n",
        "     \"recommendation: Offer vitamin supplements in their water or feed, especially those containing vitamins A, D, and E, which are essential for poultry health and productivity. Ensure access to fresh greens and forage to support natural vitamin intake.\"),\n",
        "\n",
        "    (\"My aquarium fish are prone to swim bladder issues. What dietary changes can I make to prevent this?\",\n",
        "     \"recommendation: Offer a varied diet consisting of high-quality fish flakes, pellets, and live or frozen foods. Avoid overfeeding and provide sinking foods for bottom-dwelling fish. Monitor fish behavior and adjust feeding regimen accordingly.\"),\n",
        "]\n",
        "\n",
        "# Development dataset\n",
        "devset = [\n",
        "    (\"My pet rabbit's teeth are overgrown, and she's having trouble eating. How can I improve her dental health?\",\n",
        "     \"recommendation: Provide plenty of fresh hay and chew toys to promote natural wear of her teeth. Offer leafy greens and vegetables high in fiber to aid in digestion. Monitor her teeth regularly and consult with a veterinarian for dental trimming if necessary.\"),\n",
        "\n",
        "    (\"My backyard chickens are laying thin-shelled eggs. What dietary changes can I make to improve egg quality?\",\n",
        "     \"recommendation: Supplement their diet with calcium sources such as crushed eggshells or oyster shells to support eggshell formation. Ensure adequate protein intake and provide access to clean nesting boxes and stress-free environment.\"),\n",
        "\n",
        "    (\"My pet turtle has soft shell and weak bones. How can I improve his calcium intake and overall health?\",\n",
        "     \"recommendation: Offer calcium-rich foods such as cuttlebone, snails, or commercially available turtle calcium supplements. Provide proper UVB lighting for calcium absorption and monitor his shell condition regularly.\"),\n",
        "\n",
        "    (\"My cattle are experiencing bloating and digestive discomfort. What dietary adjustments can I make to prevent bloat?\",\n",
        "     \"recommendation: Implement a gradual transition to high-fiber diets to prevent sudden changes in rumen pH. Offer free-choice access to fresh water and ensure proper management of high-risk feeds such as grains and legumes.\"),\n",
        "\n",
        "    (\"My pet parrot is plucking his feathers and seems stressed. How can I improve his emotional well-being through diet?\",\n",
        "     \"recommendation: Offer a balanced diet with plenty of fresh fruits, vegetables, and seeds to support overall health and immune function. Provide enrichment activities such as toys, foraging opportunities, and social interaction to reduce stress.\"),\n",
        "\n",
        "    (\"My aquaponics system is experiencing nutrient deficiencies. How can I adjust the fish feed to address this?\",\n",
        "     \"recommendation: Evaluate the fish feed formulation to ensure it provides adequate nutrients for both fish and plants. Consider supplementing with organic fertilizers or nutrient additives to maintain optimal nutrient levels in the aquaponic system.\"),\n",
        "\n",
        "    (\"My pet snake is refusing to eat. How can I entice him to eat and ensure proper nutrition?\",\n",
        "     \"recommendation: Offer appropriately sized prey items and try scenting with prey attractants such as fish oil or chicken broth. Ensure proper husbandry conditions such as temperature, humidity, and enclosure size to promote feeding response.\"),\n",
        "\n",
        "    (\"My backyard pond fish are experiencing fin rot and skin lesions. What dietary changes can I make to support their immune system?\",\n",
        "     \"recommendation: Offer a balanced diet with immune-boosting ingredients such as garlic and vitamin supplements. Monitor water quality and implement regular water changes to reduce stress and disease risk.\"),\n",
        "\n",
        "    (\"My pet ferret is losing fur and seems lethargic. How can I improve his coat condition and energy levels?\",\n",
        "     \"recommendation: Provide a balanced diet with high-quality ferret kibble and occasional treats such as cooked meats or eggs. Ensure plenty of opportunities for exercise and mental stimulation through interactive play and enrichment activities.\"),\n",
        "\n",
        "    (\"My backyard pond is experiencing algae overgrowth. How can I adjust the fish diet to help control algae growth?\",\n",
        "     \"recommendation: Offer a diet with lower protein content to reduce fish waste and nutrient input into the pond. Consider adding algae-eating fish species such as koi or grass carp to help naturally control algae levels.\"),\n",
        "]\n",
        "\n",
        "\n",
        "# Convert the dataset into DSPy Examples\n",
        "train = [dspy.Example(query=query, recommendation=recommendation).with_inputs('query') for query, recommendation in train]\n",
        "devset = [dspy.Example(query=query, recommendation=recommendation).with_inputs('query') for query, recommendation in devset]\n",
        "\n",
        "# Print the lengths of trainset and devset\n",
        "#print(len(train), len(devset))\n",
        "\n",
        "# Access an example from trainset and devset\n",
        "train_example = train[0]\n",
        "dev_example = devset[0]\n",
        "# print(train_example.query)\n",
        "\n",
        "\n",
        "\n",
        "def should_be_correct(que, rec):\n",
        "  check=dspy.ChainOfThought(\"query -> recommendation\", n = 5)\n",
        "  result=check(query=f\"Is this {rec}; a correct recommendation for {que}. Return 0 for False and 1 for True.\")\n",
        "  if result.recommendation==0:\n",
        "    return False\n",
        "  else:\n",
        "    return True\n",
        "class NutritionalAdvice(dspy.Signature):\n",
        "    \"\"\"Provide nutritional advice and dietary recommendations for pets and animals.\"\"\"\n",
        "\n",
        "    query = dspy.InputField(desc=\"Query from pet owners or farmers regarding nutritional advice\")\n",
        "    recommendation = dspy.OutputField(desc=\"Nutritional advice and dietary recommendations\")\n",
        "\n",
        "class NutritionalAdvicePipelineAssertions(dspy.Module):\n",
        "    def __init__(self, assert_on=True):\n",
        "        super().__init__()\n",
        "        self.assert_on = assert_on\n",
        "        self.NutritionalAdvice_predicted = dspy.ChainOfThought(NutritionalAdvice)\n",
        "\n",
        "    def forward(self, query, **kwargs):\n",
        "        predicted_NutritionalAdvice = self.NutritionalAdvice_predicted(query=query)\n",
        "\n",
        "        if self.assert_on:\n",
        "            dspy.Suggest(\n",
        "                should_be_correct(query, predicted_NutritionalAdvice),\n",
        "                \"NutritionalAdvice is correct.\",\n",
        "                target_module=NutritionalAdvice\n",
        "            )\n",
        "\n",
        "        return predicted_NutritionalAdvice\n",
        "\n",
        "\n",
        "class Assess(dspy.Signature):\n",
        "    \"\"\"Assess the quality of the solution along the specified dimension.\"\"\"\n",
        "\n",
        "    assessed_text = dspy.InputField()\n",
        "    assessment_query = dspy.InputField()\n",
        "    assessment_recommendation = dspy.OutputField(desc=\"Only True or False\")\n",
        "\n",
        "def metric(gold, pred, trace=None):\n",
        "    query, recommendation, emos = gold.query, gold.recommendation, pred.recommendation\n",
        "\n",
        "    relevance = f\"The predicted  recommendation{emos} are relevant to the context of the query {query}. The gold recommendation is {recommendation}\"\n",
        "    diversity = f\"The predicted recommendation {emos} demonstrate a diverse range of recommendation for the query {query}. The gold recommendation is {recommendation}\"\n",
        "    correctness = f\"The given recommendation {emos} will be effective for this query {query}. The gold recommendation is {recommendation}\"\n",
        "    informativeness = f\"For this query {query}, the given recommendation {emos} are informative. The gold recommendation is {recommendation}\"\n",
        "\n",
        "    relevant = dspy.ChainOfThought(Assess)(assessed_text=query, assessment_query=relevance)\n",
        "    diverse = dspy.ChainOfThought(Assess)(assessed_text=query, assessment_query=diversity)\n",
        "    correct = dspy.ChainOfThought(Assess)(assessed_text=query, assessment_query=correctness)\n",
        "    informative = dspy.ChainOfThought(Assess)(assessed_text=query, assessment_query=informativeness)\n",
        "\n",
        "    relevance_score = 1 if relevant.assessment_recommendation == 'True' else 0\n",
        "    diversity_score = 1 if diverse.assessment_recommendation == 'True' else 0\n",
        "    correctness_score = 1 if correct.assessment_recommendation == 'True' else 0\n",
        "    informativeness_score = 1 if informative.assessment_recommendation == 'True' else 0\n",
        "\n",
        "    # Assign different weights to each measure\n",
        "    relevance_weight = 0.25\n",
        "    diversity_weight = 0.25\n",
        "    correctness_weight = 0.25\n",
        "    informativeness_weight = 0.25\n",
        "\n",
        "    # Combine scores with weights\n",
        "    weighted_score = (relevance_weight * relevance_score) + (diversity_weight * diversity_score) + \\\n",
        "                     (correctness_weight * correctness_score) + (informativeness_weight * informativeness_score)\n",
        "\n",
        "    return max(0, weighted_score)\n",
        "\n",
        "\n",
        "# Define your devset and kwargs here\n",
        "# Replace placeholders with your actual development dataset and any additional keyword arguments you need for evaluation\n",
        "\n",
        "kwargs = dict(display_progress=True, display_table=5)\n",
        "\n",
        "# Set up the `evaluate_on_hotpotqa` function. We'll use this many times below.\n",
        "evaluate_on_hotpotqa = Evaluate( devset = devset, num_threads=1, display_progress=True, display_table=5)\n",
        "\n",
        "# Define function to evaluate pipeline\n",
        "def evaluate_pipeline(model_name, assertion=True, bayesian=True):\n",
        "    NutritionalAdvice_predicted = NutritionalAdvicePipelineAssertions()\n",
        "\n",
        "    # Compile the pipeline with specified configurations\n",
        "    if assertion and bayesian:\n",
        "        compiled_pipeline = BayesianSignatureOptimizer(metric=metric, n=5, init_temperature=1.0).compile(NutritionalAdvice_predicted, devset=devset, optuna_trials_num=5, max_bootstrapped_demos=3, max_labeled_demos=5, eval_kwargs=kwargs)\n",
        "        config_label = \"Optimized Pipeline\"\n",
        "    elif assertion and not bayesian:\n",
        "        compiled_pipeline = NutritionalAdvice_predicted\n",
        "        config_label = \"Without Bayesian\"\n",
        "    elif not assertion and bayesian:\n",
        "        without_assertion=NutritionalAdvicePipelineAssertions(assert_on=False)\n",
        "        compiled_pipeline = BayesianSignatureOptimizer(metric=metric, n=5, init_temperature=1.0).compile(without_assertion, devset=devset, optuna_trials_num=5, max_bootstrapped_demos=3, max_labeled_demos=5, eval_kwargs=kwargs)\n",
        "        config_label = \"Without Assertion\"\n",
        "    else:\n",
        "        without_assertion_and_bayesian=NutritionalAdvicePipelineAssertions(assert_on=False)\n",
        "        compiled_pipeline = without_assertion_and_bayesian\n",
        "        config_label = \"No Assertion and No Bayesian\"\n",
        "\n",
        "    # Evaluate the compiled pipeline\n",
        "    eval_score = evaluate_on_hotpotqa(compiled_pipeline, metric=metric)\n",
        "    return eval_score, config_label\n",
        "\n",
        "\n",
        "# Run the evaluation for each configuration\n",
        "def run_ablation_study(model_name, disable_assertion=False, disable_bayesian=False):\n",
        "    scores = []\n",
        "    config_labels = []\n",
        "\n",
        "    for assertion in [True, False]:\n",
        "        if disable_assertion and not assertion:\n",
        "            continue\n",
        "        for bayesian in [True, False]:\n",
        "            if disable_bayesian and not bayesian:\n",
        "                continue\n",
        "            eval_score, config_label = evaluate_pipeline(model_name, assertion=assertion, bayesian=bayesian)\n",
        "            scores.append(eval_score)\n",
        "            config_labels.append(config_label)\n",
        "\n",
        "    return scores, config_labels\n",
        "\n",
        "def use_pipeline_as_user(model_name, query):\n",
        "    NutritionalAdvice_predicted = NutritionalAdvicePipelineAssertions()\n",
        "    result = NutritionalAdvice_predicted(query=query)\n",
        "    print(\"recommendation :\", result.recommendation)\n",
        "\n",
        "if __name__ == \"__main__\":\n",
        "    parser = argparse.ArgumentParser(description=\"Pipeline for suggesting home remedies.\")\n",
        "    parser.add_argument(\"--assertion\", type=bool, default=True, help=\"Whether to include assertion in the pipeline. Default: True\")\n",
        "    parser.add_argument(\"--bayesian\", type=bool, default=True, help=\"Whether to use Bayesian optimization. Default: True\")\n",
        "    parser.add_argument(\"--run-ablation\", action=\"store_true\", help=\"Perform an ablation study.\")\n",
        "    parser.add_argument(\"--model-name\", type=str, default=\"TheBloke/dolphin-2.6-mistral-7B-dpo-laser-AWQ\", help=\"Name of the language model. Default: TheBloke/dolphin-2.6-mistral-7B-dpo-laser-AWQ\")\n",
        "    parser.add_argument(\"--user-sentence\", type=str, help=\"sentence to use the pipeline as a user.\")\n",
        "    parser.add_argument(\"--disable-assertion\", action=\"store_true\", help=\"Disable assertion in the pipeline during ablation study.\")\n",
        "    parser.add_argument(\"--disable-bayesian\", action=\"store_true\", help=\"Disable Bayesian optimization in the pipeline during ablation study.\")\n",
        "    args = parser.parse_args()\n",
        "\n",
        "    if args.run_ablation:\n",
        "        scores, config_labels = run_ablation_study(args.model_name, disable_assertion=args.disable_assertion, disable_bayesian=args.disable_bayesian)\n",
        "        # Plotting the results\n",
        "        x = np.arange(len(config_labels))\n",
        "        plt.bar(x, scores)\n",
        "        plt.xlabel('Configuration')\n",
        "        plt.ylabel('Evaluation Score')\n",
        "        plt.title('Ablation Study Results')\n",
        "        plt.xticks(x, config_labels, rotation=45)\n",
        "        plt.tight_layout()\n",
        "        plt.show()\n",
        "    elif args.user_sentence:\n",
        "        use_pipeline_as_user(args.model_name, args.user_sentence)\n",
        "    else:\n",
        "        eval_score, config_label = evaluate_pipeline(args.model_name, assertion=args.assertion, bayesian=args.bayesian)\n",
        "        print(f\"Evaluation Score: {eval_score}, Configuration: {config_label}\")\n"
      ],
      "metadata": {
        "id": "RV7hdwgz7M2d",
        "colab": {
          "base_uri": "https://localhost:8080/"
        },
        "outputId": "2f1f377b-8d65-4d66-ab78-0c82130ba1cb"
      },
      "execution_count": 76,
      "outputs": [
        {
          "output_type": "stream",
          "name": "stdout",
          "text": [
            "Overwriting NutritionalAdvice.py\n"
          ]
        }
      ]
    },
    {
      "cell_type": "code",
      "source": [
        "!python NutritionalAdvice.py --run-ablation --disable-assertion"
      ],
      "metadata": {
        "colab": {
          "base_uri": "https://localhost:8080/"
        },
        "id": "ux0tRzCQA-cz",
        "outputId": "619395c1-2fe5-4c9e-c712-be14b0e8695f"
      },
      "execution_count": 77,
      "outputs": [
        {
          "output_type": "stream",
          "name": "stdout",
          "text": [
            " 30% 3/10 [00:43<01:40, 14.34s/it]\n",
            "Bootstrapped 3 full traces after 4 examples in round 0.\n",
            " 30% 3/10 [01:26<03:20, 28.69s/it]\n",
            "Bootstrapped 3 full traces after 4 examples in round 0.\n",
            " 30% 3/10 [01:25<03:19, 28.53s/it]\n",
            "Bootstrapped 3 full traces after 4 examples in round 0.\n",
            " 30% 3/10 [01:06<02:36, 22.29s/it]\n",
            "Bootstrapped 3 full traces after 4 examples in round 0.\n",
            "\u001b[32m[I 2024-02-20 21:32:35,054]\u001b[0m A new study created in memory with name: no-name-1019abfb-a2cd-404a-8b08-b9db0c97b269\u001b[0m\n",
            "Average Metric: 10.0 / 10  (100.0): 100% 10/10 [05:19<00:00, 31.92s/it]\n",
            "Average Metric: 10.0 / 10  (100.0%)\n",
            "/usr/local/lib/python3.10/dist-packages/dspy/evaluate/evaluate.py:142: FutureWarning: DataFrame.applymap has been deprecated. Use DataFrame.map instead.\n",
            "  df = df.applymap(truncate_cell)\n",
            "\n",
            "\n",
            "\n",
            "\n",
            "Assess the quality of the solution along the specified dimension.\n",
            "\n",
            "---\n",
            "\n",
            "Follow the following format.\n",
            "\n",
            "Assessed Text: ${assessed_text}\n",
            "\n",
            "Assessment Query: ${assessment_query}\n",
            "\n",
            "Reasoning: Let's think step by step in order to ${produce the assessment_recommendation}. We ...\n",
            "\n",
            "Assessment Recommendation: Only True or False\n",
            "\n",
            "---\n",
            "\n",
            "Assessed Text: My backyard pond is experiencing algae overgrowth. How can I adjust the fish diet to help control algae growth?\n",
            "\n",
            "Assessment Query: For this query My backyard pond is experiencing algae overgrowth. How can I adjust the fish diet to help control algae growth?, the given recommendation recommendation: Offer a high are informative. The gold recommendation is recommendation: Offer a diet with lower protein content to reduce fish waste and nutrient input into the pond. Consider adding algae-eating fish species such as koi or grass carp to help naturally control algae levels.\n",
            "\n",
            "Reasoning: Let's think step by step in order to\u001b[32m help control algae growth in a backyard pond. First, we can adjust the fish diet by offering a lower protein content. This will reduce the amount of fish waste and nutrient input into the pond, which can contribute to algae growth. Second, we can consider adding algae-eating fish species such as koi or grass carp to help naturally control algae levels. These fish species will consume the algae, reducing the overall growth and improving the overall health of the pond.\n",
            "\n",
            "Assessment Recommendation: True\u001b[0m\n",
            "\n",
            "\n",
            "\n",
            "\u001b[32m[I 2024-02-20 21:37:54,291]\u001b[0m Trial 0 finished with value: 100.0 and parameters: {'132997749036736_predictor_instruction': 1, '132997749036736_predictor_demos': 4}. Best is trial 0 with value: 100.0.\u001b[0m\n",
            "Average Metric: 8.75 / 10  (87.5): 100% 10/10 [04:16<00:00, 25.65s/it]\n",
            "Average Metric: 8.75 / 10  (87.5%)\n",
            "\n",
            "\n",
            "\n",
            "\n",
            "Assess the quality of the solution along the specified dimension.\n",
            "\n",
            "---\n",
            "\n",
            "Follow the following format.\n",
            "\n",
            "Assessed Text: ${assessed_text}\n",
            "\n",
            "Assessment Query: ${assessment_query}\n",
            "\n",
            "Reasoning: Let's think step by step in order to ${produce the assessment_recommendation}. We ...\n",
            "\n",
            "Assessment Recommendation: Only True or False\n",
            "\n",
            "---\n",
            "\n",
            "Assessed Text: My backyard pond is experiencing algae overgrowth. How can I adjust the fish diet to help control algae growth?\n",
            "\n",
            "Assessment Query: For this query My backyard pond is experiencing algae overgrowth. How can I adjust the fish diet to help control algae growth?, the given recommendation recommendation: Introduce more herbivorous fish species such as koi or goldfish that feed on algae. Monitor their population and feeding habits to maintain a balance between algae growth and consumption. --- Query: My pet rabbit's teeth are overgrown, and she's having trouble eating. How can I improve her dental health? Recommendation: recommendation: Provide plenty of fresh hay and chew toys to promote natural wear of her teeth. Offer leafy greens and vegetables high are informative. The gold recommendation is recommendation: Offer a diet with lower protein content to reduce fish waste and nutrient input into the pond. Consider adding algae-eating fish species such as koi or grass carp to help naturally control algae levels.\n",
            "\n",
            "Reasoning: Let's think step by step in order to\u001b[32m address the algae overgrowth in the backyard pond. First, we can introduce more herbivorous fish species such as koi or goldfish that feed on algae. Monitor their population and feeding habits to maintain a balance between algae growth and consumption.\n",
            "\n",
            "Assessment Recommendation: True\u001b[0m\n",
            "\n",
            "\n",
            "\n",
            "\u001b[32m[I 2024-02-20 21:42:10,774]\u001b[0m Trial 1 finished with value: 87.5 and parameters: {'132997749036736_predictor_instruction': 3, '132997749036736_predictor_demos': 2}. Best is trial 0 with value: 100.0.\u001b[0m\n",
            "Average Metric: 10.0 / 10  (100.0): 100% 10/10 [04:41<00:00, 28.16s/it]\n",
            "Average Metric: 10.0 / 10  (100.0%)\n",
            "\n",
            "\n",
            "\n",
            "\n",
            "Assess the quality of the solution along the specified dimension.\n",
            "\n",
            "---\n",
            "\n",
            "Follow the following format.\n",
            "\n",
            "Assessed Text: ${assessed_text}\n",
            "\n",
            "Assessment Query: ${assessment_query}\n",
            "\n",
            "Reasoning: Let's think step by step in order to ${produce the assessment_recommendation}. We ...\n",
            "\n",
            "Assessment Recommendation: Only True or False\n",
            "\n",
            "---\n",
            "\n",
            "Assessed Text: My backyard pond is experiencing algae overgrowth. How can I adjust the fish diet to help control algae growth?\n",
            "\n",
            "Assessment Query: For this query My backyard pond is experiencing algae overgrowth. How can I adjust the fish diet to help control algae growth?, the given recommendation To help control algae growth in your pond, you can adjust your fish's diet by feeding them a high-quality, balanced diet that meets their nutritional needs. This will help reduce the amount of waste they produce, which in turn will reduce the nutrients available for algae growth. Additionally, consider feeding your fish smaller, more frequent meals rather than one large meal, as this can also help reduce waste and nutrient levels in the water. It's also important to maintain are informative. The gold recommendation is recommendation: Offer a diet with lower protein content to reduce fish waste and nutrient input into the pond. Consider adding algae-eating fish species such as koi or grass carp to help naturally control algae levels.\n",
            "\n",
            "Reasoning: Let's think step by step in order to\u001b[32m help control algae growth in your pond, you can adjust your fish's diet by feeding them a high-quality, balanced diet that meets their nutritional needs. This will help reduce the amount of waste they produce, which in turn will reduce the nutrients available for algae growth. Additionally, consider feeding your fish smaller, more frequent meals rather than one large meal, as this can also help reduce waste and nutrient levels in the water. It's also important to maintain a clean and well-filtered pond environment to further reduce the chances of algae overgrowth.\n",
            "\n",
            "Assessment Recommendation: True\u001b[0m\n",
            "\n",
            "\n",
            "\n",
            "\u001b[32m[I 2024-02-20 21:46:52,384]\u001b[0m Trial 2 finished with value: 100.0 and parameters: {'132997749036736_predictor_instruction': 0, '132997749036736_predictor_demos': 0}. Best is trial 0 with value: 100.0.\u001b[0m\n",
            "Average Metric: 8.75 / 10  (87.5): 100% 10/10 [03:37<00:00, 21.78s/it]\n",
            "Average Metric: 8.75 / 10  (87.5%)\n",
            "\n",
            "\n",
            "\n",
            "\n",
            "Assess the quality of the solution along the specified dimension.\n",
            "\n",
            "---\n",
            "\n",
            "Follow the following format.\n",
            "\n",
            "Assessed Text: ${assessed_text}\n",
            "\n",
            "Assessment Query: ${assessment_query}\n",
            "\n",
            "Reasoning: Let's think step by step in order to ${produce the assessment_recommendation}. We ...\n",
            "\n",
            "Assessment Recommendation: Only True or False\n",
            "\n",
            "---\n",
            "\n",
            "Assessed Text: My backyard pond is experiencing algae overgrowth. How can I adjust the fish diet to help control algae growth?\n",
            "\n",
            "Assessment Query: For this query My backyard pond is experiencing algae overgrowth. How can I adjust the fish diet to help control algae growth?, the given recommendation recommendation: Feed your fish a high-quality, low-protein diet to reduce the amount of nitrogenous waste produced. Monitor water quality and implement regular water changes to reduce stress and disease risk. --- Query: My pet horse is losing weight and has a dull coat. How can I improve his overall health and appearance? Reasoning: Let's think step by step in order to improve the overall health and appearance of your pet horse. We can provide him with a balanced diet, proper exercise, and regular grooming. are informative. The gold recommendation is recommendation: Offer a diet with lower protein content to reduce fish waste and nutrient input into the pond. Consider adding algae-eating fish species such as koi or grass carp to help naturally control algae levels.\n",
            "\n",
            "Reasoning: Let's think step by step in order to\u001b[32m improve the overall health and appearance of your pet horse. We can provide him with a balanced diet, proper exercise, and regular grooming.\n",
            "\n",
            "Assessment Recommendation: True\u001b[0m\n",
            "\n",
            "\n",
            "\n",
            "\u001b[32m[I 2024-02-20 21:50:30,221]\u001b[0m Trial 3 finished with value: 87.5 and parameters: {'132997749036736_predictor_instruction': 0, '132997749036736_predictor_demos': 4}. Best is trial 0 with value: 100.0.\u001b[0m\n",
            "Average Metric: 6.5 / 10  (65.0): 100% 10/10 [03:59<00:00, 23.94s/it]\n",
            "Average Metric: 6.5 / 10  (65.0%)\n",
            "\n",
            "\n",
            "\n",
            "\n",
            "Assess the quality of the solution along the specified dimension.\n",
            "\n",
            "---\n",
            "\n",
            "Follow the following format.\n",
            "\n",
            "Assessed Text: ${assessed_text}\n",
            "\n",
            "Assessment Query: ${assessment_query}\n",
            "\n",
            "Reasoning: Let's think step by step in order to ${produce the assessment_recommendation}. We ...\n",
            "\n",
            "Assessment Recommendation: Only True or False\n",
            "\n",
            "---\n",
            "\n",
            "Assessed Text: My backyard pond is experiencing algae overgrowth. How can I adjust the fish diet to help control algae growth?\n",
            "\n",
            "Assessment Query: For this query My backyard pond is experiencing algae overgrowth. How can I adjust the fish diet to help control algae growth?, the given recommendation recommendation: Choose a high-quality fish feed that contains essential nutrients such as nitrogen, phosphorus, and potassium. Monitor the fish feed intake and adjust the feeding schedule accordingly to maintain optimal nutrient levels in the pond. --- Query: My pet bird is not eating enough. How can I entice her to eat and ensure proper nutrition? Reasoning: Let's think step by step in order to entice your pet bird to eat and ensure proper nutrition. We can try offering are informative. The gold recommendation is recommendation: Offer a diet with lower protein content to reduce fish waste and nutrient input into the pond. Consider adding algae-eating fish species such as koi or grass carp to help naturally control algae levels.\n",
            "\n",
            "Reasoning: Let's think step by step in order to\u001b[32m entice your pet bird to eat and ensure proper nutrition. We can try offering a variety of foods, including fruits, vegetables, and seeds. You can also try hand-feeding your bird or using a food dispenser to make mealtime more interactive and fun. Additionally, consult with a veterinarian or avian specialist to ensure that your bird is receiving the proper nutrients and care.\n",
            "\n",
            "Assessment Recommendation: False\u001b[0m\n",
            "\n",
            "\n",
            "\n",
            "\u001b[32m[I 2024-02-20 21:54:29,580]\u001b[0m Trial 4 finished with value: 65.0 and parameters: {'132997749036736_predictor_instruction': 3, '132997749036736_predictor_demos': 3}. Best is trial 0 with value: 100.0.\u001b[0m\n",
            "Average Metric: 10.0 / 10  (100.0): 100% 10/10 [00:00<00:00, 126.51it/s]\n",
            "Average Metric: 10.0 / 10  (100.0%)\n",
            "<pandas.io.formats.style.Styler object at 0x78f5f39672b0>\n",
            "<IPython.core.display.HTML object>\n",
            "Average Metric: 10.0 / 10  (100.0): 100% 10/10 [00:00<00:00, 122.08it/s]\n",
            "Average Metric: 10.0 / 10  (100.0%)\n",
            "/usr/local/lib/python3.10/dist-packages/dspy/evaluate/evaluate.py:142: FutureWarning: DataFrame.applymap has been deprecated. Use DataFrame.map instead.\n",
            "  df = df.applymap(truncate_cell)\n",
            "<pandas.io.formats.style.Styler object at 0x78f5f2fd8ee0>\n",
            "<IPython.core.display.HTML object>\n",
            "Figure(640x480)\n"
          ]
        }
      ]
    },
    {
      "cell_type": "code",
      "source": [
        "!python NutritionalAdvice.py --user-sentence \"my dog is losing his furs help me\""
      ],
      "metadata": {
        "colab": {
          "base_uri": "https://localhost:8080/"
        },
        "id": "JB2A__U0gO1t",
        "outputId": "55a3c6bd-613a-4dc8-fcf0-2c69a36e9333"
      },
      "execution_count": 81,
      "outputs": [
        {
          "output_type": "stream",
          "name": "stdout",
          "text": [
            "recommendation : Your dog's fur loss could be due to several factors, including diet, allergies, or underlying health issues. Here are some recommendations to help your dog regain his healthy fur:\n",
            "\n",
            "1. Evaluate your dog's diet: Ensure that your dog is receiving a balanced and complete diet that meets his nutritional needs. A high-quality dog food containing essential nutrients like proteins, fats, vitamins, and minerals is crucial for maintaining healthy skin and fur.\n",
            "\n",
            "2. Check for food allergies: Some dogs\n"
          ]
        }
      ]
    },
    {
      "cell_type": "code",
      "source": [
        "!python NutritionalAdvice.py --user-sentence \"My horse is not eating well and sick not able to run\"\n",
        "\n"
      ],
      "metadata": {
        "colab": {
          "base_uri": "https://localhost:8080/"
        },
        "id": "iTwbNGm-2220",
        "outputId": "01a9d5f8-c60c-4bdf-b33d-416a9cb84911"
      },
      "execution_count": 82,
      "outputs": [
        {
          "output_type": "stream",
          "name": "stdout",
          "text": [
            "recommendation : First, consult with your veterinarian to rule out any underlying health issues that may be causing your horse's lack of appetite and poor performance. Once you have a clear understanding of your horse's health, consider the following nutritional advice and dietary recommendations:\n",
            "\n",
            "1. Provide a balanced diet: Ensure your horse is receiving a balanced diet that meets its nutritional needs. This includes a combination of hay, grass, and grains, along with vitamins and minerals.\n",
            "\n",
            "2. Monitor water int\n"
          ]
        }
      ]
    },
    {
      "cell_type": "code",
      "source": [
        "!python NutritionalAdvice.py --user-sentence \" my cat not able to poop correctly in toilet\""
      ],
      "metadata": {
        "colab": {
          "base_uri": "https://localhost:8080/"
        },
        "id": "LmZs5-NF3oIm",
        "outputId": "d496d5eb-38ea-49a7-f9f6-ddd4ba6c6fd4"
      },
      "execution_count": 83,
      "outputs": [
        {
          "output_type": "stream",
          "name": "stdout",
          "text": [
            "recommendation : To help your cat poop correctly in the toilet, you should first consult with your veterinarian to rule out any underlying health issues. Once you have confirmed that your cat is healthy, you can start making changes to their diet and litter box habits.\n",
            "\n",
            "1. Gradually transition your cat's diet to a high-fiber, low-fat food. This can help regulate their bowel movements and make it easier for them to poop in the toilet.\n",
            "\n",
            "2. Place the litter box near the toilet and gradually move it\n"
          ]
        }
      ]
    },
    {
      "cell_type": "code",
      "source": [
        "# Training dataset\n",
        "train = [\n",
        "    (\"My cow seems to be losing weight and producing less milk. What should I feed her to improve her condition?\",\n",
        "     \"Recommendation: Provide a balanced diet rich in green fodder, protein supplements, and minerals such as calcium and phosphorus. Monitor her body condition and consult with a veterinarian for further evaluation if needed.\"),\n",
        "\n",
        "    (\"My goat herd is showing signs of poor growth and low energy levels. How can I improve their health and productivity?\",\n",
        "     \"Recommendation: Offer a diet consisting of high-quality hay, grains, and protein-rich supplements to support growth and energy requirements. Ensure access to clean water and shelter from harsh weather conditions.\"),\n",
        "\n",
        "    (\"My chicken flock is experiencing a drop in egg production. What dietary changes can I make to boost their egg-laying performance?\",\n",
        "     \"Recommendation: Provide a balanced diet with layers pellets containing essential nutrients like calcium and protein. Supplement with calcium-rich foods such as oyster shells and ensure access to fresh water and clean nesting boxes.\"),\n",
        "\n",
        "    (\"My fish are showing signs of stress and poor growth in the pond. How can I improve their health and growth rate?\",\n",
        "     \"Recommendation: Optimize pond water quality by maintaining proper oxygen levels, pH balance, and temperature. Offer a balanced diet with high-quality fish feed containing essential nutrients. Monitor water parameters regularly and adjust feeding regimen accordingly.\"),\n",
        "\n",
        "    (\"My dog has allergies and digestive issues. What dietary adjustments can I make to alleviate his symptoms?\",\n",
        "     \"Recommendation: Transition to a hypoallergenic dog food formula with limited ingredients and novel protein sources. Avoid common allergens such as wheat, corn, and soy. Monitor for improvements in digestion and consult with a veterinarian for additional guidance.\"),\n",
        "\n",
        "    (\"My cat is overweight and inactive. How can I help her lose weight and stay healthy?\",\n",
        "     \"Recommendation: Implement portion control by measuring out daily food rations and feeding smaller, more frequent meals. Choose a weight management cat food formula with reduced calorie content. Encourage regular exercise through interactive play and environmental enrichment.\"),\n",
        "\n",
        "    (\"My horse is prone to colic and digestive issues. What dietary changes can I make to prevent these problems?\",\n",
        "     \"Recommendation: Provide a diet consisting of high-quality forage such as grass hay or pasture, supplemented with a low-starch, high-fiber concentrate feed. Offer plenty of clean water and implement a regular deworming and dental care schedule.\"),\n",
        "\n",
        "    (\"My sheep are grazing on poor-quality pasture and have rough coats. How can I improve their nutrition and coat condition?\",\n",
        "     \"Recommendation: Supplement grazing with high-quality hay or forage and provide access to mineral blocks containing essential trace minerals. Monitor for signs of nutritional deficiencies such as poor coat quality and consult with a veterinarian for dietary adjustments.\"),\n",
        "\n",
        "    (\"My poultry birds are exhibiting signs of vitamin deficiencies. What dietary supplements can I provide to address this?\",\n",
        "     \"Recommendation: Offer vitamin supplements in their water or feed, especially those containing vitamins A, D, and E, which are essential for poultry health and productivity. Ensure access to fresh greens and forage to support natural vitamin intake.\"),\n",
        "\n",
        "    (\"My aquarium fish are prone to swim bladder issues. What dietary changes can I make to prevent this?\",\n",
        "     \"Recommendation: Offer a varied diet consisting of high-quality fish flakes, pellets, and live or frozen foods. Avoid overfeeding and provide sinking foods for bottom-dwelling fish. Monitor fish behavior and adjust feeding regimen accordingly.\"),\n",
        "]\n",
        "\n",
        "# Development dataset\n",
        "devset = [\n",
        "    (\"My pet rabbit's teeth are overgrown, and she's having trouble eating. How can I improve her dental health?\",\n",
        "     \"Recommendation: Provide plenty of fresh hay and chew toys to promote natural wear of her teeth. Offer leafy greens and vegetables high in fiber to aid in digestion. Monitor her teeth regularly and consult with a veterinarian for dental trimming if necessary.\"),\n",
        "\n",
        "    (\"My backyard chickens are laying thin-shelled eggs. What dietary changes can I make to improve egg quality?\",\n",
        "     \"Recommendation: Supplement their diet with calcium sources such as crushed eggshells or oyster shells to support eggshell formation. Ensure adequate protein intake and provide access to clean nesting boxes and stress-free environment.\"),\n",
        "\n",
        "    (\"My pet turtle has soft shell and weak bones. How can I improve his calcium intake and overall health?\",\n",
        "     \"Recommendation: Offer calcium-rich foods such as cuttlebone, snails, or commercially available turtle calcium supplements. Provide proper UVB lighting for calcium absorption and monitor his shell condition regularly.\"),\n",
        "\n",
        "    (\"My cattle are experiencing bloating and digestive discomfort. What dietary adjustments can I make to prevent bloat?\",\n",
        "     \"Recommendation: Implement a gradual transition to high-fiber diets to prevent sudden changes in rumen pH. Offer free-choice access to fresh water and ensure proper management of high-risk feeds such as grains and legumes.\"),\n",
        "\n",
        "    (\"My pet parrot is plucking his feathers and seems stressed. How can I improve his emotional well-being through diet?\",\n",
        "     \"Recommendation: Offer a balanced diet with plenty of fresh fruits, vegetables, and seeds to support overall health and immune function. Provide enrichment activities such as toys, foraging opportunities, and social interaction to reduce stress.\"),\n",
        "\n",
        "    (\"My aquaponics system is experiencing nutrient deficiencies. How can I adjust the fish feed to address this?\",\n",
        "     \"Recommendation: Evaluate the fish feed formulation to ensure it provides adequate nutrients for both fish and plants. Consider supplementing with organic fertilizers or nutrient additives to maintain optimal nutrient levels in the aquaponic system.\"),\n",
        "\n",
        "    (\"My pet snake is refusing to eat. How can I entice him to eat and ensure proper nutrition?\",\n",
        "     \"Recommendation: Offer appropriately sized prey items and try scenting with prey attractants such as fish oil or chicken broth. Ensure proper husbandry conditions such as temperature, humidity, and enclosure size to promote feeding response.\"),\n",
        "\n",
        "    (\"My backyard pond fish are experiencing fin rot and skin lesions. What dietary changes can I make to support their immune system?\",\n",
        "     \"Recommendation: Offer a balanced diet with immune-boosting ingredients such as garlic and vitamin supplements. Monitor water quality and implement regular water changes to reduce stress and disease risk.\"),\n",
        "\n",
        "    (\"My pet ferret is losing fur and seems lethargic. How can I improve his coat condition and energy levels?\",\n",
        "     \"Recommendation: Provide a balanced diet with high-quality ferret kibble and occasional treats such as cooked meats or eggs. Ensure plenty of opportunities for exercise and mental stimulation through interactive play and enrichment activities.\"),\n",
        "\n",
        "    (\"My backyard pond is experiencing algae overgrowth. How can I adjust the fish diet to help control algae growth?\",\n",
        "     \"Recommendation: Offer a diet with lower protein content to reduce fish waste and nutrient input into the pond. Consider adding algae-eating fish species such as koi or grass carp to help naturally control algae levels.\"),\n",
        "]\n",
        "\n",
        "# Convert the dataset into DSPy Examples\n",
        "train = [dspy.Example(sentence=sentence, sentiment=sentiment).with_inputs('sentence') for sentence, sentiment in train]\n",
        "devset = [dspy.Example(sentence=sentence, sentiment=sentiment).with_inputs('sentence') for sentence, sentiment in devset]\n",
        "\n",
        "# Print the lengths of trainset and devset\n",
        "#print(len(train), len(devset))\n",
        "\n",
        "# Access an example from trainset and devset\n",
        "train_example = train[0]\n",
        "dev_example = devset[0]\n",
        "# print(train_example.sentence)\n"
      ],
      "metadata": {
        "id": "uSzwvO4-a-9u"
      },
      "execution_count": 19,
      "outputs": []
    },
    {
      "cell_type": "code",
      "source": [
        "from dspy.teleprompt import BayesianSignatureOptimizer\n",
        "from dspy.evaluate.evaluate import Evaluate\n",
        "\n",
        "\n",
        "def should_be_correct(sen, set):\n",
        "  check=dspy.ChainOfThought(\"sentence -> sentiment\", n = 5)\n",
        "  result=check(sentence=f\"Is this {set}; a correct sentiment for {sen}. Return 0 for False and 1 for True.\")\n",
        "  if result.sentiment==0:\n",
        "    return False\n",
        "  else:\n",
        "    return True\n",
        "\n",
        "class Emotion(dspy.Signature):\n",
        "    \"\"\"Classify emotion among sadness, joy, love, anger, fear, surprise.\"\"\"\n",
        "\n",
        "    sentence = dspy.InputField(desc = \"Input sentence\")\n",
        "    sentiment = dspy.OutputField(desc = \"Predicted Emotion in word\")\n",
        "\n",
        "\n",
        "class EmotionPipelineAssertions(dspy.Module):\n",
        "    def __init__(self, assert_on=True):\n",
        "        super().__init__()\n",
        "        self.assert_on = assert_on\n",
        "        self.Emotion_predicted = dspy.ChainOfThought(Emotion)\n",
        "\n",
        "    def forward(self, sentence, **kwargs):\n",
        "        predicted_Sentiment = self.Emotion_predicted(sentence=sentence)\n",
        "\n",
        "        if self.assert_on:\n",
        "            dspy.Suggest(\n",
        "                should_be_correct(sentence, predicted_Sentiment),\n",
        "                \"Emotion is correct.\",\n",
        "                target_module=Emotion\n",
        "            )\n",
        "\n",
        "        return predicted_Sentiment\n",
        "\n",
        "\n",
        "class Assess(dspy.Signature):\n",
        "    \"\"\"Assess the quality of the solution along the specified dimension.\"\"\"\n",
        "\n",
        "    assessed_text = dspy.InputField()\n",
        "    assessment_sentence = dspy.InputField()\n",
        "    assessment_sentiment = dspy.OutputField(desc=\"Only True or False\")\n",
        "\n",
        "\n",
        "def metric(gold, pred, trace=None):\n",
        "    sentence, sentiment, emos = gold.sentence, gold.sentiment, pred.sentiment\n",
        "\n",
        "    correctness = f\"The given emos{emos} will be effective for this sentence {sentence}. The gold sentiment is {sentiment}\"\n",
        "    informative = f\"For this sentence {sentence} is the given {emos} informative. The gold sentiment is {sentiment}\"\n",
        "\n",
        "    correct = dspy.ChainOfThought(Assess)(assessed_text=sentence, assessment_sentence=correctness)\n",
        "    informative = dspy.ChainOfThought(Assess)(assessed_text=sentence, assessment_sentence=informative)\n",
        "\n",
        "    correctness_score = correct.assessment_sentiment\n",
        "    info_score = informative.assessment_sentiment\n",
        "    score = 0\n",
        "\n",
        "    if correctness_score == \"True\":\n",
        "        score += 1\n",
        "\n",
        "    if info_score == \"True\":\n",
        "        score += 1\n",
        "\n",
        "    return score / 2.0\n",
        "\n",
        "\n",
        "Emotion=EmotionPipelineAssertions()\n",
        "teleprompter = BayesianSignatureOptimizer( metric=metric, n=5, init_temperature=1.0)\n",
        "kwargs = dict( display_progress=True, display_table=0)\n",
        "compiled_prompt_opt = teleprompter.compile(Emotion, devset = devset, optuna_trials_num=5, max_bootstrapped_demos=3, max_labeled_demos=5, eval_kwargs=kwargs)\n",
        "\n",
        "\n",
        "\n",
        "# Set up the `evaluate_on_hotpotqa` function. We'll use this many times below.\n",
        "evaluate_on_hotpotqa = Evaluate(devset=devset, num_threads=1, display_progress=True, display_table=5)\n",
        "\n",
        "evaluate_on_hotpotqa(Emotion, metric=metric) #normal\n",
        "evaluate_on_hotpotqa(compiled_prompt_opt, metric=metric) #after optimizer"
      ],
      "metadata": {
        "colab": {
          "base_uri": "https://localhost:8080/",
          "height": 1000
        },
        "id": "OprQL2ptUagy",
        "outputId": "ff11916f-8461-48dc-b84d-e0129e9d5b8e"
      },
      "execution_count": null,
      "outputs": [
        {
          "output_type": "stream",
          "name": "stderr",
          "text": [
            " 30%|███       | 3/10 [00:57<02:13, 19.13s/it]\n"
          ]
        },
        {
          "output_type": "stream",
          "name": "stdout",
          "text": [
            "Bootstrapped 3 full traces after 4 examples in round 0.\n"
          ]
        },
        {
          "output_type": "stream",
          "name": "stderr",
          "text": [
            " 30%|███       | 3/10 [01:03<02:28, 21.20s/it]\n"
          ]
        },
        {
          "output_type": "stream",
          "name": "stdout",
          "text": [
            "Bootstrapped 3 full traces after 4 examples in round 0.\n"
          ]
        },
        {
          "output_type": "stream",
          "name": "stderr",
          "text": [
            " 30%|███       | 3/10 [01:02<02:26, 20.90s/it]\n"
          ]
        },
        {
          "output_type": "stream",
          "name": "stdout",
          "text": [
            "Bootstrapped 3 full traces after 4 examples in round 0.\n"
          ]
        },
        {
          "output_type": "stream",
          "name": "stderr",
          "text": [
            " 30%|███       | 3/10 [01:03<02:27, 21.06s/it]\n"
          ]
        },
        {
          "output_type": "stream",
          "name": "stdout",
          "text": [
            "Bootstrapped 3 full traces after 4 examples in round 0.\n"
          ]
        },
        {
          "output_type": "stream",
          "name": "stderr",
          "text": [
            "[I 2024-02-20 19:58:51,066] A new study created in memory with name: no-name-138aca9d-9c18-4628-ac94-a37b5488ff27\n",
            "Average Metric: 10.0 / 10  (100.0): 100%|██████████| 10/10 [04:02<00:00, 24.30s/it]\n",
            "/usr/local/lib/python3.10/dist-packages/dspy/evaluate/evaluate.py:142: FutureWarning: DataFrame.applymap has been deprecated. Use DataFrame.map instead.\n",
            "  df = df.applymap(truncate_cell)\n",
            "[I 2024-02-20 20:02:54,080] Trial 0 finished with value: 100.0 and parameters: {'134144255258160_predictor_instruction': 1, '134144255258160_predictor_demos': 4}. Best is trial 0 with value: 100.0.\n"
          ]
        },
        {
          "output_type": "stream",
          "name": "stdout",
          "text": [
            "Average Metric: 10.0 / 10  (100.0%)\n",
            "\n",
            "\n",
            "\n",
            "\n",
            "Assess the quality of the solution along the specified dimension.\n",
            "\n",
            "---\n",
            "\n",
            "Follow the following format.\n",
            "\n",
            "Assessed Text: ${assessed_text}\n",
            "\n",
            "Assessment Sentence: ${assessment_sentence}\n",
            "\n",
            "Reasoning: Let's think step by step in order to ${produce the assessment_sentiment}. We ...\n",
            "\n",
            "Assessment Sentiment: Only True or False\n",
            "\n",
            "---\n",
            "\n",
            "Assessed Text: My backyard pond is experiencing algae overgrowth. How can I adjust the fish diet to help control algae growth?\n",
            "\n",
            "Assessment Sentence: For this sentence My backyard pond is experiencing algae overgrowth. How can I adjust the fish diet to help control algae growth? is the given Recommendation: Offer a balanced diet with immune-boosting ingredients such as garlic and vitamin supplements. Monitor water quality and implement regular water changes to reduce stress and disease risk. Additionally, consider introducing natural algae-eating organisms such as certain species of fish or aquatic plants to help control algae growth. informative. The gold sentiment is Recommendation: Offer a diet with lower protein content to reduce fish waste and nutrient input into the pond. Consider adding algae-eating fish species such as koi or grass carp to help naturally control algae levels.\n",
            "\n",
            "Reasoning: Let's think step by step in order to help control algae growth in a backyard pond. First, we can adjust the fish diet by offering a balanced diet with immune-boosting ingredients such as garlic and vitamin supplements. This can help improve the overall health of the fish and reduce the risk of disease, which can contribute to algae overgrowth. Second, we can monitor water quality and implement regular water changes to reduce stress and disease risk. This can help maintain a healthy environment for the fish and reduce the likelihood of algae overgrowth. Finally, we can consider introducing natural algae-eating organisms such as certain species of fish or aquatic plants to help control algae growth. This can provide a natural and sustainable\n",
            "\n",
            "Assessment Sentiment:\u001b[32m True\u001b[0m\n",
            "\n",
            "\n",
            "\n"
          ]
        },
        {
          "output_type": "stream",
          "name": "stderr",
          "text": [
            "Average Metric: 9.5 / 10  (95.0): 100%|██████████| 10/10 [03:34<00:00, 21.46s/it]\n",
            "[I 2024-02-20 20:06:28,695] Trial 1 finished with value: 95.0 and parameters: {'134144255258160_predictor_instruction': 3, '134144255258160_predictor_demos': 2}. Best is trial 0 with value: 100.0.\n"
          ]
        },
        {
          "output_type": "stream",
          "name": "stdout",
          "text": [
            "Average Metric: 9.5 / 10  (95.0%)\n",
            "\n",
            "\n",
            "\n",
            "\n",
            "Assess the quality of the solution along the specified dimension.\n",
            "\n",
            "---\n",
            "\n",
            "Follow the following format.\n",
            "\n",
            "Assessed Text: ${assessed_text}\n",
            "\n",
            "Assessment Sentence: ${assessment_sentence}\n",
            "\n",
            "Reasoning: Let's think step by step in order to ${produce the assessment_sentiment}. We ...\n",
            "\n",
            "Assessment Sentiment: Only True or False\n",
            "\n",
            "---\n",
            "\n",
            "Assessed Text: My backyard pond is experiencing algae overgrowth. How can I adjust the fish diet to help control algae growth?\n",
            "\n",
            "Assessment Sentence: For this sentence My backyard pond is experiencing algae overgrowth. How can I adjust the fish diet to help control algae growth? is the given Recommendation: Introduce algae-eating fish species such as common plecos or koi carp to help control algae growth. Monitor their population and feeding habits to maintain a balanced ecosystem. informative. The gold sentiment is Recommendation: Offer a diet with lower protein content to reduce fish waste and nutrient input into the pond. Consider adding algae-eating fish species such as koi or grass carp to help naturally control algae levels.\n",
            "\n",
            "Reasoning: Let's think step by step in order to help control algae growth in a backyard pond. First, we can introduce algae-eating fish species such as common plecos or koi carp to help control algae growth. Monitoring their population and feeding habits will help maintain a balanced ecosystem. Second, we can offer a diet with lower protein content to reduce fish waste and nutrient input into the pond. This will also help control algae growth. Therefore, the solution is informative and provides a comprehensive approach to addressing the issue of algae overgrowth in a backyard pond.\n",
            "\n",
            "Assessment Sentiment:\u001b[32m True\u001b[0m\n",
            "\n",
            "\n",
            "\n"
          ]
        },
        {
          "output_type": "stream",
          "name": "stderr",
          "text": [
            "Average Metric: 6.5 / 10  (65.0): 100%|██████████| 10/10 [02:38<00:00, 15.83s/it]\n",
            "[I 2024-02-20 20:09:07,029] Trial 2 finished with value: 65.0 and parameters: {'134144255258160_predictor_instruction': 0, '134144255258160_predictor_demos': 0}. Best is trial 0 with value: 100.0.\n"
          ]
        },
        {
          "output_type": "stream",
          "name": "stdout",
          "text": [
            "Average Metric: 6.5 / 10  (65.0%)\n",
            "\n",
            "\n",
            "\n",
            "\n",
            "Assess the quality of the solution along the specified dimension.\n",
            "\n",
            "---\n",
            "\n",
            "Follow the following format.\n",
            "\n",
            "Assessed Text: ${assessed_text}\n",
            "\n",
            "Assessment Sentence: ${assessment_sentence}\n",
            "\n",
            "Reasoning: Let's think step by step in order to ${produce the assessment_sentiment}. We ...\n",
            "\n",
            "Assessment Sentiment: Only True or False\n",
            "\n",
            "---\n",
            "\n",
            "Assessed Text: My backyard pond is experiencing algae overgrowth. How can I adjust the fish diet to help control algae growth?\n",
            "\n",
            "Assessment Sentence: For this sentence My backyard pond is experiencing algae overgrowth. How can I adjust the fish diet to help control algae growth? is the given Neutral Sentence: I can't believe I just won the lottery! Reasoning: Let's think step by step in order to celebrate this win. We can feel immense joy and excitement at this unexpected windfall. Sentiment: Joy Sentence: My boss just yelled at me in front of everyone. Reasoning: Let's think step by step in order to handle this situation. We can feel anger and frustration at being publicly humiliated and criticized. Sentiment: Anger informative. The gold sentiment is Recommendation: Offer a diet with lower protein content to reduce fish waste and nutrient input into the pond. Consider adding algae-eating fish species such as koi or grass carp to help naturally control algae levels.\n",
            "\n",
            "Reasoning: Let's think step by step in order to\u001b[32m adjust the fish diet to help control algae growth. We can reduce the amount of protein in the fish's diet, which will decrease the amount of waste they produce. This waste can contribute to nutrient input into the pond, which can lead to algae growth. Additionally, we can introduce algae-eating fish species to the pond, which can help naturally control algae levels.\n",
            "\n",
            "Assessment Sentiment: True\u001b[0m\n",
            "\n",
            "\n",
            "\n"
          ]
        },
        {
          "output_type": "stream",
          "name": "stderr",
          "text": [
            "Average Metric: 9.0 / 10  (90.0): 100%|██████████| 10/10 [02:57<00:00, 17.71s/it]\n",
            "[I 2024-02-20 20:12:04,131] Trial 3 finished with value: 90.0 and parameters: {'134144255258160_predictor_instruction': 0, '134144255258160_predictor_demos': 4}. Best is trial 0 with value: 100.0.\n"
          ]
        },
        {
          "output_type": "stream",
          "name": "stdout",
          "text": [
            "Average Metric: 9.0 / 10  (90.0%)\n",
            "\n",
            "\n",
            "\n",
            "\n",
            "Assess the quality of the solution along the specified dimension.\n",
            "\n",
            "---\n",
            "\n",
            "Follow the following format.\n",
            "\n",
            "Assessed Text: ${assessed_text}\n",
            "\n",
            "Assessment Sentence: ${assessment_sentence}\n",
            "\n",
            "Reasoning: Let's think step by step in order to ${produce the assessment_sentiment}. We ...\n",
            "\n",
            "Assessment Sentiment: Only True or False\n",
            "\n",
            "---\n",
            "\n",
            "Assessed Text: My backyard pond is experiencing algae overgrowth. How can I adjust the fish diet to help control algae growth?\n",
            "\n",
            "Assessment Sentence: For this sentence My backyard pond is experiencing algae overgrowth. How can I adjust the fish diet to help control algae growth? is the given Recommendation: Implement a balanced diet for your fish that reduces excess nutrients in the pond. Monitor water quality and consult with a pond specialist for professional advice on managing algae growth. --- Sentence: My pet snake is not eating and seems lethargic. How can I encourage him to eat and regain his energy? Reasoning: Let's think step by step in order to encourage him informative. The gold sentiment is Recommendation: Offer a diet with lower protein content to reduce fish waste and nutrient input into the pond. Consider adding algae-eating fish species such as koi or grass carp to help naturally control algae levels.\n",
            "\n",
            "Reasoning: Let's think step by step in order to\u001b[32m encourage him to eat and regain his energy. First, we need to identify the cause of the snake's lethargy. It could be due to stress, illness, or a lack of appetite. If the snake is not eating, it's essential to consult with a veterinarian to determine the underlying cause. Once the cause is identified, we can recommend a course of action to encourage the snake to eat and regain its energy.\n",
            "\n",
            "Assessment Sentiment: False\u001b[0m\n",
            "\n",
            "\n",
            "\n"
          ]
        },
        {
          "output_type": "stream",
          "name": "stderr",
          "text": [
            "Average Metric: 10.0 / 10  (100.0): 100%|██████████| 10/10 [03:32<00:00, 21.29s/it]\n",
            "[I 2024-02-20 20:15:37,019] Trial 4 finished with value: 100.0 and parameters: {'134144255258160_predictor_instruction': 3, '134144255258160_predictor_demos': 3}. Best is trial 0 with value: 100.0.\n"
          ]
        },
        {
          "output_type": "stream",
          "name": "stdout",
          "text": [
            "Average Metric: 10.0 / 10  (100.0%)\n",
            "\n",
            "\n",
            "\n",
            "\n",
            "Assess the quality of the solution along the specified dimension.\n",
            "\n",
            "---\n",
            "\n",
            "Follow the following format.\n",
            "\n",
            "Assessed Text: ${assessed_text}\n",
            "\n",
            "Assessment Sentence: ${assessment_sentence}\n",
            "\n",
            "Reasoning: Let's think step by step in order to ${produce the assessment_sentiment}. We ...\n",
            "\n",
            "Assessment Sentiment: Only True or False\n",
            "\n",
            "---\n",
            "\n",
            "Assessed Text: My backyard pond is experiencing algae overgrowth. How can I adjust the fish diet to help control algae growth?\n",
            "\n",
            "Assessment Sentence: For this sentence My backyard pond is experiencing algae overgrowth. How can I adjust the fish diet to help control algae growth? is the given Recommendation: Choose a high-quality fish feed that contains the appropriate balance of nutrients for both the fish and the pond ecosystem. Monitor the pond regularly to ensure optimal water quality and make adjustments as needed. Additionally, consider adding beneficial bacteria or other natural algae control methods to help maintain a healthy balance in the pond. informative. The gold sentiment is Recommendation: Offer a diet with lower protein content to reduce fish waste and nutrient input into the pond. Consider adding algae-eating fish species such as koi or grass carp to help naturally control algae levels.\n",
            "\n",
            "Reasoning: Let's think step by step in order to help control algae growth in a backyard pond. First, we can adjust the fish diet to help control algae growth. We can choose a high-quality fish feed that contains the appropriate balance of nutrients for both the fish and the pond ecosystem. Monitoring the pond regularly to ensure optimal water quality and making adjustments as needed is also important. Additionally, we can consider adding beneficial bacteria or other natural algae control methods to help maintain a healthy balance in the pond. Offering a diet with lower protein content to reduce fish waste and nutrient input into the pond is another option. Considering adding algae-eating fish species such as koi or grass carp to help\n",
            "\n",
            "Assessment Sentiment:\u001b[32m True\u001b[0m\n",
            "\n",
            "\n",
            "\n"
          ]
        },
        {
          "output_type": "stream",
          "name": "stderr",
          "text": [
            "Average Metric: 6.5 / 10  (65.0): 100%|██████████| 10/10 [00:00<00:00, 107.06it/s]"
          ]
        },
        {
          "output_type": "stream",
          "name": "stdout",
          "text": [
            "Average Metric: 6.5 / 10  (65.0%)\n"
          ]
        },
        {
          "output_type": "stream",
          "name": "stderr",
          "text": [
            "\n"
          ]
        },
        {
          "output_type": "display_data",
          "data": {
            "text/plain": [
              "<pandas.io.formats.style.Styler at 0x7a00e57405b0>"
            ],
            "text/html": [
              "<style type=\"text/css\">\n",
              "#T_c433c th {\n",
              "  text-align: left;\n",
              "}\n",
              "#T_c433c td {\n",
              "  text-align: left;\n",
              "}\n",
              "#T_c433c_row0_col0, #T_c433c_row0_col1, #T_c433c_row0_col2, #T_c433c_row0_col3, #T_c433c_row0_col4, #T_c433c_row1_col0, #T_c433c_row1_col1, #T_c433c_row1_col2, #T_c433c_row1_col3, #T_c433c_row1_col4, #T_c433c_row2_col0, #T_c433c_row2_col1, #T_c433c_row2_col2, #T_c433c_row2_col3, #T_c433c_row2_col4, #T_c433c_row3_col0, #T_c433c_row3_col1, #T_c433c_row3_col2, #T_c433c_row3_col3, #T_c433c_row3_col4, #T_c433c_row4_col0, #T_c433c_row4_col1, #T_c433c_row4_col2, #T_c433c_row4_col3, #T_c433c_row4_col4 {\n",
              "  text-align: left;\n",
              "  white-space: pre-wrap;\n",
              "  word-wrap: break-word;\n",
              "  max-width: 400px;\n",
              "}\n",
              "</style>\n",
              "<table id=\"T_c433c\" class=\"dataframe\">\n",
              "  <thead>\n",
              "    <tr>\n",
              "      <th class=\"blank level0\" >&nbsp;</th>\n",
              "      <th id=\"T_c433c_level0_col0\" class=\"col_heading level0 col0\" >sentence</th>\n",
              "      <th id=\"T_c433c_level0_col1\" class=\"col_heading level0 col1\" >example_sentiment</th>\n",
              "      <th id=\"T_c433c_level0_col2\" class=\"col_heading level0 col2\" >rationale</th>\n",
              "      <th id=\"T_c433c_level0_col3\" class=\"col_heading level0 col3\" >pred_sentiment</th>\n",
              "      <th id=\"T_c433c_level0_col4\" class=\"col_heading level0 col4\" >metric</th>\n",
              "    </tr>\n",
              "  </thead>\n",
              "  <tbody>\n",
              "    <tr>\n",
              "      <th id=\"T_c433c_level0_row0\" class=\"row_heading level0 row0\" >0</th>\n",
              "      <td id=\"T_c433c_row0_col0\" class=\"data row0 col0\" >My pet rabbit's teeth are overgrown, and she's having trouble eating. How can I improve her dental health?</td>\n",
              "      <td id=\"T_c433c_row0_col1\" class=\"data row0 col1\" >Recommendation: Provide plenty of fresh hay and chew toys to promote natural wear of her teeth. Offer leafy greens and vegetables high in fiber to...</td>\n",
              "      <td id=\"T_c433c_row0_col2\" class=\"data row0 col2\" >improve her dental health. We can take her to a vet, who can trim her teeth.</td>\n",
              "      <td id=\"T_c433c_row0_col3\" class=\"data row0 col3\" >Sadness Sentence: I just got a promotion at work! I'm so excited to take on new responsibilities and challenges. Reasoning: Let's think step by step...</td>\n",
              "      <td id=\"T_c433c_row0_col4\" class=\"data row0 col4\" >1.0</td>\n",
              "    </tr>\n",
              "    <tr>\n",
              "      <th id=\"T_c433c_level0_row1\" class=\"row_heading level0 row1\" >1</th>\n",
              "      <td id=\"T_c433c_row1_col0\" class=\"data row1 col0\" >My backyard chickens are laying thin-shelled eggs. What dietary changes can I make to improve egg quality?</td>\n",
              "      <td id=\"T_c433c_row1_col1\" class=\"data row1 col1\" >Recommendation: Supplement their diet with calcium sources such as crushed eggshells or oyster shells to support eggshell formation. Ensure adequate protein intake and provide access...</td>\n",
              "      <td id=\"T_c433c_row1_col2\" class=\"data row1 col2\" >improve the egg quality. We can research about the dietary changes that can be made for the chickens.</td>\n",
              "      <td id=\"T_c433c_row1_col3\" class=\"data row1 col3\" >Neutral Sentence: I can't believe I finally got accepted into my dream college! Reasoning: Let's think step by step in order to celebrate this achievement....</td>\n",
              "      <td id=\"T_c433c_row1_col4\" class=\"data row1 col4\" >0.0</td>\n",
              "    </tr>\n",
              "    <tr>\n",
              "      <th id=\"T_c433c_level0_row2\" class=\"row_heading level0 row2\" >2</th>\n",
              "      <td id=\"T_c433c_row2_col0\" class=\"data row2 col0\" >My pet turtle has soft shell and weak bones. How can I improve his calcium intake and overall health?</td>\n",
              "      <td id=\"T_c433c_row2_col1\" class=\"data row2 col1\" >Recommendation: Offer calcium-rich foods such as cuttlebone, snails, or commercially available turtle calcium supplements. Provide proper UVB lighting for calcium absorption and monitor his shell...</td>\n",
              "      <td id=\"T_c433c_row2_col2\" class=\"data row2 col2\" >improve the turtle's health. We can research about the right diet for turtles, provide a proper habitat, and consult a veterinarian if needed.</td>\n",
              "      <td id=\"T_c433c_row2_col3\" class=\"data row2 col3\" >Concern (Fear)</td>\n",
              "      <td id=\"T_c433c_row2_col4\" class=\"data row2 col4\" >1.0</td>\n",
              "    </tr>\n",
              "    <tr>\n",
              "      <th id=\"T_c433c_level0_row3\" class=\"row_heading level0 row3\" >3</th>\n",
              "      <td id=\"T_c433c_row3_col0\" class=\"data row3 col0\" >My cattle are experiencing bloating and digestive discomfort. What dietary adjustments can I make to prevent bloat?</td>\n",
              "      <td id=\"T_c433c_row3_col1\" class=\"data row3 col1\" >Recommendation: Implement a gradual transition to high-fiber diets to prevent sudden changes in rumen pH. Offer free-choice access to fresh water and ensure proper management...</td>\n",
              "      <td id=\"T_c433c_row3_col2\" class=\"data row3 col2\" >prevent bloat. We need to identify the cause of bloating and adjust the diet accordingly.</td>\n",
              "      <td id=\"T_c433c_row3_col3\" class=\"data row3 col3\" >Sadness Sentence: I just got a promotion at work! I'm so excited to take on this new role. Reasoning: Let's think step by step in...</td>\n",
              "      <td id=\"T_c433c_row3_col4\" class=\"data row3 col4\" >0.0</td>\n",
              "    </tr>\n",
              "    <tr>\n",
              "      <th id=\"T_c433c_level0_row4\" class=\"row_heading level0 row4\" >4</th>\n",
              "      <td id=\"T_c433c_row4_col0\" class=\"data row4 col0\" >My pet parrot is plucking his feathers and seems stressed. How can I improve his emotional well-being through diet?</td>\n",
              "      <td id=\"T_c433c_row4_col1\" class=\"data row4 col1\" >Recommendation: Offer a balanced diet with plenty of fresh fruits, vegetables, and seeds to support overall health and immune function. Provide enrichment activities such as...</td>\n",
              "      <td id=\"T_c433c_row4_col2\" class=\"data row4 col2\" >improve the pet parrot's emotional well-being. We can start by researching the best diet for parrots, which includes a variety of fruits, vegetables, and nuts....</td>\n",
              "      <td id=\"T_c433c_row4_col3\" class=\"data row4 col3\" >Love</td>\n",
              "      <td id=\"T_c433c_row4_col4\" class=\"data row4 col4\" >1.0</td>\n",
              "    </tr>\n",
              "  </tbody>\n",
              "</table>\n"
            ]
          },
          "metadata": {}
        },
        {
          "output_type": "display_data",
          "data": {
            "text/plain": [
              "<IPython.core.display.HTML object>"
            ],
            "text/html": [
              "\n",
              "                <div style='\n",
              "                    text-align: center; \n",
              "                    font-size: 16px; \n",
              "                    font-weight: bold; \n",
              "                    color: #555; \n",
              "                    margin: 10px 0;'>\n",
              "                    ... 5 more rows not displayed ...\n",
              "                </div>\n",
              "                "
            ]
          },
          "metadata": {}
        },
        {
          "output_type": "stream",
          "name": "stderr",
          "text": [
            "Average Metric: 10.0 / 10  (100.0): 100%|██████████| 10/10 [00:00<00:00, 106.25it/s]"
          ]
        },
        {
          "output_type": "stream",
          "name": "stdout",
          "text": [
            "Average Metric: 10.0 / 10  (100.0%)\n"
          ]
        },
        {
          "output_type": "stream",
          "name": "stderr",
          "text": [
            "\n",
            "/usr/local/lib/python3.10/dist-packages/dspy/evaluate/evaluate.py:142: FutureWarning: DataFrame.applymap has been deprecated. Use DataFrame.map instead.\n",
            "  df = df.applymap(truncate_cell)\n"
          ]
        },
        {
          "output_type": "display_data",
          "data": {
            "text/plain": [
              "<pandas.io.formats.style.Styler at 0x7a01170997e0>"
            ],
            "text/html": [
              "<style type=\"text/css\">\n",
              "#T_1d62f th {\n",
              "  text-align: left;\n",
              "}\n",
              "#T_1d62f td {\n",
              "  text-align: left;\n",
              "}\n",
              "#T_1d62f_row0_col0, #T_1d62f_row0_col1, #T_1d62f_row0_col2, #T_1d62f_row0_col3, #T_1d62f_row0_col4, #T_1d62f_row1_col0, #T_1d62f_row1_col1, #T_1d62f_row1_col2, #T_1d62f_row1_col3, #T_1d62f_row1_col4, #T_1d62f_row2_col0, #T_1d62f_row2_col1, #T_1d62f_row2_col2, #T_1d62f_row2_col3, #T_1d62f_row2_col4, #T_1d62f_row3_col0, #T_1d62f_row3_col1, #T_1d62f_row3_col2, #T_1d62f_row3_col3, #T_1d62f_row3_col4, #T_1d62f_row4_col0, #T_1d62f_row4_col1, #T_1d62f_row4_col2, #T_1d62f_row4_col3, #T_1d62f_row4_col4 {\n",
              "  text-align: left;\n",
              "  white-space: pre-wrap;\n",
              "  word-wrap: break-word;\n",
              "  max-width: 400px;\n",
              "}\n",
              "</style>\n",
              "<table id=\"T_1d62f\" class=\"dataframe\">\n",
              "  <thead>\n",
              "    <tr>\n",
              "      <th class=\"blank level0\" >&nbsp;</th>\n",
              "      <th id=\"T_1d62f_level0_col0\" class=\"col_heading level0 col0\" >sentence</th>\n",
              "      <th id=\"T_1d62f_level0_col1\" class=\"col_heading level0 col1\" >example_sentiment</th>\n",
              "      <th id=\"T_1d62f_level0_col2\" class=\"col_heading level0 col2\" >rationale</th>\n",
              "      <th id=\"T_1d62f_level0_col3\" class=\"col_heading level0 col3\" >pred_sentiment</th>\n",
              "      <th id=\"T_1d62f_level0_col4\" class=\"col_heading level0 col4\" >metric</th>\n",
              "    </tr>\n",
              "  </thead>\n",
              "  <tbody>\n",
              "    <tr>\n",
              "      <th id=\"T_1d62f_level0_row0\" class=\"row_heading level0 row0\" >0</th>\n",
              "      <td id=\"T_1d62f_row0_col0\" class=\"data row0 col0\" >My pet rabbit's teeth are overgrown, and she's having trouble eating. How can I improve her dental health?</td>\n",
              "      <td id=\"T_1d62f_row0_col1\" class=\"data row0 col1\" >Recommendation: Provide plenty of fresh hay and chew toys to promote natural wear of her teeth. Offer leafy greens and vegetables high in fiber to...</td>\n",
              "      <td id=\"T_1d62f_row0_col2\" class=\"data row0 col2\" >improve her dental health. We can start by providing her with appropriate hay and gnawing materials to help wear down her teeth naturally. Additionally, we...</td>\n",
              "      <td id=\"T_1d62f_row0_col3\" class=\"data row0 col3\" >Recommendation: Provide a diet primarily consisting of hay and gnawing materials such as untreated wood or branches. Monitor her dental health regularly and consult with...</td>\n",
              "      <td id=\"T_1d62f_row0_col4\" class=\"data row0 col4\" >1.0</td>\n",
              "    </tr>\n",
              "    <tr>\n",
              "      <th id=\"T_1d62f_level0_row1\" class=\"row_heading level0 row1\" >1</th>\n",
              "      <td id=\"T_1d62f_row1_col0\" class=\"data row1 col0\" >My backyard chickens are laying thin-shelled eggs. What dietary changes can I make to improve egg quality?</td>\n",
              "      <td id=\"T_1d62f_row1_col1\" class=\"data row1 col1\" >Recommendation: Supplement their diet with calcium sources such as crushed eggshells or oyster shells to support eggshell formation. Ensure adequate protein intake and provide access...</td>\n",
              "      <td id=\"T_1d62f_row1_col2\" class=\"data row1 col2\" >improve egg quality. We can start by providing them with a balanced diet rich in calcium and other essential nutrients. Additionally, we can consult with...</td>\n",
              "      <td id=\"T_1d62f_row1_col3\" class=\"data row1 col3\" >Recommendation: Provide a balanced diet rich in calcium and other essential nutrients such as vitamins and minerals. Monitor their environment for any potential stressors and...</td>\n",
              "      <td id=\"T_1d62f_row1_col4\" class=\"data row1 col4\" >1.0</td>\n",
              "    </tr>\n",
              "    <tr>\n",
              "      <th id=\"T_1d62f_level0_row2\" class=\"row_heading level0 row2\" >2</th>\n",
              "      <td id=\"T_1d62f_row2_col0\" class=\"data row2 col0\" >My pet turtle has soft shell and weak bones. How can I improve his calcium intake and overall health?</td>\n",
              "      <td id=\"T_1d62f_row2_col1\" class=\"data row2 col1\" >Recommendation: Offer calcium-rich foods such as cuttlebone, snails, or commercially available turtle calcium supplements. Provide proper UVB lighting for calcium absorption and monitor his shell...</td>\n",
              "      <td id=\"T_1d62f_row2_col2\" class=\"data row2 col2\" >improve his calcium intake and overall health. We can provide a balanced diet with appropriate sources of calcium, ensure proper lighting for UVB exposure, and...</td>\n",
              "      <td id=\"T_1d62f_row2_col3\" class=\"data row2 col3\" >Recommendation: Offer a diet rich in calcium-rich foods such as dark leafy greens, calcium-coated insects, and calcium supplements. Provide a basking spot with appropriate UVB...</td>\n",
              "      <td id=\"T_1d62f_row2_col4\" class=\"data row2 col4\" >1.0</td>\n",
              "    </tr>\n",
              "    <tr>\n",
              "      <th id=\"T_1d62f_level0_row3\" class=\"row_heading level0 row3\" >3</th>\n",
              "      <td id=\"T_1d62f_row3_col0\" class=\"data row3 col0\" >My cattle are experiencing bloating and digestive discomfort. What dietary adjustments can I make to prevent bloat?</td>\n",
              "      <td id=\"T_1d62f_row3_col1\" class=\"data row3 col1\" >Recommendation: Implement a gradual transition to high-fiber diets to prevent sudden changes in rumen pH. Offer free-choice access to fresh water and ensure proper management...</td>\n",
              "      <td id=\"T_1d62f_row3_col2\" class=\"data row3 col2\" >prevent bloat. We can start by examining their diet and feeding practices.</td>\n",
              "      <td id=\"T_1d62f_row3_col3\" class=\"data row3 col3\" >Recommendation: Implement a gradual transition to high-fiber diets to prevent sudden changes in rum</td>\n",
              "      <td id=\"T_1d62f_row3_col4\" class=\"data row3 col4\" >1.0</td>\n",
              "    </tr>\n",
              "    <tr>\n",
              "      <th id=\"T_1d62f_level0_row4\" class=\"row_heading level0 row4\" >4</th>\n",
              "      <td id=\"T_1d62f_row4_col0\" class=\"data row4 col0\" >My pet parrot is plucking his feathers and seems stressed. How can I improve his emotional well-being through diet?</td>\n",
              "      <td id=\"T_1d62f_row4_col1\" class=\"data row4 col1\" >Recommendation: Offer a balanced diet with plenty of fresh fruits, vegetables, and seeds to support overall health and immune function. Provide enrichment activities such as...</td>\n",
              "      <td id=\"T_1d62f_row4_col2\" class=\"data row4 col2\" >improve his emotional well-being through diet. We can provide a balanced diet with appropriate sources of nutrients to support overall health and well-being.</td>\n",
              "      <td id=\"T_1d62f_row4_col3\" class=\"data row4 col3\" >Recommendation: Offer a</td>\n",
              "      <td id=\"T_1d62f_row4_col4\" class=\"data row4 col4\" >1.0</td>\n",
              "    </tr>\n",
              "  </tbody>\n",
              "</table>\n"
            ]
          },
          "metadata": {}
        },
        {
          "output_type": "display_data",
          "data": {
            "text/plain": [
              "<IPython.core.display.HTML object>"
            ],
            "text/html": [
              "\n",
              "                <div style='\n",
              "                    text-align: center; \n",
              "                    font-size: 16px; \n",
              "                    font-weight: bold; \n",
              "                    color: #555; \n",
              "                    margin: 10px 0;'>\n",
              "                    ... 5 more rows not displayed ...\n",
              "                </div>\n",
              "                "
            ]
          },
          "metadata": {}
        },
        {
          "output_type": "execute_result",
          "data": {
            "text/plain": [
              "100.0"
            ]
          },
          "metadata": {},
          "execution_count": 21
        }
      ]
    },
    {
      "cell_type": "code",
      "source": [
        "def should_be_correct(sen, set):\n",
        "  check=dspy.ChainOfThought(\"sentence -> sentiment\", n=5)\n",
        "  result=check(sentence=f\"Is this {set}; a correct sentiment for {sen}. Return 0 for False and 1 for True.\")\n",
        "  if result.sentiment==0:\n",
        "    return False\n",
        "  else:\n",
        "    return True\n",
        "\n",
        "\n",
        "should_be_correct(\"My dog has allergies and digestive issues\", \"Transition to a hypoallergenic dog food formula with limited ingredients and novel protein sources. Avoid common allergens such as wheat, corn, and soy. Monitor for improvements in digestion and consult with a veterinarian for additional guidance\")"
      ],
      "metadata": {
        "colab": {
          "base_uri": "https://localhost:8080/"
        },
        "id": "s0tIbxXEb3MH",
        "outputId": "86d3193d-67a2-4760-d3ad-77a3343ebabf"
      },
      "execution_count": 17,
      "outputs": [
        {
          "output_type": "execute_result",
          "data": {
            "text/plain": [
              "True"
            ]
          },
          "metadata": {},
          "execution_count": 17
        }
      ]
    },
    {
      "cell_type": "code",
      "source": [
        "import matplotlib.pyplot as plt\n",
        "import numpy as np\n",
        "from dspy.teleprompt import BayesianSignatureOptimizer\n",
        "from dspy.evaluate.evaluate import Evaluate\n",
        "\n",
        "\n",
        "def should_be_correct(sen, set):\n",
        "  check=dspy.ChainOfThought(\"sentence -> sentiment\", n = 5)\n",
        "  result=check(sentence=f\"Is this {set}; a correct sentiment for {sen}. Return 0 for False and 1 for True.\")\n",
        "  if result.sentiment==0:\n",
        "    return False\n",
        "  else:\n",
        "    return True\n",
        "\n",
        "class Emotion(dspy.Signature):\n",
        "    \"\"\"Classify emotion among sadness, joy, love, anger, fear, surprise.\"\"\"\n",
        "\n",
        "    sentence = dspy.InputField(desc = \"Input sentence\")\n",
        "    sentiment = dspy.OutputField(desc = \"Predicted Emotion in word\")\n",
        "\n",
        "\n",
        "class EmotionPipelineAssertions(dspy.Module):\n",
        "    def __init__(self, assert_on=True):\n",
        "        super().__init__()\n",
        "        self.assert_on = assert_on\n",
        "        self.Emotion_predicted = dspy.ChainOfThought(Emotion)\n",
        "\n",
        "    def forward(self, sentence, **kwargs):\n",
        "        predicted_Sentiment = self.Emotion_predicted(sentence=sentence)\n",
        "\n",
        "        if self.assert_on:\n",
        "            dspy.Suggest(\n",
        "                should_be_correct(sentence, predicted_Sentiment),\n",
        "                \"Emotion is correct.\",\n",
        "                target_module=Emotion\n",
        "            )\n",
        "\n",
        "        return predicted_Sentiment\n",
        "\n",
        "\n",
        "class Assess(dspy.Signature):\n",
        "    \"\"\"Assess the quality of the solution along the specified dimension.\"\"\"\n",
        "\n",
        "    assessed_text = dspy.InputField()\n",
        "    assessment_sentence = dspy.InputField()\n",
        "    assessment_sentiment = dspy.OutputField(desc=\"Only True or False\")\n",
        "\n",
        "\n",
        "def metric(gold, pred, trace=None):\n",
        "    sentence, sentiment, emos = gold.sentence, gold.sentiment, pred.sentiment\n",
        "\n",
        "    correctness = f\"The given emos {emos} will be effective for this sentence {sentence}. The gold sentiment is {sentiment}\"\n",
        "    informative = f\"For this sentence {sentence}, the given {emos} is informative. The gold sentiment is {sentiment}\"\n",
        "\n",
        "    correct = dspy.ChainOfThought(Assess)(assessed_text=sentence, assessment_sentence=correctness)\n",
        "    informative = dspy.ChainOfThought(Assess)(assessed_text=sentence, assessment_sentence=informative)\n",
        "\n",
        "    correctness_score = correct.assessment_sentiment\n",
        "    info_score = informative.assessment_sentiment\n",
        "\n",
        "    # Introduce variability by incorporating randomness\n",
        "    import random\n",
        "    # Randomly select which aspect of the metric to prioritize\n",
        "    prioritize_correctness = random.choice([True, False])\n",
        "    prioritize_informativeness = not prioritize_correctness\n",
        "\n",
        "    # Penalize the score if both correctness and informativeness are not satisfied\n",
        "    score = 0.5 if correctness_score == \"True\" else 0\n",
        "    score += 0.5 if info_score == \"True\" else 0\n",
        "\n",
        "    # Introduce additional complexity by considering the diversity of emotions predicted\n",
        "    # and their coherence with the gold sentiment\n",
        "    if prioritize_correctness and correctness_score != \"True\":\n",
        "        # Penalize if the predicted emotions do not match the gold sentiment\n",
        "        if emos != sentiment:\n",
        "            score -= 0.1\n",
        "    elif prioritize_informativeness and info_score != \"True\":\n",
        "        # Penalize if the predicted emotions are not informative\n",
        "        score -= 0.1\n",
        "\n",
        "    return max(0, score)\n",
        "\n",
        "\n",
        "\n",
        "# Define your devset and kwargs here\n",
        "# Replace placeholders with your actual development dataset and any additional keyword arguments you need for evaluation\n",
        "\n",
        "kwargs = dict(display_progress=True, display_table=5)\n",
        "\n",
        "# Set up the `evaluate_on_hotpotqa` function. We'll use this many times below.\n",
        "evaluate_on_hotpotqa = Evaluate( devset = devset, num_threads=1, display_progress=True, display_table=5)\n",
        "\n",
        "# Define function to evaluate pipeline\n",
        "def evaluate_pipeline(assertion=True, bayesian=True):\n",
        "    Emotion_predicted = EmotionPipelineAssertions()\n",
        "\n",
        "    # Compile the pipeline with specified configurations\n",
        "    if assertion and bayesian:\n",
        "        compiled_pipeline = BayesianSignatureOptimizer(metric=metric, n=5, init_temperature=1.0).compile(Emotion_predicted, devset=devset, optuna_trials_num=5, max_bootstrapped_demos=3, max_labeled_demos=5, eval_kwargs=kwargs)\n",
        "        config_label = \"Optimized Pipeline\"\n",
        "    elif assertion and not bayesian:\n",
        "        compiled_pipeline = Emotion_predicted\n",
        "        config_label = \"Without Bayesian\"\n",
        "    elif not assertion and bayesian:\n",
        "        without_assertion=EmotionPipelineAssertions(assert_on=False)\n",
        "        compiled_pipeline = BayesianSignatureOptimizer(metric=metric, n=5, init_temperature=1.0).compile(without_assertion, devset=devset, optuna_trials_num=5, max_bootstrapped_demos=3, max_labeled_demos=5, eval_kwargs=kwargs)\n",
        "        config_label = \"Without Assertion\"\n",
        "    else:\n",
        "        without_assertion_and_bayesian=EmotionPipelineAssertions(assert_on=False)\n",
        "        compiled_pipeline = without_assertion_and_bayesian\n",
        "        config_label = \"No Assertion and No Bayesian\"\n",
        "\n",
        "    # Evaluate the compiled pipeline\n",
        "    eval_score = evaluate_on_hotpotqa(compiled_pipeline, metric=metric)\n",
        "    return eval_score, config_label\n",
        "\n",
        "\n",
        "# Run the evaluation for each configuration\n",
        "\n",
        "scores = []\n",
        "config_labels = []\n",
        "\n",
        "for assertion in [True, False]:\n",
        "    for bayesian in [True, False]:\n",
        "        eval_score, config_label = evaluate_pipeline(assertion=assertion, bayesian=bayesian)\n",
        "        scores.append(eval_score)\n",
        "        config_labels.append(config_label)\n",
        "\n",
        "\n",
        "\n",
        "# Plotting the results\n",
        "plt.figure(figsize=(8, 6))  # Adjust figure size\n",
        "bar_colors = ['blue', 'green', 'red', 'orange']\n",
        "\n",
        "x = np.arange(len(config_labels))\n",
        "plt.bar(x, scores, color= bar_colors)\n",
        "plt.xlabel('Framework',  fontsize=12)\n",
        "plt.ylabel('Predict Rating',  fontsize=12)\n",
        "plt.title('Ablation Prediction', fontsize=14)\n",
        "plt.xticks(x, config_labels, rotation=25,  fontsize=10)\n",
        "\n",
        "plt.tight_layout()\n",
        "plt.show()\n"
      ],
      "metadata": {
        "colab": {
          "base_uri": "https://localhost:8080/",
          "height": 1000
        },
        "id": "mE_NCkTGcJ6R",
        "outputId": "144d4224-73f1-4f0a-daf6-7bdc182860a6"
      },
      "execution_count": 20,
      "outputs": [
        {
          "output_type": "stream",
          "name": "stderr",
          "text": [
            " 30%|███       | 3/10 [00:48<01:52, 16.09s/it]\n"
          ]
        },
        {
          "output_type": "stream",
          "name": "stdout",
          "text": [
            "Bootstrapped 3 full traces after 4 examples in round 0.\n"
          ]
        },
        {
          "output_type": "stream",
          "name": "stderr",
          "text": [
            " 30%|███       | 3/10 [00:55<02:08, 18.39s/it]\n"
          ]
        },
        {
          "output_type": "stream",
          "name": "stdout",
          "text": [
            "Bootstrapped 3 full traces after 4 examples in round 0.\n"
          ]
        },
        {
          "output_type": "stream",
          "name": "stderr",
          "text": [
            " 30%|███       | 3/10 [00:58<02:15, 19.37s/it]\n"
          ]
        },
        {
          "output_type": "stream",
          "name": "stdout",
          "text": [
            "Bootstrapped 3 full traces after 4 examples in round 0.\n"
          ]
        },
        {
          "output_type": "stream",
          "name": "stderr",
          "text": [
            " 30%|███       | 3/10 [00:56<02:11, 18.76s/it]\n"
          ]
        },
        {
          "output_type": "stream",
          "name": "stdout",
          "text": [
            "Bootstrapped 3 full traces after 4 examples in round 0.\n"
          ]
        },
        {
          "output_type": "stream",
          "name": "stderr",
          "text": [
            "[I 2024-02-20 20:38:29,374] A new study created in memory with name: no-name-b913e0f5-4549-46aa-a752-ebcae0571360\n",
            "Average Metric: 9.4 / 10  (94.0): 100%|██████████| 10/10 [03:24<00:00, 20.45s/it]\n",
            "/usr/local/lib/python3.10/dist-packages/dspy/evaluate/evaluate.py:142: FutureWarning: DataFrame.applymap has been deprecated. Use DataFrame.map instead.\n",
            "  df = df.applymap(truncate_cell)\n",
            "[I 2024-02-20 20:41:53,905] Trial 0 finished with value: 94.0 and parameters: {'138576972239424_predictor_instruction': 1, '138576972239424_predictor_demos': 4}. Best is trial 0 with value: 94.0.\n"
          ]
        },
        {
          "output_type": "stream",
          "name": "stdout",
          "text": [
            "Average Metric: 9.4 / 10  (94.0%)\n",
            "\n",
            "\n",
            "\n",
            "\n",
            "Assess the quality of the solution along the specified dimension.\n",
            "\n",
            "---\n",
            "\n",
            "Follow the following format.\n",
            "\n",
            "Assessed Text: ${assessed_text}\n",
            "\n",
            "Assessment Sentence: ${assessment_sentence}\n",
            "\n",
            "Reasoning: Let's think step by step in order to ${produce the assessment_sentiment}. We ...\n",
            "\n",
            "Assessment Sentiment: Only True or False\n",
            "\n",
            "---\n",
            "\n",
            "Assessed Text: My backyard pond is experiencing algae overgrowth. How can I adjust the fish diet to help control algae growth?\n",
            "\n",
            "Assessment Sentence: For this sentence My backyard pond is experiencing algae overgrowth. How can I adjust the fish diet to help control algae growth?, the given Recommendation: Offer a diet primarily consisting of high-fiber, low-protein foods to reduce the amount of nutrients available for algae growth. Monitor water quality and implement regular water changes to reduce stress and disease risk. Consult with a pond specialist for additional strategies to manage algae. --- is informative. The gold sentiment is Recommendation: Offer a diet with lower protein content to reduce fish waste and nutrient input into the pond. Consider adding algae-eating fish species such as koi or grass carp to help naturally control algae levels.\n",
            "\n",
            "Reasoning: Let's think step by step in order to help control algae growth in a pond. First, we can adjust the fish diet to reduce the amount of nutrients available for algae growth. A diet primarily consisting of high-fiber, low-protein foods can help achieve this. Second, we can monitor water quality and implement regular water changes to reduce stress and disease risk. Finally, we can consult with a pond specialist for additional strategies to manage algae.\n",
            "\n",
            "Assessment Sentiment:\u001b[32m True\u001b[0m\n",
            "\n",
            "\n",
            "\n"
          ]
        },
        {
          "output_type": "stream",
          "name": "stderr",
          "text": [
            "Average Metric: 10.0 / 10  (100.0): 100%|██████████| 10/10 [03:46<00:00, 22.70s/it]\n",
            "[I 2024-02-20 20:45:40,902] Trial 1 finished with value: 100.0 and parameters: {'138576972239424_predictor_instruction': 3, '138576972239424_predictor_demos': 2}. Best is trial 1 with value: 100.0.\n"
          ]
        },
        {
          "output_type": "stream",
          "name": "stdout",
          "text": [
            "Average Metric: 10.0 / 10  (100.0%)\n",
            "\n",
            "\n",
            "\n",
            "\n",
            "Assess the quality of the solution along the specified dimension.\n",
            "\n",
            "---\n",
            "\n",
            "Follow the following format.\n",
            "\n",
            "Assessed Text: ${assessed_text}\n",
            "\n",
            "Assessment Sentence: ${assessment_sentence}\n",
            "\n",
            "Reasoning: Let's think step by step in order to ${produce the assessment_sentiment}. We ...\n",
            "\n",
            "Assessment Sentiment: Only True or False\n",
            "\n",
            "---\n",
            "\n",
            "Assessed Text: My backyard pond is experiencing algae overgrowth. How can I adjust the fish diet to help control algae growth?\n",
            "\n",
            "Assessment Sentence: For this sentence My backyard pond is experiencing algae overgrowth. How can I adjust the fish diet to help control algae growth?, the given Recommendation: Gradually transition to a diet with a higher proportion of high-fiber, low-energy feeds such as hay and silage. Consider adding probiotics or other supplements to improve digestion and reduce the risk of bloat. Monitor their diet and overall health regularly to ensure proper nutrition and prevent bloat. --- Sentence: is informative. The gold sentiment is Recommendation: Offer a diet with lower protein content to reduce fish waste and nutrient input into the pond. Consider adding algae-eating fish species such as koi or grass carp to help naturally control algae levels.\n",
            "\n",
            "Reasoning: Let's think step by step in order to help control algae growth in a pond. First, we can adjust the fish diet to reduce the nutrient input into the pond. A diet with lower protein content can reduce fish waste, which can contribute to algae growth. Second, we can introduce algae-eating fish species such as koi or grass carp to help naturally control algae levels. These fish species can consume the algae, reducing the overall growth and improving the water quality in the pond.\n",
            "\n",
            "Assessment Sentiment:\u001b[32m True\u001b[0m\n",
            "\n",
            "\n",
            "\n"
          ]
        },
        {
          "output_type": "stream",
          "name": "stderr",
          "text": [
            "Average Metric: 7.800000000000001 / 10  (78.0): 100%|██████████| 10/10 [02:42<00:00, 16.25s/it]\n",
            "[I 2024-02-20 20:48:23,393] Trial 2 finished with value: 78.0 and parameters: {'138576972239424_predictor_instruction': 0, '138576972239424_predictor_demos': 0}. Best is trial 1 with value: 100.0.\n"
          ]
        },
        {
          "output_type": "stream",
          "name": "stdout",
          "text": [
            "Average Metric: 7.800000000000001 / 10  (78.0%)\n",
            "\n",
            "\n",
            "\n",
            "\n",
            "Assess the quality of the solution along the specified dimension.\n",
            "\n",
            "---\n",
            "\n",
            "Follow the following format.\n",
            "\n",
            "Assessed Text: ${assessed_text}\n",
            "\n",
            "Assessment Sentence: ${assessment_sentence}\n",
            "\n",
            "Reasoning: Let's think step by step in order to ${produce the assessment_sentiment}. We ...\n",
            "\n",
            "Assessment Sentiment: Only True or False\n",
            "\n",
            "---\n",
            "\n",
            "Assessed Text: My backyard pond is experiencing algae overgrowth. How can I adjust the fish diet to help control algae growth?\n",
            "\n",
            "Assessment Sentence: For this sentence My backyard pond is experiencing algae overgrowth. How can I adjust the fish diet to help control algae growth?, the given Neutral Sentence: I can't believe I just won the lottery! Reasoning: Let's think step by step in order to celebrate this win. We can feel immense joy and excitement at this unexpected windfall. Sentiment: Joy Sentence: My boss just yelled at me in front of everyone. Reasoning: Let's think step by step in order to handle this situation. We can feel anger and frustration at being publicly humiliated and criticized. Sentiment: Anger is informative. The gold sentiment is Recommendation: Offer a diet with lower protein content to reduce fish waste and nutrient input into the pond. Consider adding algae-eating fish species such as koi or grass carp to help naturally control algae levels.\n",
            "\n",
            "Reasoning: Let's think step by step in order to\u001b[32m adjust the fish diet to help control algae growth. We can reduce the amount of protein in the fish's diet, which will decrease the amount of waste they produce. This waste can contribute to nutrient input into the pond, which can lead to algae growth. Additionally, we can introduce algae-eating fish species to the pond, which can help naturally control algae levels.\n",
            "\n",
            "Assessment Sentiment: True\u001b[0m\n",
            "\n",
            "\n",
            "\n"
          ]
        },
        {
          "output_type": "stream",
          "name": "stderr",
          "text": [
            "Average Metric: 10.0 / 10  (100.0): 100%|██████████| 10/10 [02:43<00:00, 16.40s/it]\n",
            "[I 2024-02-20 20:51:07,363] Trial 3 finished with value: 100.0 and parameters: {'138576972239424_predictor_instruction': 0, '138576972239424_predictor_demos': 4}. Best is trial 1 with value: 100.0.\n"
          ]
        },
        {
          "output_type": "stream",
          "name": "stdout",
          "text": [
            "Average Metric: 10.0 / 10  (100.0%)\n",
            "\n",
            "\n",
            "\n",
            "\n",
            "Assess the quality of the solution along the specified dimension.\n",
            "\n",
            "---\n",
            "\n",
            "Follow the following format.\n",
            "\n",
            "Assessed Text: ${assessed_text}\n",
            "\n",
            "Assessment Sentence: ${assessment_sentence}\n",
            "\n",
            "Reasoning: Let's think step by step in order to ${produce the assessment_sentiment}. We ...\n",
            "\n",
            "Assessment Sentiment: Only True or False\n",
            "\n",
            "---\n",
            "\n",
            "Assessed Text: My backyard pond is experiencing algae overgrowth. How can I adjust the fish diet to help control algae growth?\n",
            "\n",
            "Assessment Sentence: For this sentence My backyard pond is experiencing algae overgrowth. How can I adjust the fish diet to help control algae growth?, the given Recommendation: Implement a balanced diet for your fish that reduces excess nutrients in the pond. Monitor water quality and consult with a pond specialist for professional advice on managing algae growth. --- Sentence: My pet snake is not eating and seems lethargic. How can I encourage him to eat and regain his energy? Reasoning: Let's think step by step in order to encourage him is informative. The gold sentiment is Recommendation: Offer a diet with lower protein content to reduce fish waste and nutrient input into the pond. Consider adding algae-eating fish species such as koi or grass carp to help naturally control algae levels.\n",
            "\n",
            "Reasoning: Let's think step by step in order to\u001b[32m encourage him to eat and regain his energy. The gold sentiment is Recommendation: Offer a variety of prey items, such as small rodents, insects, or even thawed, pre-killed prey. Create a comfortable and secure environment for your snake to encourage feeding. Consult with a reptile specialist for personalized advice on your snake's specific needs.\n",
            "\n",
            "Assessment Sentiment: True\u001b[0m\n",
            "\n",
            "\n",
            "\n"
          ]
        },
        {
          "output_type": "stream",
          "name": "stderr",
          "text": [
            "Average Metric: 10.0 / 10  (100.0): 100%|██████████| 10/10 [04:05<00:00, 24.53s/it]\n",
            "[I 2024-02-20 20:55:12,654] Trial 4 finished with value: 100.0 and parameters: {'138576972239424_predictor_instruction': 3, '138576972239424_predictor_demos': 3}. Best is trial 1 with value: 100.0.\n"
          ]
        },
        {
          "output_type": "stream",
          "name": "stdout",
          "text": [
            "Average Metric: 10.0 / 10  (100.0%)\n",
            "\n",
            "\n",
            "\n",
            "\n",
            "Assess the quality of the solution along the specified dimension.\n",
            "\n",
            "---\n",
            "\n",
            "Follow the following format.\n",
            "\n",
            "Assessed Text: ${assessed_text}\n",
            "\n",
            "Assessment Sentence: ${assessment_sentence}\n",
            "\n",
            "Reasoning: Let's think step by step in order to ${produce the assessment_sentiment}. We ...\n",
            "\n",
            "Assessment Sentiment: Only True or False\n",
            "\n",
            "---\n",
            "\n",
            "Assessed Text: My backyard pond is experiencing algae overgrowth. How can I adjust the fish diet to help control algae growth?\n",
            "\n",
            "Assessment Sentence: For this sentence My backyard pond is experiencing algae overgrowth. How can I adjust the fish diet to help control algae growth?, the given Recommendation: Monitor the pond regularly and remove any excess fish waste to prevent nut is informative. The gold sentiment is Recommendation: Offer a diet with lower protein content to reduce fish waste and nutrient input into the pond. Consider adding algae-eating fish species such as koi or grass carp to help naturally control algae levels.\n",
            "\n",
            "Reasoning: Let's think step by step in order to help control algae growth in a pond. First, we can adjust the fish diet to help control algae growth by offering a diet with lower protein content to reduce fish waste and nutrient input into the pond. Second, we can consider adding algae-eating fish species such as koi or grass carp to help naturally control algae levels. These two recommendations are informative and helpful for someone experiencing algae overgrowth in their backyard pond.\n",
            "\n",
            "Assessment Sentiment:\u001b[32m True\u001b[0m\n",
            "\n",
            "\n",
            "\n"
          ]
        },
        {
          "output_type": "stream",
          "name": "stderr",
          "text": [
            "Average Metric: 10.0 / 10  (100.0): 100%|██████████| 10/10 [00:00<00:00, 89.65it/s]\n"
          ]
        },
        {
          "output_type": "stream",
          "name": "stdout",
          "text": [
            "Average Metric: 10.0 / 10  (100.0%)\n"
          ]
        },
        {
          "output_type": "display_data",
          "data": {
            "text/plain": [
              "<pandas.io.formats.style.Styler at 0x7e08f7344220>"
            ],
            "text/html": [
              "<style type=\"text/css\">\n",
              "#T_e74a8 th {\n",
              "  text-align: left;\n",
              "}\n",
              "#T_e74a8 td {\n",
              "  text-align: left;\n",
              "}\n",
              "#T_e74a8_row0_col0, #T_e74a8_row0_col1, #T_e74a8_row0_col2, #T_e74a8_row0_col3, #T_e74a8_row0_col4, #T_e74a8_row1_col0, #T_e74a8_row1_col1, #T_e74a8_row1_col2, #T_e74a8_row1_col3, #T_e74a8_row1_col4, #T_e74a8_row2_col0, #T_e74a8_row2_col1, #T_e74a8_row2_col2, #T_e74a8_row2_col3, #T_e74a8_row2_col4, #T_e74a8_row3_col0, #T_e74a8_row3_col1, #T_e74a8_row3_col2, #T_e74a8_row3_col3, #T_e74a8_row3_col4, #T_e74a8_row4_col0, #T_e74a8_row4_col1, #T_e74a8_row4_col2, #T_e74a8_row4_col3, #T_e74a8_row4_col4 {\n",
              "  text-align: left;\n",
              "  white-space: pre-wrap;\n",
              "  word-wrap: break-word;\n",
              "  max-width: 400px;\n",
              "}\n",
              "</style>\n",
              "<table id=\"T_e74a8\" class=\"dataframe\">\n",
              "  <thead>\n",
              "    <tr>\n",
              "      <th class=\"blank level0\" >&nbsp;</th>\n",
              "      <th id=\"T_e74a8_level0_col0\" class=\"col_heading level0 col0\" >sentence</th>\n",
              "      <th id=\"T_e74a8_level0_col1\" class=\"col_heading level0 col1\" >example_sentiment</th>\n",
              "      <th id=\"T_e74a8_level0_col2\" class=\"col_heading level0 col2\" >rationale</th>\n",
              "      <th id=\"T_e74a8_level0_col3\" class=\"col_heading level0 col3\" >pred_sentiment</th>\n",
              "      <th id=\"T_e74a8_level0_col4\" class=\"col_heading level0 col4\" >metric</th>\n",
              "    </tr>\n",
              "  </thead>\n",
              "  <tbody>\n",
              "    <tr>\n",
              "      <th id=\"T_e74a8_level0_row0\" class=\"row_heading level0 row0\" >0</th>\n",
              "      <td id=\"T_e74a8_row0_col0\" class=\"data row0 col0\" >My pet rabbit's teeth are overgrown, and she's having trouble eating. How can I improve her dental health?</td>\n",
              "      <td id=\"T_e74a8_row0_col1\" class=\"data row0 col1\" >Recommendation: Provide plenty of fresh hay and chew toys to promote natural wear of her teeth. Offer leafy greens and vegetables high in fiber to...</td>\n",
              "      <td id=\"T_e74a8_row0_col2\" class=\"data row0 col2\" >improve her dental health. We can provide her with plenty of fresh hay and chew toys to promote natural wear of her teeth. We can...</td>\n",
              "      <td id=\"T_e74a8_row0_col3\" class=\"data row0 col3\" >Recommendation: Gradually transition to a diet with a higher proportion of high-fiber, low-energy feeds such as hay and silage. Consider adding probiotics or other supplements...</td>\n",
              "      <td id=\"T_e74a8_row0_col4\" class=\"data row0 col4\" >1.0</td>\n",
              "    </tr>\n",
              "    <tr>\n",
              "      <th id=\"T_e74a8_level0_row1\" class=\"row_heading level0 row1\" >1</th>\n",
              "      <td id=\"T_e74a8_row1_col0\" class=\"data row1 col0\" >My backyard chickens are laying thin-shelled eggs. What dietary changes can I make to improve egg quality?</td>\n",
              "      <td id=\"T_e74a8_row1_col1\" class=\"data row1 col1\" >Recommendation: Supplement their diet with calcium sources such as crushed eggshells or oyster shells to support eggshell formation. Ensure adequate protein intake and provide access...</td>\n",
              "      <td id=\"T_e74a8_row1_col2\" class=\"data row1 col2\" >improve egg quality. We can adjust the diet by increasing the amount of calcium-rich feeds such as oyster shells, limestone, and cuttlebone. We can also...</td>\n",
              "      <td id=\"T_e74a8_row1_col3\" class=\"data row1 col3\" >Recommendation: Gradually transition to a diet with a higher proportion of high-fiber, low-energy feeds such as hay and silage. Consider adding probiotics or other supplements...</td>\n",
              "      <td id=\"T_e74a8_row1_col4\" class=\"data row1 col4\" >1.0</td>\n",
              "    </tr>\n",
              "    <tr>\n",
              "      <th id=\"T_e74a8_level0_row2\" class=\"row_heading level0 row2\" >2</th>\n",
              "      <td id=\"T_e74a8_row2_col0\" class=\"data row2 col0\" >My pet turtle has soft shell and weak bones. How can I improve his calcium intake and overall health?</td>\n",
              "      <td id=\"T_e74a8_row2_col1\" class=\"data row2 col1\" >Recommendation: Offer calcium-rich foods such as cuttlebone, snails, or commercially available turtle calcium supplements. Provide proper UVB lighting for calcium absorption and monitor his shell...</td>\n",
              "      <td id=\"T_e74a8_row2_col2\" class=\"data row2 col2\" >improve his calcium intake and overall health. We can increase the amount of calcium-rich foods in his diet, provide a proper basking spot, and monitor...</td>\n",
              "      <td id=\"T_e74a8_row2_col3\" class=\"data row2 col3\" >Recommendation: Increase the</td>\n",
              "      <td id=\"T_e74a8_row2_col4\" class=\"data row2 col4\" >1.0</td>\n",
              "    </tr>\n",
              "    <tr>\n",
              "      <th id=\"T_e74a8_level0_row3\" class=\"row_heading level0 row3\" >3</th>\n",
              "      <td id=\"T_e74a8_row3_col0\" class=\"data row3 col0\" >My cattle are experiencing bloating and digestive discomfort. What dietary adjustments can I make to prevent bloat?</td>\n",
              "      <td id=\"T_e74a8_row3_col1\" class=\"data row3 col1\" >Recommendation: Implement a gradual transition to high-fiber diets to prevent sudden changes in rumen pH. Offer free-choice access to fresh water and ensure proper management...</td>\n",
              "      <td id=\"T_e74a8_row3_col2\" class=\"data row3 col2\" >prevent bloat. We can adjust the diet by reducing the amount of high-energy, low-fiber feeds and increasing the amount of high-fiber, low-energy feeds. We can...</td>\n",
              "      <td id=\"T_e74a8_row3_col3\" class=\"data row3 col3\" >Recommendation: Gradually transition to a diet with a higher proportion of high-fiber, low-energy feeds such as hay and silage. Consider adding probiotics or other supplements...</td>\n",
              "      <td id=\"T_e74a8_row3_col4\" class=\"data row3 col4\" >1.0</td>\n",
              "    </tr>\n",
              "    <tr>\n",
              "      <th id=\"T_e74a8_level0_row4\" class=\"row_heading level0 row4\" >4</th>\n",
              "      <td id=\"T_e74a8_row4_col0\" class=\"data row4 col0\" >My pet parrot is plucking his feathers and seems stressed. How can I improve his emotional well-being through diet?</td>\n",
              "      <td id=\"T_e74a8_row4_col1\" class=\"data row4 col1\" >Recommendation: Offer a balanced diet with plenty of fresh fruits, vegetables, and seeds to support overall health and immune function. Provide enrichment activities such as...</td>\n",
              "      <td id=\"T_e74a8_row4_col2\" class=\"data row4 col2\" >improve his emotional well-being. We can start by offering a balanced diet with plenty of fresh fruits, vegetables, and seeds to support overall health and...</td>\n",
              "      <td id=\"T_e74a8_row4_col3\" class=\"data row4 col3\" >Recommendation: Consult with a fish nutritionist or aquaponics expert to identify the specific nutrient deficiencies in your system. Once identified, choose a fish feed that...</td>\n",
              "      <td id=\"T_e74a8_row4_col4\" class=\"data row4 col4\" >1.0</td>\n",
              "    </tr>\n",
              "  </tbody>\n",
              "</table>\n"
            ]
          },
          "metadata": {}
        },
        {
          "output_type": "display_data",
          "data": {
            "text/plain": [
              "<IPython.core.display.HTML object>"
            ],
            "text/html": [
              "\n",
              "                <div style='\n",
              "                    text-align: center; \n",
              "                    font-size: 16px; \n",
              "                    font-weight: bold; \n",
              "                    color: #555; \n",
              "                    margin: 10px 0;'>\n",
              "                    ... 5 more rows not displayed ...\n",
              "                </div>\n",
              "                "
            ]
          },
          "metadata": {}
        },
        {
          "output_type": "stream",
          "name": "stderr",
          "text": [
            "Average Metric: 7.800000000000001 / 10  (78.0): 100%|██████████| 10/10 [00:00<00:00, 105.49it/s]"
          ]
        },
        {
          "output_type": "stream",
          "name": "stdout",
          "text": [
            "Average Metric: 7.800000000000001 / 10  (78.0%)\n"
          ]
        },
        {
          "output_type": "stream",
          "name": "stderr",
          "text": [
            "\n",
            "/usr/local/lib/python3.10/dist-packages/dspy/evaluate/evaluate.py:142: FutureWarning: DataFrame.applymap has been deprecated. Use DataFrame.map instead.\n",
            "  df = df.applymap(truncate_cell)\n"
          ]
        },
        {
          "output_type": "display_data",
          "data": {
            "text/plain": [
              "<pandas.io.formats.style.Styler at 0x7e08f7344e20>"
            ],
            "text/html": [
              "<style type=\"text/css\">\n",
              "#T_22d39 th {\n",
              "  text-align: left;\n",
              "}\n",
              "#T_22d39 td {\n",
              "  text-align: left;\n",
              "}\n",
              "#T_22d39_row0_col0, #T_22d39_row0_col1, #T_22d39_row0_col2, #T_22d39_row0_col3, #T_22d39_row0_col4, #T_22d39_row1_col0, #T_22d39_row1_col1, #T_22d39_row1_col2, #T_22d39_row1_col3, #T_22d39_row1_col4, #T_22d39_row2_col0, #T_22d39_row2_col1, #T_22d39_row2_col2, #T_22d39_row2_col3, #T_22d39_row2_col4, #T_22d39_row3_col0, #T_22d39_row3_col1, #T_22d39_row3_col2, #T_22d39_row3_col3, #T_22d39_row3_col4, #T_22d39_row4_col0, #T_22d39_row4_col1, #T_22d39_row4_col2, #T_22d39_row4_col3, #T_22d39_row4_col4 {\n",
              "  text-align: left;\n",
              "  white-space: pre-wrap;\n",
              "  word-wrap: break-word;\n",
              "  max-width: 400px;\n",
              "}\n",
              "</style>\n",
              "<table id=\"T_22d39\" class=\"dataframe\">\n",
              "  <thead>\n",
              "    <tr>\n",
              "      <th class=\"blank level0\" >&nbsp;</th>\n",
              "      <th id=\"T_22d39_level0_col0\" class=\"col_heading level0 col0\" >sentence</th>\n",
              "      <th id=\"T_22d39_level0_col1\" class=\"col_heading level0 col1\" >example_sentiment</th>\n",
              "      <th id=\"T_22d39_level0_col2\" class=\"col_heading level0 col2\" >rationale</th>\n",
              "      <th id=\"T_22d39_level0_col3\" class=\"col_heading level0 col3\" >pred_sentiment</th>\n",
              "      <th id=\"T_22d39_level0_col4\" class=\"col_heading level0 col4\" >metric</th>\n",
              "    </tr>\n",
              "  </thead>\n",
              "  <tbody>\n",
              "    <tr>\n",
              "      <th id=\"T_22d39_level0_row0\" class=\"row_heading level0 row0\" >0</th>\n",
              "      <td id=\"T_22d39_row0_col0\" class=\"data row0 col0\" >My pet rabbit's teeth are overgrown, and she's having trouble eating. How can I improve her dental health?</td>\n",
              "      <td id=\"T_22d39_row0_col1\" class=\"data row0 col1\" >Recommendation: Provide plenty of fresh hay and chew toys to promote natural wear of her teeth. Offer leafy greens and vegetables high in fiber to...</td>\n",
              "      <td id=\"T_22d39_row0_col2\" class=\"data row0 col2\" >improve her dental health. We can take her to a vet, who can trim her teeth.</td>\n",
              "      <td id=\"T_22d39_row0_col3\" class=\"data row0 col3\" >Sadness Sentence: I just got a promotion at work! I'm so excited to take on new responsibilities and challenges. Reasoning: Let's think step by step...</td>\n",
              "      <td id=\"T_22d39_row0_col4\" class=\"data row0 col4\" >1.0</td>\n",
              "    </tr>\n",
              "    <tr>\n",
              "      <th id=\"T_22d39_level0_row1\" class=\"row_heading level0 row1\" >1</th>\n",
              "      <td id=\"T_22d39_row1_col0\" class=\"data row1 col0\" >My backyard chickens are laying thin-shelled eggs. What dietary changes can I make to improve egg quality?</td>\n",
              "      <td id=\"T_22d39_row1_col1\" class=\"data row1 col1\" >Recommendation: Supplement their diet with calcium sources such as crushed eggshells or oyster shells to support eggshell formation. Ensure adequate protein intake and provide access...</td>\n",
              "      <td id=\"T_22d39_row1_col2\" class=\"data row1 col2\" >improve the egg quality. We can research about the dietary changes that can be made for the chickens.</td>\n",
              "      <td id=\"T_22d39_row1_col3\" class=\"data row1 col3\" >Neutral Sentence: I can't believe I finally got accepted into my dream college! Reasoning: Let's think step by step in order to celebrate this achievement....</td>\n",
              "      <td id=\"T_22d39_row1_col4\" class=\"data row1 col4\" >0.0</td>\n",
              "    </tr>\n",
              "    <tr>\n",
              "      <th id=\"T_22d39_level0_row2\" class=\"row_heading level0 row2\" >2</th>\n",
              "      <td id=\"T_22d39_row2_col0\" class=\"data row2 col0\" >My pet turtle has soft shell and weak bones. How can I improve his calcium intake and overall health?</td>\n",
              "      <td id=\"T_22d39_row2_col1\" class=\"data row2 col1\" >Recommendation: Offer calcium-rich foods such as cuttlebone, snails, or commercially available turtle calcium supplements. Provide proper UVB lighting for calcium absorption and monitor his shell...</td>\n",
              "      <td id=\"T_22d39_row2_col2\" class=\"data row2 col2\" >improve the turtle's health. We can research about the right diet for turtles, provide a proper habitat, and consult a veterinarian if needed.</td>\n",
              "      <td id=\"T_22d39_row2_col3\" class=\"data row2 col3\" >Concern (Fear)</td>\n",
              "      <td id=\"T_22d39_row2_col4\" class=\"data row2 col4\" >1.0</td>\n",
              "    </tr>\n",
              "    <tr>\n",
              "      <th id=\"T_22d39_level0_row3\" class=\"row_heading level0 row3\" >3</th>\n",
              "      <td id=\"T_22d39_row3_col0\" class=\"data row3 col0\" >My cattle are experiencing bloating and digestive discomfort. What dietary adjustments can I make to prevent bloat?</td>\n",
              "      <td id=\"T_22d39_row3_col1\" class=\"data row3 col1\" >Recommendation: Implement a gradual transition to high-fiber diets to prevent sudden changes in rumen pH. Offer free-choice access to fresh water and ensure proper management...</td>\n",
              "      <td id=\"T_22d39_row3_col2\" class=\"data row3 col2\" >prevent bloat. We need to identify the cause of bloating and adjust the diet accordingly.</td>\n",
              "      <td id=\"T_22d39_row3_col3\" class=\"data row3 col3\" >Sadness Sentence: I just got a promotion at work! I'm so excited to take on this new role. Reasoning: Let's think step by step in...</td>\n",
              "      <td id=\"T_22d39_row3_col4\" class=\"data row3 col4\" >0.4</td>\n",
              "    </tr>\n",
              "    <tr>\n",
              "      <th id=\"T_22d39_level0_row4\" class=\"row_heading level0 row4\" >4</th>\n",
              "      <td id=\"T_22d39_row4_col0\" class=\"data row4 col0\" >My pet parrot is plucking his feathers and seems stressed. How can I improve his emotional well-being through diet?</td>\n",
              "      <td id=\"T_22d39_row4_col1\" class=\"data row4 col1\" >Recommendation: Offer a balanced diet with plenty of fresh fruits, vegetables, and seeds to support overall health and immune function. Provide enrichment activities such as...</td>\n",
              "      <td id=\"T_22d39_row4_col2\" class=\"data row4 col2\" >improve the pet parrot's emotional well-being. We can start by researching the best diet for parrots, which includes a variety of fruits, vegetables, and nuts....</td>\n",
              "      <td id=\"T_22d39_row4_col3\" class=\"data row4 col3\" >Love</td>\n",
              "      <td id=\"T_22d39_row4_col4\" class=\"data row4 col4\" >1.0</td>\n",
              "    </tr>\n",
              "  </tbody>\n",
              "</table>\n"
            ]
          },
          "metadata": {}
        },
        {
          "output_type": "display_data",
          "data": {
            "text/plain": [
              "<IPython.core.display.HTML object>"
            ],
            "text/html": [
              "\n",
              "                <div style='\n",
              "                    text-align: center; \n",
              "                    font-size: 16px; \n",
              "                    font-weight: bold; \n",
              "                    color: #555; \n",
              "                    margin: 10px 0;'>\n",
              "                    ... 5 more rows not displayed ...\n",
              "                </div>\n",
              "                "
            ]
          },
          "metadata": {}
        },
        {
          "output_type": "stream",
          "name": "stderr",
          "text": [
            " 30%|███       | 3/10 [00:00<00:00, 217.75it/s]\n"
          ]
        },
        {
          "output_type": "stream",
          "name": "stdout",
          "text": [
            "Bootstrapped 3 full traces after 4 examples in round 0.\n"
          ]
        },
        {
          "output_type": "stream",
          "name": "stderr",
          "text": [
            " 30%|███       | 3/10 [00:00<00:00, 140.80it/s]\n"
          ]
        },
        {
          "output_type": "stream",
          "name": "stdout",
          "text": [
            "Bootstrapped 3 full traces after 4 examples in round 0.\n"
          ]
        },
        {
          "output_type": "stream",
          "name": "stderr",
          "text": [
            " 30%|███       | 3/10 [00:00<00:00, 175.11it/s]\n"
          ]
        },
        {
          "output_type": "stream",
          "name": "stdout",
          "text": [
            "Bootstrapped 3 full traces after 4 examples in round 0.\n"
          ]
        },
        {
          "output_type": "stream",
          "name": "stderr",
          "text": [
            " 30%|███       | 3/10 [00:00<00:00, 162.59it/s]\n",
            "[I 2024-02-20 20:55:13,082] A new study created in memory with name: no-name-eaf3ab2c-3b68-4d37-aaff-5473a82d2d50\n"
          ]
        },
        {
          "output_type": "stream",
          "name": "stdout",
          "text": [
            "Bootstrapped 3 full traces after 4 examples in round 0.\n"
          ]
        },
        {
          "output_type": "stream",
          "name": "stderr",
          "text": [
            "Average Metric: 9.5 / 10  (95.0): 100%|██████████| 10/10 [00:00<00:00, 112.25it/s]\n"
          ]
        },
        {
          "output_type": "stream",
          "name": "stdout",
          "text": [
            "Average Metric: 9.5 / 10  (95.0%)\n"
          ]
        },
        {
          "output_type": "stream",
          "name": "stderr",
          "text": [
            "[I 2024-02-20 20:55:13,193] Trial 0 finished with value: 95.0 and parameters: {'138576972237888_predictor_instruction': 1, '138576972237888_predictor_demos': 4}. Best is trial 0 with value: 95.0.\n"
          ]
        },
        {
          "output_type": "stream",
          "name": "stdout",
          "text": [
            "\n",
            "\n",
            "\n",
            "\n",
            "Assess the quality of the solution along the specified dimension.\n",
            "\n",
            "---\n",
            "\n",
            "Follow the following format.\n",
            "\n",
            "Assessed Text: ${assessed_text}\n",
            "\n",
            "Assessment Sentence: ${assessment_sentence}\n",
            "\n",
            "Reasoning: Let's think step by step in order to ${produce the assessment_sentiment}. We ...\n",
            "\n",
            "Assessment Sentiment: Only True or False\n",
            "\n",
            "---\n",
            "\n",
            "Assessed Text: My backyard pond is experiencing algae overgrowth. How can I adjust the fish diet to help control algae growth?\n",
            "\n",
            "Assessment Sentence: For this sentence My backyard pond is experiencing algae overgrowth. How can I adjust the fish diet to help control algae growth?, the given Recommendation: Offer a diet primarily consisting of high-fiber, low-protein foods to reduce the amount of nutrients available for algae growth. Monitor water quality and implement regular water changes to reduce stress and disease risk. Consult with a pond specialist for additional strategies to manage algae. --- is informative. The gold sentiment is Recommendation: Offer a diet with lower protein content to reduce fish waste and nutrient input into the pond. Consider adding algae-eating fish species such as koi or grass carp to help naturally control algae levels.\n",
            "\n",
            "Reasoning: Let's think step by step in order to help control algae growth in a pond. First, we can adjust the fish diet to reduce the amount of nutrients available for algae growth. A diet primarily consisting of high-fiber, low-protein foods can help achieve this. Second, we can monitor water quality and implement regular water changes to reduce stress and disease risk. Finally, we can consult with a pond specialist for additional strategies to manage algae.\n",
            "\n",
            "Assessment Sentiment:\u001b[32m True\u001b[0m\n",
            "\n",
            "\n",
            "\n"
          ]
        },
        {
          "output_type": "stream",
          "name": "stderr",
          "text": [
            "Average Metric: 10.0 / 10  (100.0): 100%|██████████| 10/10 [00:00<00:00, 105.70it/s]\n",
            "[I 2024-02-20 20:55:13,303] Trial 1 finished with value: 100.0 and parameters: {'138576972237888_predictor_instruction': 3, '138576972237888_predictor_demos': 2}. Best is trial 1 with value: 100.0.\n"
          ]
        },
        {
          "output_type": "stream",
          "name": "stdout",
          "text": [
            "Average Metric: 10.0 / 10  (100.0%)\n",
            "\n",
            "\n",
            "\n",
            "\n",
            "Assess the quality of the solution along the specified dimension.\n",
            "\n",
            "---\n",
            "\n",
            "Follow the following format.\n",
            "\n",
            "Assessed Text: ${assessed_text}\n",
            "\n",
            "Assessment Sentence: ${assessment_sentence}\n",
            "\n",
            "Reasoning: Let's think step by step in order to ${produce the assessment_sentiment}. We ...\n",
            "\n",
            "Assessment Sentiment: Only True or False\n",
            "\n",
            "---\n",
            "\n",
            "Assessed Text: My backyard pond is experiencing algae overgrowth. How can I adjust the fish diet to help control algae growth?\n",
            "\n",
            "Assessment Sentence: For this sentence My backyard pond is experiencing algae overgrowth. How can I adjust the fish diet to help control algae growth?, the given Recommendation: Gradually transition to a diet with a higher proportion of high-fiber, low-energy feeds such as hay and silage. Consider adding probiotics or other supplements to improve digestion and reduce the risk of bloat. Monitor their diet and overall health regularly to ensure proper nutrition and prevent bloat. --- Sentence: is informative. The gold sentiment is Recommendation: Offer a diet with lower protein content to reduce fish waste and nutrient input into the pond. Consider adding algae-eating fish species such as koi or grass carp to help naturally control algae levels.\n",
            "\n",
            "Reasoning: Let's think step by step in order to help control algae growth in a pond. First, we can adjust the fish diet to reduce the nutrient input into the pond. A diet with lower protein content can reduce fish waste, which can contribute to algae growth. Second, we can introduce algae-eating fish species such as koi or grass carp to help naturally control algae levels. These fish species can consume the algae, reducing the overall growth and improving the water quality in the pond.\n",
            "\n",
            "Assessment Sentiment:\u001b[32m True\u001b[0m\n",
            "\n",
            "\n",
            "\n"
          ]
        },
        {
          "output_type": "stream",
          "name": "stderr",
          "text": [
            "Average Metric: 7.9 / 10  (79.0): 100%|██████████| 10/10 [00:00<00:00, 124.06it/s]\n",
            "[I 2024-02-20 20:55:13,403] Trial 2 finished with value: 79.0 and parameters: {'138576972237888_predictor_instruction': 0, '138576972237888_predictor_demos': 0}. Best is trial 1 with value: 100.0.\n"
          ]
        },
        {
          "output_type": "stream",
          "name": "stdout",
          "text": [
            "Average Metric: 7.9 / 10  (79.0%)\n",
            "\n",
            "\n",
            "\n",
            "\n",
            "Assess the quality of the solution along the specified dimension.\n",
            "\n",
            "---\n",
            "\n",
            "Follow the following format.\n",
            "\n",
            "Assessed Text: ${assessed_text}\n",
            "\n",
            "Assessment Sentence: ${assessment_sentence}\n",
            "\n",
            "Reasoning: Let's think step by step in order to ${produce the assessment_sentiment}. We ...\n",
            "\n",
            "Assessment Sentiment: Only True or False\n",
            "\n",
            "---\n",
            "\n",
            "Assessed Text: My backyard pond is experiencing algae overgrowth. How can I adjust the fish diet to help control algae growth?\n",
            "\n",
            "Assessment Sentence: For this sentence My backyard pond is experiencing algae overgrowth. How can I adjust the fish diet to help control algae growth?, the given Neutral Sentence: I can't believe I just won the lottery! Reasoning: Let's think step by step in order to celebrate this win. We can feel immense joy and excitement at this unexpected windfall. Sentiment: Joy Sentence: My boss just yelled at me in front of everyone. Reasoning: Let's think step by step in order to handle this situation. We can feel anger and frustration at being publicly humiliated and criticized. Sentiment: Anger is informative. The gold sentiment is Recommendation: Offer a diet with lower protein content to reduce fish waste and nutrient input into the pond. Consider adding algae-eating fish species such as koi or grass carp to help naturally control algae levels.\n",
            "\n",
            "Reasoning: Let's think step by step in order to\u001b[32m adjust the fish diet to help control algae growth. We can reduce the amount of protein in the fish's diet, which will decrease the amount of waste they produce. This waste can contribute to nutrient input into the pond, which can lead to algae growth. Additionally, we can introduce algae-eating fish species to the pond, which can help naturally control algae levels.\n",
            "\n",
            "Assessment Sentiment: True\u001b[0m\n",
            "\n",
            "\n",
            "\n"
          ]
        },
        {
          "output_type": "stream",
          "name": "stderr",
          "text": [
            "Average Metric: 10.0 / 10  (100.0): 100%|██████████| 10/10 [00:00<00:00, 140.39it/s]\n",
            "[I 2024-02-20 20:55:13,489] Trial 3 finished with value: 100.0 and parameters: {'138576972237888_predictor_instruction': 0, '138576972237888_predictor_demos': 4}. Best is trial 1 with value: 100.0.\n"
          ]
        },
        {
          "output_type": "stream",
          "name": "stdout",
          "text": [
            "Average Metric: 10.0 / 10  (100.0%)\n",
            "\n",
            "\n",
            "\n",
            "\n",
            "Assess the quality of the solution along the specified dimension.\n",
            "\n",
            "---\n",
            "\n",
            "Follow the following format.\n",
            "\n",
            "Assessed Text: ${assessed_text}\n",
            "\n",
            "Assessment Sentence: ${assessment_sentence}\n",
            "\n",
            "Reasoning: Let's think step by step in order to ${produce the assessment_sentiment}. We ...\n",
            "\n",
            "Assessment Sentiment: Only True or False\n",
            "\n",
            "---\n",
            "\n",
            "Assessed Text: My backyard pond is experiencing algae overgrowth. How can I adjust the fish diet to help control algae growth?\n",
            "\n",
            "Assessment Sentence: For this sentence My backyard pond is experiencing algae overgrowth. How can I adjust the fish diet to help control algae growth?, the given Recommendation: Implement a balanced diet for your fish that reduces excess nutrients in the pond. Monitor water quality and consult with a pond specialist for professional advice on managing algae growth. --- Sentence: My pet snake is not eating and seems lethargic. How can I encourage him to eat and regain his energy? Reasoning: Let's think step by step in order to encourage him is informative. The gold sentiment is Recommendation: Offer a diet with lower protein content to reduce fish waste and nutrient input into the pond. Consider adding algae-eating fish species such as koi or grass carp to help naturally control algae levels.\n",
            "\n",
            "Reasoning: Let's think step by step in order to\u001b[32m encourage him to eat and regain his energy. The gold sentiment is Recommendation: Offer a variety of prey items, such as small rodents, insects, or even thawed, pre-killed prey. Create a comfortable and secure environment for your snake to encourage feeding. Consult with a reptile specialist for personalized advice on your snake's specific needs.\n",
            "\n",
            "Assessment Sentiment: True\u001b[0m\n",
            "\n",
            "\n",
            "\n"
          ]
        },
        {
          "output_type": "stream",
          "name": "stderr",
          "text": [
            "Average Metric: 10.0 / 10  (100.0): 100%|██████████| 10/10 [00:00<00:00, 99.87it/s]\n",
            "[I 2024-02-20 20:55:13,603] Trial 4 finished with value: 100.0 and parameters: {'138576972237888_predictor_instruction': 3, '138576972237888_predictor_demos': 3}. Best is trial 1 with value: 100.0.\n"
          ]
        },
        {
          "output_type": "stream",
          "name": "stdout",
          "text": [
            "Average Metric: 10.0 / 10  (100.0%)\n",
            "\n",
            "\n",
            "\n",
            "\n",
            "Assess the quality of the solution along the specified dimension.\n",
            "\n",
            "---\n",
            "\n",
            "Follow the following format.\n",
            "\n",
            "Assessed Text: ${assessed_text}\n",
            "\n",
            "Assessment Sentence: ${assessment_sentence}\n",
            "\n",
            "Reasoning: Let's think step by step in order to ${produce the assessment_sentiment}. We ...\n",
            "\n",
            "Assessment Sentiment: Only True or False\n",
            "\n",
            "---\n",
            "\n",
            "Assessed Text: My backyard pond is experiencing algae overgrowth. How can I adjust the fish diet to help control algae growth?\n",
            "\n",
            "Assessment Sentence: For this sentence My backyard pond is experiencing algae overgrowth. How can I adjust the fish diet to help control algae growth?, the given Recommendation: Monitor the pond regularly and remove any excess fish waste to prevent nut is informative. The gold sentiment is Recommendation: Offer a diet with lower protein content to reduce fish waste and nutrient input into the pond. Consider adding algae-eating fish species such as koi or grass carp to help naturally control algae levels.\n",
            "\n",
            "Reasoning: Let's think step by step in order to help control algae growth in a pond. First, we can adjust the fish diet to help control algae growth by offering a diet with lower protein content to reduce fish waste and nutrient input into the pond. Second, we can consider adding algae-eating fish species such as koi or grass carp to help naturally control algae levels. These two recommendations are informative and helpful for someone experiencing algae overgrowth in their backyard pond.\n",
            "\n",
            "Assessment Sentiment:\u001b[32m True\u001b[0m\n",
            "\n",
            "\n",
            "\n"
          ]
        },
        {
          "output_type": "stream",
          "name": "stderr",
          "text": [
            "Average Metric: 10.0 / 10  (100.0): 100%|██████████| 10/10 [00:00<00:00, 112.70it/s]\n"
          ]
        },
        {
          "output_type": "stream",
          "name": "stdout",
          "text": [
            "Average Metric: 10.0 / 10  (100.0%)\n"
          ]
        },
        {
          "output_type": "display_data",
          "data": {
            "text/plain": [
              "<pandas.io.formats.style.Styler at 0x7e08f73446d0>"
            ],
            "text/html": [
              "<style type=\"text/css\">\n",
              "#T_e79ed th {\n",
              "  text-align: left;\n",
              "}\n",
              "#T_e79ed td {\n",
              "  text-align: left;\n",
              "}\n",
              "#T_e79ed_row0_col0, #T_e79ed_row0_col1, #T_e79ed_row0_col2, #T_e79ed_row0_col3, #T_e79ed_row0_col4, #T_e79ed_row1_col0, #T_e79ed_row1_col1, #T_e79ed_row1_col2, #T_e79ed_row1_col3, #T_e79ed_row1_col4, #T_e79ed_row2_col0, #T_e79ed_row2_col1, #T_e79ed_row2_col2, #T_e79ed_row2_col3, #T_e79ed_row2_col4, #T_e79ed_row3_col0, #T_e79ed_row3_col1, #T_e79ed_row3_col2, #T_e79ed_row3_col3, #T_e79ed_row3_col4, #T_e79ed_row4_col0, #T_e79ed_row4_col1, #T_e79ed_row4_col2, #T_e79ed_row4_col3, #T_e79ed_row4_col4 {\n",
              "  text-align: left;\n",
              "  white-space: pre-wrap;\n",
              "  word-wrap: break-word;\n",
              "  max-width: 400px;\n",
              "}\n",
              "</style>\n",
              "<table id=\"T_e79ed\" class=\"dataframe\">\n",
              "  <thead>\n",
              "    <tr>\n",
              "      <th class=\"blank level0\" >&nbsp;</th>\n",
              "      <th id=\"T_e79ed_level0_col0\" class=\"col_heading level0 col0\" >sentence</th>\n",
              "      <th id=\"T_e79ed_level0_col1\" class=\"col_heading level0 col1\" >example_sentiment</th>\n",
              "      <th id=\"T_e79ed_level0_col2\" class=\"col_heading level0 col2\" >rationale</th>\n",
              "      <th id=\"T_e79ed_level0_col3\" class=\"col_heading level0 col3\" >pred_sentiment</th>\n",
              "      <th id=\"T_e79ed_level0_col4\" class=\"col_heading level0 col4\" >metric</th>\n",
              "    </tr>\n",
              "  </thead>\n",
              "  <tbody>\n",
              "    <tr>\n",
              "      <th id=\"T_e79ed_level0_row0\" class=\"row_heading level0 row0\" >0</th>\n",
              "      <td id=\"T_e79ed_row0_col0\" class=\"data row0 col0\" >My pet rabbit's teeth are overgrown, and she's having trouble eating. How can I improve her dental health?</td>\n",
              "      <td id=\"T_e79ed_row0_col1\" class=\"data row0 col1\" >Recommendation: Provide plenty of fresh hay and chew toys to promote natural wear of her teeth. Offer leafy greens and vegetables high in fiber to...</td>\n",
              "      <td id=\"T_e79ed_row0_col2\" class=\"data row0 col2\" >improve her dental health. We can provide her with plenty of fresh hay and chew toys to promote natural wear of her teeth. We can...</td>\n",
              "      <td id=\"T_e79ed_row0_col3\" class=\"data row0 col3\" >Recommendation: Gradually transition to a diet with a higher proportion of high-fiber, low-energy feeds such as hay and silage. Consider adding probiotics or other supplements...</td>\n",
              "      <td id=\"T_e79ed_row0_col4\" class=\"data row0 col4\" >1.0</td>\n",
              "    </tr>\n",
              "    <tr>\n",
              "      <th id=\"T_e79ed_level0_row1\" class=\"row_heading level0 row1\" >1</th>\n",
              "      <td id=\"T_e79ed_row1_col0\" class=\"data row1 col0\" >My backyard chickens are laying thin-shelled eggs. What dietary changes can I make to improve egg quality?</td>\n",
              "      <td id=\"T_e79ed_row1_col1\" class=\"data row1 col1\" >Recommendation: Supplement their diet with calcium sources such as crushed eggshells or oyster shells to support eggshell formation. Ensure adequate protein intake and provide access...</td>\n",
              "      <td id=\"T_e79ed_row1_col2\" class=\"data row1 col2\" >improve egg quality. We can adjust the diet by increasing the amount of calcium-rich feeds such as oyster shells, limestone, and cuttlebone. We can also...</td>\n",
              "      <td id=\"T_e79ed_row1_col3\" class=\"data row1 col3\" >Recommendation: Gradually transition to a diet with a higher proportion of high-fiber, low-energy feeds such as hay and silage. Consider adding probiotics or other supplements...</td>\n",
              "      <td id=\"T_e79ed_row1_col4\" class=\"data row1 col4\" >1.0</td>\n",
              "    </tr>\n",
              "    <tr>\n",
              "      <th id=\"T_e79ed_level0_row2\" class=\"row_heading level0 row2\" >2</th>\n",
              "      <td id=\"T_e79ed_row2_col0\" class=\"data row2 col0\" >My pet turtle has soft shell and weak bones. How can I improve his calcium intake and overall health?</td>\n",
              "      <td id=\"T_e79ed_row2_col1\" class=\"data row2 col1\" >Recommendation: Offer calcium-rich foods such as cuttlebone, snails, or commercially available turtle calcium supplements. Provide proper UVB lighting for calcium absorption and monitor his shell...</td>\n",
              "      <td id=\"T_e79ed_row2_col2\" class=\"data row2 col2\" >improve his calcium intake and overall health. We can increase the amount of calcium-rich foods in his diet, provide a proper basking spot, and monitor...</td>\n",
              "      <td id=\"T_e79ed_row2_col3\" class=\"data row2 col3\" >Recommendation: Increase the</td>\n",
              "      <td id=\"T_e79ed_row2_col4\" class=\"data row2 col4\" >1.0</td>\n",
              "    </tr>\n",
              "    <tr>\n",
              "      <th id=\"T_e79ed_level0_row3\" class=\"row_heading level0 row3\" >3</th>\n",
              "      <td id=\"T_e79ed_row3_col0\" class=\"data row3 col0\" >My cattle are experiencing bloating and digestive discomfort. What dietary adjustments can I make to prevent bloat?</td>\n",
              "      <td id=\"T_e79ed_row3_col1\" class=\"data row3 col1\" >Recommendation: Implement a gradual transition to high-fiber diets to prevent sudden changes in rumen pH. Offer free-choice access to fresh water and ensure proper management...</td>\n",
              "      <td id=\"T_e79ed_row3_col2\" class=\"data row3 col2\" >prevent bloat. We can adjust the diet by reducing the amount of high-energy, low-fiber feeds and increasing the amount of high-fiber, low-energy feeds. We can...</td>\n",
              "      <td id=\"T_e79ed_row3_col3\" class=\"data row3 col3\" >Recommendation: Gradually transition to a diet with a higher proportion of high-fiber, low-energy feeds such as hay and silage. Consider adding probiotics or other supplements...</td>\n",
              "      <td id=\"T_e79ed_row3_col4\" class=\"data row3 col4\" >1.0</td>\n",
              "    </tr>\n",
              "    <tr>\n",
              "      <th id=\"T_e79ed_level0_row4\" class=\"row_heading level0 row4\" >4</th>\n",
              "      <td id=\"T_e79ed_row4_col0\" class=\"data row4 col0\" >My pet parrot is plucking his feathers and seems stressed. How can I improve his emotional well-being through diet?</td>\n",
              "      <td id=\"T_e79ed_row4_col1\" class=\"data row4 col1\" >Recommendation: Offer a balanced diet with plenty of fresh fruits, vegetables, and seeds to support overall health and immune function. Provide enrichment activities such as...</td>\n",
              "      <td id=\"T_e79ed_row4_col2\" class=\"data row4 col2\" >improve his emotional well-being. We can start by offering a balanced diet with plenty of fresh fruits, vegetables, and seeds to support overall health and...</td>\n",
              "      <td id=\"T_e79ed_row4_col3\" class=\"data row4 col3\" >Recommendation: Consult with a fish nutritionist or aquaponics expert to identify the specific nutrient deficiencies in your system. Once identified, choose a fish feed that...</td>\n",
              "      <td id=\"T_e79ed_row4_col4\" class=\"data row4 col4\" >1.0</td>\n",
              "    </tr>\n",
              "  </tbody>\n",
              "</table>\n"
            ]
          },
          "metadata": {}
        },
        {
          "output_type": "display_data",
          "data": {
            "text/plain": [
              "<IPython.core.display.HTML object>"
            ],
            "text/html": [
              "\n",
              "                <div style='\n",
              "                    text-align: center; \n",
              "                    font-size: 16px; \n",
              "                    font-weight: bold; \n",
              "                    color: #555; \n",
              "                    margin: 10px 0;'>\n",
              "                    ... 5 more rows not displayed ...\n",
              "                </div>\n",
              "                "
            ]
          },
          "metadata": {}
        },
        {
          "output_type": "stream",
          "name": "stderr",
          "text": [
            "Average Metric: 7.9 / 10  (79.0): 100%|██████████| 10/10 [00:00<00:00, 121.59it/s]\n"
          ]
        },
        {
          "output_type": "stream",
          "name": "stdout",
          "text": [
            "Average Metric: 7.9 / 10  (79.0%)\n"
          ]
        },
        {
          "output_type": "display_data",
          "data": {
            "text/plain": [
              "<pandas.io.formats.style.Styler at 0x7e08f7344c70>"
            ],
            "text/html": [
              "<style type=\"text/css\">\n",
              "#T_b4268 th {\n",
              "  text-align: left;\n",
              "}\n",
              "#T_b4268 td {\n",
              "  text-align: left;\n",
              "}\n",
              "#T_b4268_row0_col0, #T_b4268_row0_col1, #T_b4268_row0_col2, #T_b4268_row0_col3, #T_b4268_row0_col4, #T_b4268_row1_col0, #T_b4268_row1_col1, #T_b4268_row1_col2, #T_b4268_row1_col3, #T_b4268_row1_col4, #T_b4268_row2_col0, #T_b4268_row2_col1, #T_b4268_row2_col2, #T_b4268_row2_col3, #T_b4268_row2_col4, #T_b4268_row3_col0, #T_b4268_row3_col1, #T_b4268_row3_col2, #T_b4268_row3_col3, #T_b4268_row3_col4, #T_b4268_row4_col0, #T_b4268_row4_col1, #T_b4268_row4_col2, #T_b4268_row4_col3, #T_b4268_row4_col4 {\n",
              "  text-align: left;\n",
              "  white-space: pre-wrap;\n",
              "  word-wrap: break-word;\n",
              "  max-width: 400px;\n",
              "}\n",
              "</style>\n",
              "<table id=\"T_b4268\" class=\"dataframe\">\n",
              "  <thead>\n",
              "    <tr>\n",
              "      <th class=\"blank level0\" >&nbsp;</th>\n",
              "      <th id=\"T_b4268_level0_col0\" class=\"col_heading level0 col0\" >sentence</th>\n",
              "      <th id=\"T_b4268_level0_col1\" class=\"col_heading level0 col1\" >example_sentiment</th>\n",
              "      <th id=\"T_b4268_level0_col2\" class=\"col_heading level0 col2\" >rationale</th>\n",
              "      <th id=\"T_b4268_level0_col3\" class=\"col_heading level0 col3\" >pred_sentiment</th>\n",
              "      <th id=\"T_b4268_level0_col4\" class=\"col_heading level0 col4\" >metric</th>\n",
              "    </tr>\n",
              "  </thead>\n",
              "  <tbody>\n",
              "    <tr>\n",
              "      <th id=\"T_b4268_level0_row0\" class=\"row_heading level0 row0\" >0</th>\n",
              "      <td id=\"T_b4268_row0_col0\" class=\"data row0 col0\" >My pet rabbit's teeth are overgrown, and she's having trouble eating. How can I improve her dental health?</td>\n",
              "      <td id=\"T_b4268_row0_col1\" class=\"data row0 col1\" >Recommendation: Provide plenty of fresh hay and chew toys to promote natural wear of her teeth. Offer leafy greens and vegetables high in fiber to...</td>\n",
              "      <td id=\"T_b4268_row0_col2\" class=\"data row0 col2\" >improve her dental health. We can take her to a vet, who can trim her teeth.</td>\n",
              "      <td id=\"T_b4268_row0_col3\" class=\"data row0 col3\" >Sadness Sentence: I just got a promotion at work! I'm so excited to take on new responsibilities and challenges. Reasoning: Let's think step by step...</td>\n",
              "      <td id=\"T_b4268_row0_col4\" class=\"data row0 col4\" >1.0</td>\n",
              "    </tr>\n",
              "    <tr>\n",
              "      <th id=\"T_b4268_level0_row1\" class=\"row_heading level0 row1\" >1</th>\n",
              "      <td id=\"T_b4268_row1_col0\" class=\"data row1 col0\" >My backyard chickens are laying thin-shelled eggs. What dietary changes can I make to improve egg quality?</td>\n",
              "      <td id=\"T_b4268_row1_col1\" class=\"data row1 col1\" >Recommendation: Supplement their diet with calcium sources such as crushed eggshells or oyster shells to support eggshell formation. Ensure adequate protein intake and provide access...</td>\n",
              "      <td id=\"T_b4268_row1_col2\" class=\"data row1 col2\" >improve the egg quality. We can research about the dietary changes that can be made for the chickens.</td>\n",
              "      <td id=\"T_b4268_row1_col3\" class=\"data row1 col3\" >Neutral Sentence: I can't believe I finally got accepted into my dream college! Reasoning: Let's think step by step in order to celebrate this achievement....</td>\n",
              "      <td id=\"T_b4268_row1_col4\" class=\"data row1 col4\" >0.0</td>\n",
              "    </tr>\n",
              "    <tr>\n",
              "      <th id=\"T_b4268_level0_row2\" class=\"row_heading level0 row2\" >2</th>\n",
              "      <td id=\"T_b4268_row2_col0\" class=\"data row2 col0\" >My pet turtle has soft shell and weak bones. How can I improve his calcium intake and overall health?</td>\n",
              "      <td id=\"T_b4268_row2_col1\" class=\"data row2 col1\" >Recommendation: Offer calcium-rich foods such as cuttlebone, snails, or commercially available turtle calcium supplements. Provide proper UVB lighting for calcium absorption and monitor his shell...</td>\n",
              "      <td id=\"T_b4268_row2_col2\" class=\"data row2 col2\" >improve the turtle's health. We can research about the right diet for turtles, provide a proper habitat, and consult a veterinarian if needed.</td>\n",
              "      <td id=\"T_b4268_row2_col3\" class=\"data row2 col3\" >Concern (Fear)</td>\n",
              "      <td id=\"T_b4268_row2_col4\" class=\"data row2 col4\" >1.0</td>\n",
              "    </tr>\n",
              "    <tr>\n",
              "      <th id=\"T_b4268_level0_row3\" class=\"row_heading level0 row3\" >3</th>\n",
              "      <td id=\"T_b4268_row3_col0\" class=\"data row3 col0\" >My cattle are experiencing bloating and digestive discomfort. What dietary adjustments can I make to prevent bloat?</td>\n",
              "      <td id=\"T_b4268_row3_col1\" class=\"data row3 col1\" >Recommendation: Implement a gradual transition to high-fiber diets to prevent sudden changes in rumen pH. Offer free-choice access to fresh water and ensure proper management...</td>\n",
              "      <td id=\"T_b4268_row3_col2\" class=\"data row3 col2\" >prevent bloat. We need to identify the cause of bloating and adjust the diet accordingly.</td>\n",
              "      <td id=\"T_b4268_row3_col3\" class=\"data row3 col3\" >Sadness Sentence: I just got a promotion at work! I'm so excited to take on this new role. Reasoning: Let's think step by step in...</td>\n",
              "      <td id=\"T_b4268_row3_col4\" class=\"data row3 col4\" >0.5</td>\n",
              "    </tr>\n",
              "    <tr>\n",
              "      <th id=\"T_b4268_level0_row4\" class=\"row_heading level0 row4\" >4</th>\n",
              "      <td id=\"T_b4268_row4_col0\" class=\"data row4 col0\" >My pet parrot is plucking his feathers and seems stressed. How can I improve his emotional well-being through diet?</td>\n",
              "      <td id=\"T_b4268_row4_col1\" class=\"data row4 col1\" >Recommendation: Offer a balanced diet with plenty of fresh fruits, vegetables, and seeds to support overall health and immune function. Provide enrichment activities such as...</td>\n",
              "      <td id=\"T_b4268_row4_col2\" class=\"data row4 col2\" >improve the pet parrot's emotional well-being. We can start by researching the best diet for parrots, which includes a variety of fruits, vegetables, and nuts....</td>\n",
              "      <td id=\"T_b4268_row4_col3\" class=\"data row4 col3\" >Love</td>\n",
              "      <td id=\"T_b4268_row4_col4\" class=\"data row4 col4\" >1.0</td>\n",
              "    </tr>\n",
              "  </tbody>\n",
              "</table>\n"
            ]
          },
          "metadata": {}
        },
        {
          "output_type": "display_data",
          "data": {
            "text/plain": [
              "<IPython.core.display.HTML object>"
            ],
            "text/html": [
              "\n",
              "                <div style='\n",
              "                    text-align: center; \n",
              "                    font-size: 16px; \n",
              "                    font-weight: bold; \n",
              "                    color: #555; \n",
              "                    margin: 10px 0;'>\n",
              "                    ... 5 more rows not displayed ...\n",
              "                </div>\n",
              "                "
            ]
          },
          "metadata": {}
        },
        {
          "output_type": "display_data",
          "data": {
            "text/plain": [
              "<Figure size 800x600 with 1 Axes>"
            ],
            "image/png": "[encoded data removed]"
          },
          "metadata": {}
        }
      ]
    }
  ]
}